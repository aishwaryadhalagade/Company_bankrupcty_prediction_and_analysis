{
  "nbformat": 4,
  "nbformat_minor": 0,
  "metadata": {
    "colab": {
      "name": "Company Bankruptcy_data_analysis_feature_selection.ipynb",
      "provenance": [],
      "collapsed_sections": []
    },
    "kernelspec": {
      "name": "python3",
      "display_name": "Python 3"
    }
  },
  "cells": [
    {
      "cell_type": "markdown",
      "metadata": {
        "id": "k5EDnj3x0hQi"
      },
      "source": [
        "### Compony Bankruptcy data analyis and feature selection technique for getting dataframe with less number and more predictive features for bankrupcy chance prediction of company."
      ]
    },
    {
      "cell_type": "code",
      "metadata": {
        "id": "MSi6mO920dvB"
      },
      "source": [
        "import pandas as pd\n",
        "import numpy as np\n",
        "import matplotlib.pyplot as plt\n",
        "import seaborn as sns"
      ],
      "execution_count": 1,
      "outputs": []
    },
    {
      "cell_type": "markdown",
      "metadata": {
        "id": "BkJhz_xRb1HC"
      },
      "source": [
        "### Data Exploration"
      ]
    },
    {
      "cell_type": "code",
      "metadata": {
        "id": "41j5CBAA1wG1",
        "colab": {
          "base_uri": "https://localhost:8080/",
          "height": 378
        },
        "outputId": "38e1576d-d38a-40d3-b568-2180a2063b6e"
      },
      "source": [
        "data = pd.read_csv('drive/MyDrive/Datasets/bankeuptcy.csv')\n",
        "data.head()"
      ],
      "execution_count": 2,
      "outputs": [
        {
          "output_type": "execute_result",
          "data": {
            "text/html": [
              "<div>\n",
              "<style scoped>\n",
              "    .dataframe tbody tr th:only-of-type {\n",
              "        vertical-align: middle;\n",
              "    }\n",
              "\n",
              "    .dataframe tbody tr th {\n",
              "        vertical-align: top;\n",
              "    }\n",
              "\n",
              "    .dataframe thead th {\n",
              "        text-align: right;\n",
              "    }\n",
              "</style>\n",
              "<table border=\"1\" class=\"dataframe\">\n",
              "  <thead>\n",
              "    <tr style=\"text-align: right;\">\n",
              "      <th></th>\n",
              "      <th>Bankrupt?</th>\n",
              "      <th>ROA(C) before interest and depreciation before interest</th>\n",
              "      <th>ROA(A) before interest and % after tax</th>\n",
              "      <th>ROA(B) before interest and depreciation after tax</th>\n",
              "      <th>operating gross margin</th>\n",
              "      <th>realized sales gross margin</th>\n",
              "      <th>operating profit rate</th>\n",
              "      <th>tax Pre-net interest rate</th>\n",
              "      <th>after-tax net interest rate</th>\n",
              "      <th>non-industry income and expenditure/revenue</th>\n",
              "      <th>continuous interest rate (after tax)</th>\n",
              "      <th>operating expense rate</th>\n",
              "      <th>research and development expense rate</th>\n",
              "      <th>cash flow rate</th>\n",
              "      <th>interest-bearing debt interest rate</th>\n",
              "      <th>tax rate (A)</th>\n",
              "      <th>per Net Share Value (B)</th>\n",
              "      <th>Net Value Per Share (A)</th>\n",
              "      <th>Net Value Per Share (C)</th>\n",
              "      <th>Persistent EPS in the Last Four Seasons</th>\n",
              "      <th>Cash Flow Per Share</th>\n",
              "      <th>Revenue Per Share (Yuan)</th>\n",
              "      <th>Operating Profit Per Share (Yuan)</th>\n",
              "      <th>Per Share Net profit before tax (yuan)</th>\n",
              "      <th>realized sales gross profit growth rate</th>\n",
              "      <th>operating profit growth rate</th>\n",
              "      <th>after-tax net profit growth rate</th>\n",
              "      <th>regular net profit growth rate</th>\n",
              "      <th>continuous net profit growth rate</th>\n",
              "      <th>total asset growth rate</th>\n",
              "      <th>net value growth rate</th>\n",
              "      <th>total asset return growth rate Ratio</th>\n",
              "      <th>cash reinvestment %</th>\n",
              "      <th>current ratio</th>\n",
              "      <th>quick ratio</th>\n",
              "      <th>interest expense ratio</th>\n",
              "      <th>total debt/total net worth</th>\n",
              "      <th>debt ratio %</th>\n",
              "      <th>net worth/assets</th>\n",
              "      <th>long-term fund suitability ratio (A)</th>\n",
              "      <th>...</th>\n",
              "      <th>current assets/total assets</th>\n",
              "      <th>cash / total assets</th>\n",
              "      <th>Quick asset /current liabilities</th>\n",
              "      <th>cash / current liability</th>\n",
              "      <th>current liability to assets</th>\n",
              "      <th>operating funds to liability</th>\n",
              "      <th>Inventory/working capital</th>\n",
              "      <th>Inventory/current liability</th>\n",
              "      <th>current liability / liability</th>\n",
              "      <th>working capital/equity</th>\n",
              "      <th>current liability/equity</th>\n",
              "      <th>long-term liability to current assets</th>\n",
              "      <th>Retained Earnings/Total assets</th>\n",
              "      <th>total income / total expense</th>\n",
              "      <th>total expense /assets</th>\n",
              "      <th>current asset turnover rate</th>\n",
              "      <th>quick asset turnover rate</th>\n",
              "      <th>working capitcal turnover rate</th>\n",
              "      <th>cash turnover rate</th>\n",
              "      <th>Cash flow to Sales</th>\n",
              "      <th>fix assets to assets</th>\n",
              "      <th>current liability to liability</th>\n",
              "      <th>current liability to equity</th>\n",
              "      <th>equity to long-term liability</th>\n",
              "      <th>Cash flow to total assets</th>\n",
              "      <th>cash flow to liability</th>\n",
              "      <th>CFO to ASSETS</th>\n",
              "      <th>cash flow to equity</th>\n",
              "      <th>current liabilities to current assets</th>\n",
              "      <th>one if total liabilities exceeds total assets zero otherwise</th>\n",
              "      <th>net income to total assets</th>\n",
              "      <th>total assets to GNP price</th>\n",
              "      <th>No-credit interval</th>\n",
              "      <th>Gross profit to Sales</th>\n",
              "      <th>Net income to stockholder's Equity</th>\n",
              "      <th>liability to equity</th>\n",
              "      <th>Degree of financial leverage (DFL)</th>\n",
              "      <th>Interest coverage ratio( Interest expense to EBIT )</th>\n",
              "      <th>one if net income was negative for the last two year zero otherwise</th>\n",
              "      <th>equity to liability</th>\n",
              "    </tr>\n",
              "  </thead>\n",
              "  <tbody>\n",
              "    <tr>\n",
              "      <th>0</th>\n",
              "      <td>1</td>\n",
              "      <td>0.370594</td>\n",
              "      <td>0.424389</td>\n",
              "      <td>0.405750</td>\n",
              "      <td>0.601457</td>\n",
              "      <td>0.601457</td>\n",
              "      <td>0.998969</td>\n",
              "      <td>0.796887</td>\n",
              "      <td>0.808809</td>\n",
              "      <td>0.302646</td>\n",
              "      <td>0.780985</td>\n",
              "      <td>1.256969e-04</td>\n",
              "      <td>0.0</td>\n",
              "      <td>0.458143</td>\n",
              "      <td>0.000725</td>\n",
              "      <td>0.0</td>\n",
              "      <td>0.147950</td>\n",
              "      <td>0.147950</td>\n",
              "      <td>0.147950</td>\n",
              "      <td>0.169141</td>\n",
              "      <td>0.311664</td>\n",
              "      <td>0.017560</td>\n",
              "      <td>0.095921</td>\n",
              "      <td>0.138736</td>\n",
              "      <td>0.022102</td>\n",
              "      <td>0.848195</td>\n",
              "      <td>0.688979</td>\n",
              "      <td>0.688979</td>\n",
              "      <td>0.217535</td>\n",
              "      <td>4.980000e+09</td>\n",
              "      <td>0.000327</td>\n",
              "      <td>0.263100</td>\n",
              "      <td>0.363725</td>\n",
              "      <td>0.002259</td>\n",
              "      <td>0.001208</td>\n",
              "      <td>0.629951</td>\n",
              "      <td>0.021266</td>\n",
              "      <td>0.207576</td>\n",
              "      <td>0.792424</td>\n",
              "      <td>0.005024</td>\n",
              "      <td>...</td>\n",
              "      <td>0.190643</td>\n",
              "      <td>0.004094</td>\n",
              "      <td>0.001997</td>\n",
              "      <td>1.473360e-04</td>\n",
              "      <td>0.147308</td>\n",
              "      <td>0.334015</td>\n",
              "      <td>0.276920</td>\n",
              "      <td>0.001036</td>\n",
              "      <td>0.676269</td>\n",
              "      <td>0.721275</td>\n",
              "      <td>0.339077</td>\n",
              "      <td>0.025592</td>\n",
              "      <td>0.903225</td>\n",
              "      <td>0.002022</td>\n",
              "      <td>0.064856</td>\n",
              "      <td>7.010000e+08</td>\n",
              "      <td>6.550000e+09</td>\n",
              "      <td>0.593831</td>\n",
              "      <td>4.580000e+08</td>\n",
              "      <td>0.671568</td>\n",
              "      <td>0.424206</td>\n",
              "      <td>0.676269</td>\n",
              "      <td>0.339077</td>\n",
              "      <td>0.126549</td>\n",
              "      <td>0.637555</td>\n",
              "      <td>0.458609</td>\n",
              "      <td>0.520382</td>\n",
              "      <td>0.312905</td>\n",
              "      <td>0.118250</td>\n",
              "      <td>0</td>\n",
              "      <td>0.716845</td>\n",
              "      <td>0.009219</td>\n",
              "      <td>0.622879</td>\n",
              "      <td>0.601453</td>\n",
              "      <td>0.827890</td>\n",
              "      <td>0.290202</td>\n",
              "      <td>0.026601</td>\n",
              "      <td>0.564050</td>\n",
              "      <td>1</td>\n",
              "      <td>0.016469</td>\n",
              "    </tr>\n",
              "    <tr>\n",
              "      <th>1</th>\n",
              "      <td>1</td>\n",
              "      <td>0.464291</td>\n",
              "      <td>0.538214</td>\n",
              "      <td>0.516730</td>\n",
              "      <td>0.610235</td>\n",
              "      <td>0.610235</td>\n",
              "      <td>0.998946</td>\n",
              "      <td>0.797380</td>\n",
              "      <td>0.809301</td>\n",
              "      <td>0.303556</td>\n",
              "      <td>0.781506</td>\n",
              "      <td>2.897851e-04</td>\n",
              "      <td>0.0</td>\n",
              "      <td>0.461867</td>\n",
              "      <td>0.000647</td>\n",
              "      <td>0.0</td>\n",
              "      <td>0.182251</td>\n",
              "      <td>0.182251</td>\n",
              "      <td>0.182251</td>\n",
              "      <td>0.208944</td>\n",
              "      <td>0.318137</td>\n",
              "      <td>0.021144</td>\n",
              "      <td>0.093722</td>\n",
              "      <td>0.169918</td>\n",
              "      <td>0.022080</td>\n",
              "      <td>0.848088</td>\n",
              "      <td>0.689693</td>\n",
              "      <td>0.689702</td>\n",
              "      <td>0.217620</td>\n",
              "      <td>6.110000e+09</td>\n",
              "      <td>0.000443</td>\n",
              "      <td>0.264516</td>\n",
              "      <td>0.376709</td>\n",
              "      <td>0.006016</td>\n",
              "      <td>0.004039</td>\n",
              "      <td>0.635172</td>\n",
              "      <td>0.012502</td>\n",
              "      <td>0.171176</td>\n",
              "      <td>0.828824</td>\n",
              "      <td>0.005059</td>\n",
              "      <td>...</td>\n",
              "      <td>0.182419</td>\n",
              "      <td>0.014948</td>\n",
              "      <td>0.004136</td>\n",
              "      <td>1.383910e-03</td>\n",
              "      <td>0.056963</td>\n",
              "      <td>0.341106</td>\n",
              "      <td>0.289642</td>\n",
              "      <td>0.005210</td>\n",
              "      <td>0.308589</td>\n",
              "      <td>0.731975</td>\n",
              "      <td>0.329740</td>\n",
              "      <td>0.023947</td>\n",
              "      <td>0.931065</td>\n",
              "      <td>0.002226</td>\n",
              "      <td>0.025516</td>\n",
              "      <td>1.065198e-04</td>\n",
              "      <td>7.700000e+09</td>\n",
              "      <td>0.593916</td>\n",
              "      <td>2.490000e+09</td>\n",
              "      <td>0.671570</td>\n",
              "      <td>0.468828</td>\n",
              "      <td>0.308589</td>\n",
              "      <td>0.329740</td>\n",
              "      <td>0.120916</td>\n",
              "      <td>0.641100</td>\n",
              "      <td>0.459001</td>\n",
              "      <td>0.567101</td>\n",
              "      <td>0.314163</td>\n",
              "      <td>0.047775</td>\n",
              "      <td>0</td>\n",
              "      <td>0.795297</td>\n",
              "      <td>0.008323</td>\n",
              "      <td>0.623652</td>\n",
              "      <td>0.610237</td>\n",
              "      <td>0.839969</td>\n",
              "      <td>0.283846</td>\n",
              "      <td>0.264577</td>\n",
              "      <td>0.570175</td>\n",
              "      <td>1</td>\n",
              "      <td>0.020794</td>\n",
              "    </tr>\n",
              "    <tr>\n",
              "      <th>2</th>\n",
              "      <td>1</td>\n",
              "      <td>0.426071</td>\n",
              "      <td>0.499019</td>\n",
              "      <td>0.472295</td>\n",
              "      <td>0.601450</td>\n",
              "      <td>0.601364</td>\n",
              "      <td>0.998857</td>\n",
              "      <td>0.796403</td>\n",
              "      <td>0.808388</td>\n",
              "      <td>0.302035</td>\n",
              "      <td>0.780284</td>\n",
              "      <td>2.361297e-04</td>\n",
              "      <td>25500000.0</td>\n",
              "      <td>0.458521</td>\n",
              "      <td>0.000790</td>\n",
              "      <td>0.0</td>\n",
              "      <td>0.177911</td>\n",
              "      <td>0.177911</td>\n",
              "      <td>0.193713</td>\n",
              "      <td>0.180581</td>\n",
              "      <td>0.307102</td>\n",
              "      <td>0.005944</td>\n",
              "      <td>0.092338</td>\n",
              "      <td>0.142803</td>\n",
              "      <td>0.022760</td>\n",
              "      <td>0.848094</td>\n",
              "      <td>0.689463</td>\n",
              "      <td>0.689470</td>\n",
              "      <td>0.217601</td>\n",
              "      <td>7.280000e+09</td>\n",
              "      <td>0.000396</td>\n",
              "      <td>0.264184</td>\n",
              "      <td>0.368913</td>\n",
              "      <td>0.011543</td>\n",
              "      <td>0.005348</td>\n",
              "      <td>0.629631</td>\n",
              "      <td>0.021248</td>\n",
              "      <td>0.207516</td>\n",
              "      <td>0.792484</td>\n",
              "      <td>0.005100</td>\n",
              "      <td>...</td>\n",
              "      <td>0.602806</td>\n",
              "      <td>0.000991</td>\n",
              "      <td>0.006302</td>\n",
              "      <td>5.340000e+09</td>\n",
              "      <td>0.098162</td>\n",
              "      <td>0.336731</td>\n",
              "      <td>0.277456</td>\n",
              "      <td>0.013879</td>\n",
              "      <td>0.446027</td>\n",
              "      <td>0.742729</td>\n",
              "      <td>0.334777</td>\n",
              "      <td>0.003715</td>\n",
              "      <td>0.909903</td>\n",
              "      <td>0.002060</td>\n",
              "      <td>0.021387</td>\n",
              "      <td>1.791094e-03</td>\n",
              "      <td>1.022676e-03</td>\n",
              "      <td>0.594502</td>\n",
              "      <td>7.610000e+08</td>\n",
              "      <td>0.671571</td>\n",
              "      <td>0.276179</td>\n",
              "      <td>0.446027</td>\n",
              "      <td>0.334777</td>\n",
              "      <td>0.117922</td>\n",
              "      <td>0.642765</td>\n",
              "      <td>0.459254</td>\n",
              "      <td>0.538491</td>\n",
              "      <td>0.314515</td>\n",
              "      <td>0.025346</td>\n",
              "      <td>0</td>\n",
              "      <td>0.774670</td>\n",
              "      <td>0.040003</td>\n",
              "      <td>0.623841</td>\n",
              "      <td>0.601449</td>\n",
              "      <td>0.836774</td>\n",
              "      <td>0.290189</td>\n",
              "      <td>0.026555</td>\n",
              "      <td>0.563706</td>\n",
              "      <td>1</td>\n",
              "      <td>0.016474</td>\n",
              "    </tr>\n",
              "    <tr>\n",
              "      <th>3</th>\n",
              "      <td>1</td>\n",
              "      <td>0.399844</td>\n",
              "      <td>0.451265</td>\n",
              "      <td>0.457733</td>\n",
              "      <td>0.583541</td>\n",
              "      <td>0.583541</td>\n",
              "      <td>0.998700</td>\n",
              "      <td>0.796967</td>\n",
              "      <td>0.808966</td>\n",
              "      <td>0.303350</td>\n",
              "      <td>0.781241</td>\n",
              "      <td>1.078888e-04</td>\n",
              "      <td>0.0</td>\n",
              "      <td>0.465705</td>\n",
              "      <td>0.000449</td>\n",
              "      <td>0.0</td>\n",
              "      <td>0.154187</td>\n",
              "      <td>0.154187</td>\n",
              "      <td>0.154187</td>\n",
              "      <td>0.193722</td>\n",
              "      <td>0.321674</td>\n",
              "      <td>0.014368</td>\n",
              "      <td>0.077762</td>\n",
              "      <td>0.148603</td>\n",
              "      <td>0.022046</td>\n",
              "      <td>0.848005</td>\n",
              "      <td>0.689110</td>\n",
              "      <td>0.689110</td>\n",
              "      <td>0.217568</td>\n",
              "      <td>4.880000e+09</td>\n",
              "      <td>0.000382</td>\n",
              "      <td>0.263371</td>\n",
              "      <td>0.384077</td>\n",
              "      <td>0.004194</td>\n",
              "      <td>0.002896</td>\n",
              "      <td>0.630228</td>\n",
              "      <td>0.009572</td>\n",
              "      <td>0.151465</td>\n",
              "      <td>0.848535</td>\n",
              "      <td>0.005047</td>\n",
              "      <td>...</td>\n",
              "      <td>0.225815</td>\n",
              "      <td>0.018851</td>\n",
              "      <td>0.002961</td>\n",
              "      <td>1.010646e-03</td>\n",
              "      <td>0.098715</td>\n",
              "      <td>0.348716</td>\n",
              "      <td>0.276580</td>\n",
              "      <td>0.003540</td>\n",
              "      <td>0.615848</td>\n",
              "      <td>0.729825</td>\n",
              "      <td>0.331509</td>\n",
              "      <td>0.022165</td>\n",
              "      <td>0.906902</td>\n",
              "      <td>0.001831</td>\n",
              "      <td>0.024161</td>\n",
              "      <td>8.140000e+09</td>\n",
              "      <td>6.050000e+09</td>\n",
              "      <td>0.593889</td>\n",
              "      <td>2.030000e+09</td>\n",
              "      <td>0.671519</td>\n",
              "      <td>0.559144</td>\n",
              "      <td>0.615848</td>\n",
              "      <td>0.331509</td>\n",
              "      <td>0.120760</td>\n",
              "      <td>0.579039</td>\n",
              "      <td>0.448518</td>\n",
              "      <td>0.604105</td>\n",
              "      <td>0.302382</td>\n",
              "      <td>0.067250</td>\n",
              "      <td>0</td>\n",
              "      <td>0.739555</td>\n",
              "      <td>0.003252</td>\n",
              "      <td>0.622929</td>\n",
              "      <td>0.583538</td>\n",
              "      <td>0.834697</td>\n",
              "      <td>0.281721</td>\n",
              "      <td>0.026697</td>\n",
              "      <td>0.564663</td>\n",
              "      <td>1</td>\n",
              "      <td>0.023982</td>\n",
              "    </tr>\n",
              "    <tr>\n",
              "      <th>4</th>\n",
              "      <td>1</td>\n",
              "      <td>0.465022</td>\n",
              "      <td>0.538432</td>\n",
              "      <td>0.522298</td>\n",
              "      <td>0.598783</td>\n",
              "      <td>0.598783</td>\n",
              "      <td>0.998973</td>\n",
              "      <td>0.797366</td>\n",
              "      <td>0.809304</td>\n",
              "      <td>0.303475</td>\n",
              "      <td>0.781550</td>\n",
              "      <td>7.890000e+09</td>\n",
              "      <td>0.0</td>\n",
              "      <td>0.462746</td>\n",
              "      <td>0.000686</td>\n",
              "      <td>0.0</td>\n",
              "      <td>0.167502</td>\n",
              "      <td>0.167502</td>\n",
              "      <td>0.167502</td>\n",
              "      <td>0.212537</td>\n",
              "      <td>0.319162</td>\n",
              "      <td>0.029690</td>\n",
              "      <td>0.096898</td>\n",
              "      <td>0.168412</td>\n",
              "      <td>0.022096</td>\n",
              "      <td>0.848258</td>\n",
              "      <td>0.689697</td>\n",
              "      <td>0.689697</td>\n",
              "      <td>0.217626</td>\n",
              "      <td>5.510000e+09</td>\n",
              "      <td>0.000439</td>\n",
              "      <td>0.265218</td>\n",
              "      <td>0.379690</td>\n",
              "      <td>0.006022</td>\n",
              "      <td>0.003727</td>\n",
              "      <td>0.636055</td>\n",
              "      <td>0.005150</td>\n",
              "      <td>0.106509</td>\n",
              "      <td>0.893491</td>\n",
              "      <td>0.005303</td>\n",
              "      <td>...</td>\n",
              "      <td>0.358380</td>\n",
              "      <td>0.014161</td>\n",
              "      <td>0.004275</td>\n",
              "      <td>6.804636e-04</td>\n",
              "      <td>0.110195</td>\n",
              "      <td>0.344639</td>\n",
              "      <td>0.287913</td>\n",
              "      <td>0.004869</td>\n",
              "      <td>0.975007</td>\n",
              "      <td>0.732000</td>\n",
              "      <td>0.330726</td>\n",
              "      <td>0.000000</td>\n",
              "      <td>0.913850</td>\n",
              "      <td>0.002224</td>\n",
              "      <td>0.026385</td>\n",
              "      <td>6.680000e+09</td>\n",
              "      <td>5.050000e+09</td>\n",
              "      <td>0.593915</td>\n",
              "      <td>8.240000e+08</td>\n",
              "      <td>0.671563</td>\n",
              "      <td>0.309555</td>\n",
              "      <td>0.975007</td>\n",
              "      <td>0.330726</td>\n",
              "      <td>0.110933</td>\n",
              "      <td>0.622374</td>\n",
              "      <td>0.454411</td>\n",
              "      <td>0.578469</td>\n",
              "      <td>0.311567</td>\n",
              "      <td>0.047725</td>\n",
              "      <td>0</td>\n",
              "      <td>0.795016</td>\n",
              "      <td>0.003878</td>\n",
              "      <td>0.623521</td>\n",
              "      <td>0.598782</td>\n",
              "      <td>0.839973</td>\n",
              "      <td>0.278514</td>\n",
              "      <td>0.024752</td>\n",
              "      <td>0.575617</td>\n",
              "      <td>1</td>\n",
              "      <td>0.035490</td>\n",
              "    </tr>\n",
              "  </tbody>\n",
              "</table>\n",
              "<p>5 rows × 96 columns</p>\n",
              "</div>"
            ],
            "text/plain": [
              "   Bankrupt?  ...  equity to liability\n",
              "0          1  ...             0.016469\n",
              "1          1  ...             0.020794\n",
              "2          1  ...             0.016474\n",
              "3          1  ...             0.023982\n",
              "4          1  ...             0.035490\n",
              "\n",
              "[5 rows x 96 columns]"
            ]
          },
          "metadata": {
            "tags": []
          },
          "execution_count": 2
        }
      ]
    },
    {
      "cell_type": "code",
      "metadata": {
        "id": "TtmyzEHK2sbU",
        "colab": {
          "base_uri": "https://localhost:8080/"
        },
        "outputId": "9feede59-7a0e-4776-be6c-e9074032b580"
      },
      "source": [
        "data.isnull().sum().any()"
      ],
      "execution_count": 3,
      "outputs": [
        {
          "output_type": "execute_result",
          "data": {
            "text/plain": [
              "False"
            ]
          },
          "metadata": {
            "tags": []
          },
          "execution_count": 3
        }
      ]
    },
    {
      "cell_type": "markdown",
      "metadata": {
        "id": "Kcc58PRd3ChU"
      },
      "source": [
        " Seperating the attributes and label columns"
      ]
    },
    {
      "cell_type": "code",
      "metadata": {
        "id": "E_xjViBm263z"
      },
      "source": [
        "y = data['Bankrupt?']\n",
        "data_X = data.drop(['Bankrupt?'],axis = 1)"
      ],
      "execution_count": 4,
      "outputs": []
    },
    {
      "cell_type": "markdown",
      "metadata": {
        "id": "tJMBXhDc4ObY"
      },
      "source": [
        "###Feature Selection"
      ]
    },
    {
      "cell_type": "markdown",
      "metadata": {
        "id": "4E1QYMww5Xfc"
      },
      "source": [
        "1. Removing Columns with very low variance value"
      ]
    },
    {
      "cell_type": "code",
      "metadata": {
        "id": "lsmWY0MC3e0H",
        "colab": {
          "base_uri": "https://localhost:8080/",
          "height": 402
        },
        "outputId": "b43efb2c-ca25-479b-ff6d-eb42d4d60903"
      },
      "source": [
        "data_X_mean = np.mean(data_X, axis = 0)\n",
        "variance = np.var(data_X/data_X_mean,axis = 0)\n",
        "variance_df = pd.DataFrame(variance, columns= ['Variance'])\n",
        "variance_df.sort_values(by = 'Variance')"
      ],
      "execution_count": 5,
      "outputs": [
        {
          "output_type": "execute_result",
          "data": {
            "text/html": [
              "<div>\n",
              "<style scoped>\n",
              "    .dataframe tbody tr th:only-of-type {\n",
              "        vertical-align: middle;\n",
              "    }\n",
              "\n",
              "    .dataframe tbody tr th {\n",
              "        vertical-align: top;\n",
              "    }\n",
              "\n",
              "    .dataframe thead th {\n",
              "        text-align: right;\n",
              "    }\n",
              "</style>\n",
              "<table border=\"1\" class=\"dataframe\">\n",
              "  <thead>\n",
              "    <tr style=\"text-align: right;\">\n",
              "      <th></th>\n",
              "      <th>Variance</th>\n",
              "    </tr>\n",
              "  </thead>\n",
              "  <tbody>\n",
              "    <tr>\n",
              "      <th>one if net income was negative for the last two year zero otherwise</th>\n",
              "      <td>0.000000</td>\n",
              "    </tr>\n",
              "    <tr>\n",
              "      <th>operating profit growth rate</th>\n",
              "      <td>0.000161</td>\n",
              "    </tr>\n",
              "    <tr>\n",
              "      <th>operating profit rate</th>\n",
              "      <td>0.000170</td>\n",
              "    </tr>\n",
              "    <tr>\n",
              "      <th>Cash flow to Sales</th>\n",
              "      <td>0.000193</td>\n",
              "    </tr>\n",
              "    <tr>\n",
              "      <th>working capitcal turnover rate</th>\n",
              "      <td>0.000227</td>\n",
              "    </tr>\n",
              "    <tr>\n",
              "      <th>...</th>\n",
              "      <td>...</td>\n",
              "    </tr>\n",
              "    <tr>\n",
              "      <th>Quick asset /current liabilities</th>\n",
              "      <td>2281.318433</td>\n",
              "    </tr>\n",
              "    <tr>\n",
              "      <th>revenue per person</th>\n",
              "      <td>3450.486394</td>\n",
              "    </tr>\n",
              "    <tr>\n",
              "      <th>net value growth rate</th>\n",
              "      <td>5312.004777</td>\n",
              "    </tr>\n",
              "    <tr>\n",
              "      <th>fix assets to assets</th>\n",
              "      <td>6817.997213</td>\n",
              "    </tr>\n",
              "    <tr>\n",
              "      <th>current ratio</th>\n",
              "      <td>6817.999489</td>\n",
              "    </tr>\n",
              "  </tbody>\n",
              "</table>\n",
              "<p>95 rows × 1 columns</p>\n",
              "</div>"
            ],
            "text/plain": [
              "                                                       Variance\n",
              "one if net income was negative for the last two...     0.000000\n",
              " operating profit growth rate                          0.000161\n",
              " operating profit rate                                 0.000170\n",
              " Cash flow to Sales                                    0.000193\n",
              " working capitcal turnover rate                        0.000227\n",
              "...                                                         ...\n",
              "Quick asset /current liabilities                    2281.318433\n",
              " revenue per person                                 3450.486394\n",
              " net value growth rate                              5312.004777\n",
              " fix assets to assets                               6817.997213\n",
              " current ratio                                      6817.999489\n",
              "\n",
              "[95 rows x 1 columns]"
            ]
          },
          "metadata": {
            "tags": []
          },
          "execution_count": 5
        }
      ]
    },
    {
      "cell_type": "code",
      "metadata": {
        "id": "OATMpafv6Qo9",
        "colab": {
          "base_uri": "https://localhost:8080/"
        },
        "outputId": "63f1ca2c-d8d7-43a8-bbea-47a8940d85aa"
      },
      "source": [
        "from sklearn.feature_selection import VarianceThreshold\n",
        "VT = VarianceThreshold(5.0).fit(data_X/data_X_mean)\n",
        "VT_transform = VT.transform(data_X/data_X_mean)\n",
        "high_var_column = data_X.columns[VT.get_support()]\n",
        "low_var_column = data_X.columns[~VT.get_support()]\n",
        "print('Total columns: ', data_X.shape[1])\n",
        "print('Removed columns: ',len(low_var_column))\n",
        "print('Remaining columns: ',len(high_var_column))"
      ],
      "execution_count": 6,
      "outputs": [
        {
          "output_type": "stream",
          "text": [
            "Total columns:  95\n",
            "Removed columns:  74\n",
            "Remaining columns:  21\n"
          ],
          "name": "stdout"
        }
      ]
    },
    {
      "cell_type": "code",
      "metadata": {
        "id": "XnUStUwJ_Ica",
        "colab": {
          "base_uri": "https://localhost:8080/"
        },
        "outputId": "c3549869-aac5-4aa8-c788-a58f493480fc"
      },
      "source": [
        "print('Features with high variance value: ',high_var_column)"
      ],
      "execution_count": 26,
      "outputs": [
        {
          "output_type": "stream",
          "text": [
            "Features with high variance value:  Index([' interest-bearing debt interest rate', ' Revenue Per Share (Yuan)',\n",
            "       ' net value growth rate', ' current ratio', ' quick ratio',\n",
            "       ' total debt/total net worth', ' long-term fund suitability ratio (A)',\n",
            "       ' accounts receivable turnover', ' average collection days',\n",
            "       ' fixed assets Turnover frequency', ' revenue per person',\n",
            "       ' allocation rate per person', 'Quick asset /current liabilities',\n",
            "       'cash / current liability', 'Inventory/current liability',\n",
            "       'long-term liability to current assets', 'total income / total expense',\n",
            "       ' current asset turnover rate', ' fix assets to assets',\n",
            "       'one if total liabilities exceeds total assets zero otherwise',\n",
            "       'total assets to GNP price'],\n",
            "      dtype='object')\n"
          ],
          "name": "stdout"
        }
      ]
    },
    {
      "cell_type": "markdown",
      "metadata": {
        "id": "mRlm9W9z9ogP"
      },
      "source": [
        "2. SelectkBest feature selection method"
      ]
    },
    {
      "cell_type": "code",
      "metadata": {
        "id": "nlRrtLdC7-_C",
        "colab": {
          "base_uri": "https://localhost:8080/"
        },
        "outputId": "b4752015-844d-43af-8757-c39d5ed2f4f7"
      },
      "source": [
        "from sklearn.feature_selection import SelectKBest,chi2\n",
        "data.shape"
      ],
      "execution_count": 8,
      "outputs": [
        {
          "output_type": "execute_result",
          "data": {
            "text/plain": [
              "(6819, 96)"
            ]
          },
          "metadata": {
            "tags": []
          },
          "execution_count": 8
        }
      ]
    },
    {
      "cell_type": "code",
      "metadata": {
        "id": "2cqmpQy4-Auw",
        "colab": {
          "base_uri": "https://localhost:8080/"
        },
        "outputId": "5fd38576-3646-4f5f-8786-06f8750706ee"
      },
      "source": [
        "data_new = SelectKBest(chi2,k=20)\n",
        "data_new.fit_transform(data_X, y)\n",
        "cols = data_new.get_support(indices = True)\n",
        "features_selectkbest = data_X.iloc[:,cols]\n",
        "print('Features obtained from selectkbest method: ',features_selectkbest.columns)"
      ],
      "execution_count": 25,
      "outputs": [
        {
          "output_type": "stream",
          "text": [
            "Features obtained from selectkbest method:  Index([' operating expense rate', ' research and development expense rate',\n",
            "       ' interest-bearing debt interest rate', ' Revenue Per Share (Yuan)',\n",
            "       ' total asset growth rate', ' net value growth rate', ' quick ratio',\n",
            "       ' total debt/total net worth', ' accounts receivable turnover',\n",
            "       ' average collection days', ' fixed assets Turnover frequency',\n",
            "       ' revenue per person', ' allocation rate per person',\n",
            "       'Quick asset /current liabilities', 'cash / current liability',\n",
            "       ' current asset turnover rate', ' quick asset turnover rate',\n",
            "       ' cash turnover rate', ' fix assets to assets',\n",
            "       'total assets to GNP price'],\n",
            "      dtype='object')\n"
          ],
          "name": "stdout"
        }
      ]
    },
    {
      "cell_type": "code",
      "metadata": {
        "id": "q-GCxy7smgXj",
        "colab": {
          "base_uri": "https://localhost:8080/"
        },
        "outputId": "a9fa77b9-7770-4fda-e0b4-b6a4fb846856"
      },
      "source": [
        "data_new.shape"
      ],
      "execution_count": 10,
      "outputs": [
        {
          "output_type": "execute_result",
          "data": {
            "text/plain": [
              "(6819, 20)"
            ]
          },
          "metadata": {
            "tags": []
          },
          "execution_count": 10
        }
      ]
    },
    {
      "cell_type": "markdown",
      "metadata": {
        "id": "jsEJp3PogdO4"
      },
      "source": [
        "3. Recursive Feature Elimination"
      ]
    },
    {
      "cell_type": "code",
      "metadata": {
        "id": "8OdEzDXBgli_",
        "colab": {
          "base_uri": "https://localhost:8080/"
        },
        "outputId": "93da5f3b-9734-4de4-855a-bb5b47106aaa"
      },
      "source": [
        "from sklearn.ensemble import RandomForestClassifier\n",
        "from sklearn.feature_selection import RFE\n",
        "estimator = RandomForestClassifier(n_estimators = 200)\n",
        "rfe = RFE(estimator,n_features_to_select = 20).fit(data_X,y)\n",
        "rfe_transform = rfe.transform(data_X)\n",
        "rfe_transform.shape"
      ],
      "execution_count": 11,
      "outputs": [
        {
          "output_type": "execute_result",
          "data": {
            "text/plain": [
              "(6819, 20)"
            ]
          },
          "metadata": {
            "tags": []
          },
          "execution_count": 11
        }
      ]
    },
    {
      "cell_type": "code",
      "metadata": {
        "id": "GmwpYmdaP9iz",
        "colab": {
          "base_uri": "https://localhost:8080/"
        },
        "outputId": "b0382d77-015e-4fdc-c182-dbc462790fc1"
      },
      "source": [
        "selected_features = data_X.columns[rfe.support_]\n",
        "print('features obtained from Recursive feature elimintaion technique: ',selected_features)"
      ],
      "execution_count": 27,
      "outputs": [
        {
          "output_type": "stream",
          "text": [
            "features obtained from Recursive feature elimintaion technique:  Index([' non-industry income and expenditure/revenue',\n",
            "       ' interest-bearing debt interest rate', ' per Net Share Value (B)',\n",
            "       ' Net Value Per Share (A)', ' Persistent EPS in the Last Four Seasons',\n",
            "       ' Per Share Net profit before tax (yuan)', ' net value growth rate',\n",
            "       ' quick ratio', ' interest expense ratio', ' debt ratio %',\n",
            "       ' net worth/assets', ' borrowing dependency',\n",
            "       ' net profit before tax/paid-in capital',\n",
            "       ' fixed assets Turnover frequency', 'cash / total assets',\n",
            "       'working capital/equity', 'net income to total assets',\n",
            "       'Net income to stockholder's Equity',\n",
            "       'Degree of financial leverage (DFL)',\n",
            "       'Interest coverage ratio( Interest expense to EBIT )'],\n",
            "      dtype='object')\n"
          ],
          "name": "stdout"
        }
      ]
    },
    {
      "cell_type": "code",
      "metadata": {
        "id": "1TVnqlS7gJja"
      },
      "source": [
        "pd.Series(selected_features).to_csv('Selected_features.csv', index = False)"
      ],
      "execution_count": 13,
      "outputs": []
    },
    {
      "cell_type": "markdown",
      "metadata": {
        "id": "DoUAGGYLy0hm"
      },
      "source": [
        "The value counts in labels are"
      ]
    },
    {
      "cell_type": "code",
      "metadata": {
        "id": "OcK2khrJujrE",
        "colab": {
          "base_uri": "https://localhost:8080/"
        },
        "outputId": "1ddfd7b7-10b7-44ae-bded-aa260c712c50"
      },
      "source": [
        "y.value_counts()"
      ],
      "execution_count": 14,
      "outputs": [
        {
          "output_type": "execute_result",
          "data": {
            "text/plain": [
              "0    6599\n",
              "1     220\n",
              "Name: Bankrupt?, dtype: int64"
            ]
          },
          "metadata": {
            "tags": []
          },
          "execution_count": 14
        }
      ]
    },
    {
      "cell_type": "markdown",
      "metadata": {
        "id": "Vlh-fruMzNAT"
      },
      "source": [
        "0 - not bankrupt, 1 - bankrupt"
      ]
    },
    {
      "cell_type": "code",
      "metadata": {
        "id": "PBH1MmXQqOOH"
      },
      "source": [
        "features = pd.read_csv('Selected_features.csv')"
      ],
      "execution_count": 15,
      "outputs": []
    },
    {
      "cell_type": "code",
      "metadata": {
        "id": "sB6DCyPlq2At"
      },
      "source": [
        "features = features['0'].to_list() + ['Bankrupt?']"
      ],
      "execution_count": 16,
      "outputs": []
    },
    {
      "cell_type": "code",
      "metadata": {
        "colab": {
          "base_uri": "https://localhost:8080/",
          "height": 333
        },
        "id": "y9X5O9K_rVzJ",
        "outputId": "c8c99e69-d04f-42d4-8bf3-ac579c92603b"
      },
      "source": [
        "df_new = data[features]\n",
        "print(df_new.shape)\n",
        "df_new.head()"
      ],
      "execution_count": 17,
      "outputs": [
        {
          "output_type": "stream",
          "text": [
            "(6819, 21)\n"
          ],
          "name": "stdout"
        },
        {
          "output_type": "execute_result",
          "data": {
            "text/html": [
              "<div>\n",
              "<style scoped>\n",
              "    .dataframe tbody tr th:only-of-type {\n",
              "        vertical-align: middle;\n",
              "    }\n",
              "\n",
              "    .dataframe tbody tr th {\n",
              "        vertical-align: top;\n",
              "    }\n",
              "\n",
              "    .dataframe thead th {\n",
              "        text-align: right;\n",
              "    }\n",
              "</style>\n",
              "<table border=\"1\" class=\"dataframe\">\n",
              "  <thead>\n",
              "    <tr style=\"text-align: right;\">\n",
              "      <th></th>\n",
              "      <th>non-industry income and expenditure/revenue</th>\n",
              "      <th>interest-bearing debt interest rate</th>\n",
              "      <th>per Net Share Value (B)</th>\n",
              "      <th>Net Value Per Share (A)</th>\n",
              "      <th>Persistent EPS in the Last Four Seasons</th>\n",
              "      <th>Per Share Net profit before tax (yuan)</th>\n",
              "      <th>net value growth rate</th>\n",
              "      <th>quick ratio</th>\n",
              "      <th>interest expense ratio</th>\n",
              "      <th>debt ratio %</th>\n",
              "      <th>net worth/assets</th>\n",
              "      <th>borrowing dependency</th>\n",
              "      <th>net profit before tax/paid-in capital</th>\n",
              "      <th>fixed assets Turnover frequency</th>\n",
              "      <th>cash / total assets</th>\n",
              "      <th>working capital/equity</th>\n",
              "      <th>net income to total assets</th>\n",
              "      <th>Net income to stockholder's Equity</th>\n",
              "      <th>Degree of financial leverage (DFL)</th>\n",
              "      <th>Interest coverage ratio( Interest expense to EBIT )</th>\n",
              "      <th>Bankrupt?</th>\n",
              "    </tr>\n",
              "  </thead>\n",
              "  <tbody>\n",
              "    <tr>\n",
              "      <th>0</th>\n",
              "      <td>0.302646</td>\n",
              "      <td>0.000725</td>\n",
              "      <td>0.147950</td>\n",
              "      <td>0.147950</td>\n",
              "      <td>0.169141</td>\n",
              "      <td>0.138736</td>\n",
              "      <td>0.000327</td>\n",
              "      <td>0.001208</td>\n",
              "      <td>0.629951</td>\n",
              "      <td>0.207576</td>\n",
              "      <td>0.792424</td>\n",
              "      <td>0.390284</td>\n",
              "      <td>0.137757</td>\n",
              "      <td>1.165007e-04</td>\n",
              "      <td>0.004094</td>\n",
              "      <td>0.721275</td>\n",
              "      <td>0.716845</td>\n",
              "      <td>0.827890</td>\n",
              "      <td>0.026601</td>\n",
              "      <td>0.564050</td>\n",
              "      <td>1</td>\n",
              "    </tr>\n",
              "    <tr>\n",
              "      <th>1</th>\n",
              "      <td>0.303556</td>\n",
              "      <td>0.000647</td>\n",
              "      <td>0.182251</td>\n",
              "      <td>0.182251</td>\n",
              "      <td>0.208944</td>\n",
              "      <td>0.169918</td>\n",
              "      <td>0.000443</td>\n",
              "      <td>0.004039</td>\n",
              "      <td>0.635172</td>\n",
              "      <td>0.171176</td>\n",
              "      <td>0.828824</td>\n",
              "      <td>0.376760</td>\n",
              "      <td>0.168962</td>\n",
              "      <td>7.190000e+08</td>\n",
              "      <td>0.014948</td>\n",
              "      <td>0.731975</td>\n",
              "      <td>0.795297</td>\n",
              "      <td>0.839969</td>\n",
              "      <td>0.264577</td>\n",
              "      <td>0.570175</td>\n",
              "      <td>1</td>\n",
              "    </tr>\n",
              "    <tr>\n",
              "      <th>2</th>\n",
              "      <td>0.302035</td>\n",
              "      <td>0.000790</td>\n",
              "      <td>0.177911</td>\n",
              "      <td>0.177911</td>\n",
              "      <td>0.180581</td>\n",
              "      <td>0.142803</td>\n",
              "      <td>0.000396</td>\n",
              "      <td>0.005348</td>\n",
              "      <td>0.629631</td>\n",
              "      <td>0.207516</td>\n",
              "      <td>0.792484</td>\n",
              "      <td>0.379093</td>\n",
              "      <td>0.148036</td>\n",
              "      <td>2.650000e+09</td>\n",
              "      <td>0.000991</td>\n",
              "      <td>0.742729</td>\n",
              "      <td>0.774670</td>\n",
              "      <td>0.836774</td>\n",
              "      <td>0.026555</td>\n",
              "      <td>0.563706</td>\n",
              "      <td>1</td>\n",
              "    </tr>\n",
              "    <tr>\n",
              "      <th>3</th>\n",
              "      <td>0.303350</td>\n",
              "      <td>0.000449</td>\n",
              "      <td>0.154187</td>\n",
              "      <td>0.154187</td>\n",
              "      <td>0.193722</td>\n",
              "      <td>0.148603</td>\n",
              "      <td>0.000382</td>\n",
              "      <td>0.002896</td>\n",
              "      <td>0.630228</td>\n",
              "      <td>0.151465</td>\n",
              "      <td>0.848535</td>\n",
              "      <td>0.379743</td>\n",
              "      <td>0.147561</td>\n",
              "      <td>9.150000e+09</td>\n",
              "      <td>0.018851</td>\n",
              "      <td>0.729825</td>\n",
              "      <td>0.739555</td>\n",
              "      <td>0.834697</td>\n",
              "      <td>0.026697</td>\n",
              "      <td>0.564663</td>\n",
              "      <td>1</td>\n",
              "    </tr>\n",
              "    <tr>\n",
              "      <th>4</th>\n",
              "      <td>0.303475</td>\n",
              "      <td>0.000686</td>\n",
              "      <td>0.167502</td>\n",
              "      <td>0.167502</td>\n",
              "      <td>0.212537</td>\n",
              "      <td>0.168412</td>\n",
              "      <td>0.000439</td>\n",
              "      <td>0.003727</td>\n",
              "      <td>0.636055</td>\n",
              "      <td>0.106509</td>\n",
              "      <td>0.893491</td>\n",
              "      <td>0.375025</td>\n",
              "      <td>0.167461</td>\n",
              "      <td>2.935211e-04</td>\n",
              "      <td>0.014161</td>\n",
              "      <td>0.732000</td>\n",
              "      <td>0.795016</td>\n",
              "      <td>0.839973</td>\n",
              "      <td>0.024752</td>\n",
              "      <td>0.575617</td>\n",
              "      <td>1</td>\n",
              "    </tr>\n",
              "  </tbody>\n",
              "</table>\n",
              "</div>"
            ],
            "text/plain": [
              "    non-industry income and expenditure/revenue  ...  Bankrupt?\n",
              "0                                      0.302646  ...          1\n",
              "1                                      0.303556  ...          1\n",
              "2                                      0.302035  ...          1\n",
              "3                                      0.303350  ...          1\n",
              "4                                      0.303475  ...          1\n",
              "\n",
              "[5 rows x 21 columns]"
            ]
          },
          "metadata": {
            "tags": []
          },
          "execution_count": 17
        }
      ]
    },
    {
      "cell_type": "code",
      "metadata": {
        "id": "a7q25hNvaD6J"
      },
      "source": [
        "df_new.to_csv('company_bankruptcy_cleaned.csv', index = False)"
      ],
      "execution_count": 33,
      "outputs": []
    },
    {
      "cell_type": "code",
      "metadata": {
        "colab": {
          "base_uri": "https://localhost:8080/"
        },
        "id": "sD74c1EJXiCQ",
        "outputId": "b145cb3b-7acb-4e81-a966-dc584985c4a7"
      },
      "source": [
        "a = high_var_column\n",
        "b = features_selectkbest.columns\n",
        "c = selected_features\n",
        "a,b,c = map(set,(a,b,c))\n",
        "imp_features = a.intersection(b,c)\n",
        "imp_features"
      ],
      "execution_count": 30,
      "outputs": [
        {
          "output_type": "execute_result",
          "data": {
            "text/plain": [
              "{' fixed assets Turnover frequency',\n",
              " ' interest-bearing debt interest rate',\n",
              " ' net value growth rate',\n",
              " ' quick ratio'}"
            ]
          },
          "metadata": {
            "tags": []
          },
          "execution_count": 30
        }
      ]
    },
    {
      "cell_type": "markdown",
      "metadata": {
        "id": "CLfsfIBqYpps"
      },
      "source": [
        "These above 4 features are common in all three feature selection techniques, i.e they have high variance, best k scores and also passed thr recursive feature elimination technique.\n",
        "So among all other, they are bit important attributes in solving the predictive problem of company bankrupcy"
      ]
    },
    {
      "cell_type": "code",
      "metadata": {
        "colab": {
          "base_uri": "https://localhost:8080/",
          "height": 1000
        },
        "id": "vm0VlGV9ZVd9",
        "outputId": "8877b25c-1b92-4e51-a7d0-2c0ea317c68e"
      },
      "source": [
        "for i in imp_features:\n",
        "  data_X.hist(i, bins = 20 )"
      ],
      "execution_count": 32,
      "outputs": [
        {
          "output_type": "display_data",
          "data": {
            "image/png": "[encoded data removed]",
            "text/plain": [
              "<Figure size 432x288 with 1 Axes>"
            ]
          },
          "metadata": {
            "tags": [],
            "needs_background": "light"
          }
        },
        {
          "output_type": "display_data",
          "data": {
            "image/png": "[encoded data removed]",
            "text/plain": [
              "<Figure size 432x288 with 1 Axes>"
            ]
          },
          "metadata": {
            "tags": [],
            "needs_background": "light"
          }
        },
        {
          "output_type": "display_data",
          "data": {
            "image/png": "[encoded data removed]",
            "text/plain": [
              "<Figure size 432x288 with 1 Axes>"
            ]
          },
          "metadata": {
            "tags": [],
            "needs_background": "light"
          }
        },
        {
          "output_type": "display_data",
          "data": {
            "image/png": "[encoded data removed]",
            "text/plain": [
              "<Figure size 432x288 with 1 Axes>"
            ]
          },
          "metadata": {
            "tags": [],
            "needs_background": "light"
          }
        }
      ]
    }
  ]
}