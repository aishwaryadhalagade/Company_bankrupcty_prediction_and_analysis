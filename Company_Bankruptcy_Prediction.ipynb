{
  "nbformat": 4,
  "nbformat_minor": 0,
  "metadata": {
    "colab": {
      "name": "Company Bankruptcy Prediction.ipynb",
      "provenance": [],
      "collapsed_sections": [],
      "toc_visible": true
    },
    "kernelspec": {
      "name": "python3",
      "display_name": "Python 3"
    }
  },
  "cells": [
    {
      "cell_type": "markdown",
      "metadata": {
        "id": "k5EDnj3x0hQi"
      },
      "source": [
        "### Compony Bankeuptcy Prediction by Using Machine Learning model"
      ]
    },
    {
      "cell_type": "code",
      "metadata": {
        "id": "MSi6mO920dvB"
      },
      "source": [
        "import pandas as pd\n",
        "import numpy as np\n",
        "import matplotlib.pyplot as plt\n",
        "import seaborn as sns"
      ],
      "execution_count": null,
      "outputs": []
    },
    {
      "cell_type": "markdown",
      "metadata": {
        "id": "BkJhz_xRb1HC"
      },
      "source": [
        "### Data Exploration"
      ]
    },
    {
      "cell_type": "code",
      "metadata": {
        "colab": {
          "base_uri": "https://localhost:8080/",
          "height": 378
        },
        "id": "41j5CBAA1wG1",
        "outputId": "354bc6b6-2bfe-4855-d13d-78b75f90f8cf"
      },
      "source": [
        "data = pd.read_csv('drive/MyDrive/Datasets/bankeuptcy.csv')\n",
        "data.head()"
      ],
      "execution_count": null,
      "outputs": [
        {
          "output_type": "execute_result",
          "data": {
            "text/html": [
              "<div>\n",
              "<style scoped>\n",
              "    .dataframe tbody tr th:only-of-type {\n",
              "        vertical-align: middle;\n",
              "    }\n",
              "\n",
              "    .dataframe tbody tr th {\n",
              "        vertical-align: top;\n",
              "    }\n",
              "\n",
              "    .dataframe thead th {\n",
              "        text-align: right;\n",
              "    }\n",
              "</style>\n",
              "<table border=\"1\" class=\"dataframe\">\n",
              "  <thead>\n",
              "    <tr style=\"text-align: right;\">\n",
              "      <th></th>\n",
              "      <th>Bankrupt?</th>\n",
              "      <th>ROA(C) before interest and depreciation before interest</th>\n",
              "      <th>ROA(A) before interest and % after tax</th>\n",
              "      <th>ROA(B) before interest and depreciation after tax</th>\n",
              "      <th>operating gross margin</th>\n",
              "      <th>realized sales gross margin</th>\n",
              "      <th>operating profit rate</th>\n",
              "      <th>tax Pre-net interest rate</th>\n",
              "      <th>after-tax net interest rate</th>\n",
              "      <th>non-industry income and expenditure/revenue</th>\n",
              "      <th>continuous interest rate (after tax)</th>\n",
              "      <th>operating expense rate</th>\n",
              "      <th>research and development expense rate</th>\n",
              "      <th>cash flow rate</th>\n",
              "      <th>interest-bearing debt interest rate</th>\n",
              "      <th>tax rate (A)</th>\n",
              "      <th>per Net Share Value (B)</th>\n",
              "      <th>Net Value Per Share (A)</th>\n",
              "      <th>Net Value Per Share (C)</th>\n",
              "      <th>Persistent EPS in the Last Four Seasons</th>\n",
              "      <th>Cash Flow Per Share</th>\n",
              "      <th>Revenue Per Share (Yuan)</th>\n",
              "      <th>Operating Profit Per Share (Yuan)</th>\n",
              "      <th>Per Share Net profit before tax (yuan)</th>\n",
              "      <th>realized sales gross profit growth rate</th>\n",
              "      <th>operating profit growth rate</th>\n",
              "      <th>after-tax net profit growth rate</th>\n",
              "      <th>regular net profit growth rate</th>\n",
              "      <th>continuous net profit growth rate</th>\n",
              "      <th>total asset growth rate</th>\n",
              "      <th>net value growth rate</th>\n",
              "      <th>total asset return growth rate Ratio</th>\n",
              "      <th>cash reinvestment %</th>\n",
              "      <th>current ratio</th>\n",
              "      <th>quick ratio</th>\n",
              "      <th>interest expense ratio</th>\n",
              "      <th>total debt/total net worth</th>\n",
              "      <th>debt ratio %</th>\n",
              "      <th>net worth/assets</th>\n",
              "      <th>long-term fund suitability ratio (A)</th>\n",
              "      <th>...</th>\n",
              "      <th>current assets/total assets</th>\n",
              "      <th>cash / total assets</th>\n",
              "      <th>Quick asset /current liabilities</th>\n",
              "      <th>cash / current liability</th>\n",
              "      <th>current liability to assets</th>\n",
              "      <th>operating funds to liability</th>\n",
              "      <th>Inventory/working capital</th>\n",
              "      <th>Inventory/current liability</th>\n",
              "      <th>current liability / liability</th>\n",
              "      <th>working capital/equity</th>\n",
              "      <th>current liability/equity</th>\n",
              "      <th>long-term liability to current assets</th>\n",
              "      <th>Retained Earnings/Total assets</th>\n",
              "      <th>total income / total expense</th>\n",
              "      <th>total expense /assets</th>\n",
              "      <th>current asset turnover rate</th>\n",
              "      <th>quick asset turnover rate</th>\n",
              "      <th>working capitcal turnover rate</th>\n",
              "      <th>cash turnover rate</th>\n",
              "      <th>Cash flow to Sales</th>\n",
              "      <th>fix assets to assets</th>\n",
              "      <th>current liability to liability</th>\n",
              "      <th>current liability to equity</th>\n",
              "      <th>equity to long-term liability</th>\n",
              "      <th>Cash flow to total assets</th>\n",
              "      <th>cash flow to liability</th>\n",
              "      <th>CFO to ASSETS</th>\n",
              "      <th>cash flow to equity</th>\n",
              "      <th>current liabilities to current assets</th>\n",
              "      <th>one if total liabilities exceeds total assets zero otherwise</th>\n",
              "      <th>net income to total assets</th>\n",
              "      <th>total assets to GNP price</th>\n",
              "      <th>No-credit interval</th>\n",
              "      <th>Gross profit to Sales</th>\n",
              "      <th>Net income to stockholder's Equity</th>\n",
              "      <th>liability to equity</th>\n",
              "      <th>Degree of financial leverage (DFL)</th>\n",
              "      <th>Interest coverage ratio( Interest expense to EBIT )</th>\n",
              "      <th>one if net income was negative for the last two year zero otherwise</th>\n",
              "      <th>equity to liability</th>\n",
              "    </tr>\n",
              "  </thead>\n",
              "  <tbody>\n",
              "    <tr>\n",
              "      <th>0</th>\n",
              "      <td>1</td>\n",
              "      <td>0.370594</td>\n",
              "      <td>0.424389</td>\n",
              "      <td>0.405750</td>\n",
              "      <td>0.601457</td>\n",
              "      <td>0.601457</td>\n",
              "      <td>0.998969</td>\n",
              "      <td>0.796887</td>\n",
              "      <td>0.808809</td>\n",
              "      <td>0.302646</td>\n",
              "      <td>0.780985</td>\n",
              "      <td>1.256969e-04</td>\n",
              "      <td>0.0</td>\n",
              "      <td>0.458143</td>\n",
              "      <td>0.000725</td>\n",
              "      <td>0.0</td>\n",
              "      <td>0.147950</td>\n",
              "      <td>0.147950</td>\n",
              "      <td>0.147950</td>\n",
              "      <td>0.169141</td>\n",
              "      <td>0.311664</td>\n",
              "      <td>0.017560</td>\n",
              "      <td>0.095921</td>\n",
              "      <td>0.138736</td>\n",
              "      <td>0.022102</td>\n",
              "      <td>0.848195</td>\n",
              "      <td>0.688979</td>\n",
              "      <td>0.688979</td>\n",
              "      <td>0.217535</td>\n",
              "      <td>4.980000e+09</td>\n",
              "      <td>0.000327</td>\n",
              "      <td>0.263100</td>\n",
              "      <td>0.363725</td>\n",
              "      <td>0.002259</td>\n",
              "      <td>0.001208</td>\n",
              "      <td>0.629951</td>\n",
              "      <td>0.021266</td>\n",
              "      <td>0.207576</td>\n",
              "      <td>0.792424</td>\n",
              "      <td>0.005024</td>\n",
              "      <td>...</td>\n",
              "      <td>0.190643</td>\n",
              "      <td>0.004094</td>\n",
              "      <td>0.001997</td>\n",
              "      <td>1.473360e-04</td>\n",
              "      <td>0.147308</td>\n",
              "      <td>0.334015</td>\n",
              "      <td>0.276920</td>\n",
              "      <td>0.001036</td>\n",
              "      <td>0.676269</td>\n",
              "      <td>0.721275</td>\n",
              "      <td>0.339077</td>\n",
              "      <td>0.025592</td>\n",
              "      <td>0.903225</td>\n",
              "      <td>0.002022</td>\n",
              "      <td>0.064856</td>\n",
              "      <td>7.010000e+08</td>\n",
              "      <td>6.550000e+09</td>\n",
              "      <td>0.593831</td>\n",
              "      <td>4.580000e+08</td>\n",
              "      <td>0.671568</td>\n",
              "      <td>0.424206</td>\n",
              "      <td>0.676269</td>\n",
              "      <td>0.339077</td>\n",
              "      <td>0.126549</td>\n",
              "      <td>0.637555</td>\n",
              "      <td>0.458609</td>\n",
              "      <td>0.520382</td>\n",
              "      <td>0.312905</td>\n",
              "      <td>0.118250</td>\n",
              "      <td>0</td>\n",
              "      <td>0.716845</td>\n",
              "      <td>0.009219</td>\n",
              "      <td>0.622879</td>\n",
              "      <td>0.601453</td>\n",
              "      <td>0.827890</td>\n",
              "      <td>0.290202</td>\n",
              "      <td>0.026601</td>\n",
              "      <td>0.564050</td>\n",
              "      <td>1</td>\n",
              "      <td>0.016469</td>\n",
              "    </tr>\n",
              "    <tr>\n",
              "      <th>1</th>\n",
              "      <td>1</td>\n",
              "      <td>0.464291</td>\n",
              "      <td>0.538214</td>\n",
              "      <td>0.516730</td>\n",
              "      <td>0.610235</td>\n",
              "      <td>0.610235</td>\n",
              "      <td>0.998946</td>\n",
              "      <td>0.797380</td>\n",
              "      <td>0.809301</td>\n",
              "      <td>0.303556</td>\n",
              "      <td>0.781506</td>\n",
              "      <td>2.897851e-04</td>\n",
              "      <td>0.0</td>\n",
              "      <td>0.461867</td>\n",
              "      <td>0.000647</td>\n",
              "      <td>0.0</td>\n",
              "      <td>0.182251</td>\n",
              "      <td>0.182251</td>\n",
              "      <td>0.182251</td>\n",
              "      <td>0.208944</td>\n",
              "      <td>0.318137</td>\n",
              "      <td>0.021144</td>\n",
              "      <td>0.093722</td>\n",
              "      <td>0.169918</td>\n",
              "      <td>0.022080</td>\n",
              "      <td>0.848088</td>\n",
              "      <td>0.689693</td>\n",
              "      <td>0.689702</td>\n",
              "      <td>0.217620</td>\n",
              "      <td>6.110000e+09</td>\n",
              "      <td>0.000443</td>\n",
              "      <td>0.264516</td>\n",
              "      <td>0.376709</td>\n",
              "      <td>0.006016</td>\n",
              "      <td>0.004039</td>\n",
              "      <td>0.635172</td>\n",
              "      <td>0.012502</td>\n",
              "      <td>0.171176</td>\n",
              "      <td>0.828824</td>\n",
              "      <td>0.005059</td>\n",
              "      <td>...</td>\n",
              "      <td>0.182419</td>\n",
              "      <td>0.014948</td>\n",
              "      <td>0.004136</td>\n",
              "      <td>1.383910e-03</td>\n",
              "      <td>0.056963</td>\n",
              "      <td>0.341106</td>\n",
              "      <td>0.289642</td>\n",
              "      <td>0.005210</td>\n",
              "      <td>0.308589</td>\n",
              "      <td>0.731975</td>\n",
              "      <td>0.329740</td>\n",
              "      <td>0.023947</td>\n",
              "      <td>0.931065</td>\n",
              "      <td>0.002226</td>\n",
              "      <td>0.025516</td>\n",
              "      <td>1.065198e-04</td>\n",
              "      <td>7.700000e+09</td>\n",
              "      <td>0.593916</td>\n",
              "      <td>2.490000e+09</td>\n",
              "      <td>0.671570</td>\n",
              "      <td>0.468828</td>\n",
              "      <td>0.308589</td>\n",
              "      <td>0.329740</td>\n",
              "      <td>0.120916</td>\n",
              "      <td>0.641100</td>\n",
              "      <td>0.459001</td>\n",
              "      <td>0.567101</td>\n",
              "      <td>0.314163</td>\n",
              "      <td>0.047775</td>\n",
              "      <td>0</td>\n",
              "      <td>0.795297</td>\n",
              "      <td>0.008323</td>\n",
              "      <td>0.623652</td>\n",
              "      <td>0.610237</td>\n",
              "      <td>0.839969</td>\n",
              "      <td>0.283846</td>\n",
              "      <td>0.264577</td>\n",
              "      <td>0.570175</td>\n",
              "      <td>1</td>\n",
              "      <td>0.020794</td>\n",
              "    </tr>\n",
              "    <tr>\n",
              "      <th>2</th>\n",
              "      <td>1</td>\n",
              "      <td>0.426071</td>\n",
              "      <td>0.499019</td>\n",
              "      <td>0.472295</td>\n",
              "      <td>0.601450</td>\n",
              "      <td>0.601364</td>\n",
              "      <td>0.998857</td>\n",
              "      <td>0.796403</td>\n",
              "      <td>0.808388</td>\n",
              "      <td>0.302035</td>\n",
              "      <td>0.780284</td>\n",
              "      <td>2.361297e-04</td>\n",
              "      <td>25500000.0</td>\n",
              "      <td>0.458521</td>\n",
              "      <td>0.000790</td>\n",
              "      <td>0.0</td>\n",
              "      <td>0.177911</td>\n",
              "      <td>0.177911</td>\n",
              "      <td>0.193713</td>\n",
              "      <td>0.180581</td>\n",
              "      <td>0.307102</td>\n",
              "      <td>0.005944</td>\n",
              "      <td>0.092338</td>\n",
              "      <td>0.142803</td>\n",
              "      <td>0.022760</td>\n",
              "      <td>0.848094</td>\n",
              "      <td>0.689463</td>\n",
              "      <td>0.689470</td>\n",
              "      <td>0.217601</td>\n",
              "      <td>7.280000e+09</td>\n",
              "      <td>0.000396</td>\n",
              "      <td>0.264184</td>\n",
              "      <td>0.368913</td>\n",
              "      <td>0.011543</td>\n",
              "      <td>0.005348</td>\n",
              "      <td>0.629631</td>\n",
              "      <td>0.021248</td>\n",
              "      <td>0.207516</td>\n",
              "      <td>0.792484</td>\n",
              "      <td>0.005100</td>\n",
              "      <td>...</td>\n",
              "      <td>0.602806</td>\n",
              "      <td>0.000991</td>\n",
              "      <td>0.006302</td>\n",
              "      <td>5.340000e+09</td>\n",
              "      <td>0.098162</td>\n",
              "      <td>0.336731</td>\n",
              "      <td>0.277456</td>\n",
              "      <td>0.013879</td>\n",
              "      <td>0.446027</td>\n",
              "      <td>0.742729</td>\n",
              "      <td>0.334777</td>\n",
              "      <td>0.003715</td>\n",
              "      <td>0.909903</td>\n",
              "      <td>0.002060</td>\n",
              "      <td>0.021387</td>\n",
              "      <td>1.791094e-03</td>\n",
              "      <td>1.022676e-03</td>\n",
              "      <td>0.594502</td>\n",
              "      <td>7.610000e+08</td>\n",
              "      <td>0.671571</td>\n",
              "      <td>0.276179</td>\n",
              "      <td>0.446027</td>\n",
              "      <td>0.334777</td>\n",
              "      <td>0.117922</td>\n",
              "      <td>0.642765</td>\n",
              "      <td>0.459254</td>\n",
              "      <td>0.538491</td>\n",
              "      <td>0.314515</td>\n",
              "      <td>0.025346</td>\n",
              "      <td>0</td>\n",
              "      <td>0.774670</td>\n",
              "      <td>0.040003</td>\n",
              "      <td>0.623841</td>\n",
              "      <td>0.601449</td>\n",
              "      <td>0.836774</td>\n",
              "      <td>0.290189</td>\n",
              "      <td>0.026555</td>\n",
              "      <td>0.563706</td>\n",
              "      <td>1</td>\n",
              "      <td>0.016474</td>\n",
              "    </tr>\n",
              "    <tr>\n",
              "      <th>3</th>\n",
              "      <td>1</td>\n",
              "      <td>0.399844</td>\n",
              "      <td>0.451265</td>\n",
              "      <td>0.457733</td>\n",
              "      <td>0.583541</td>\n",
              "      <td>0.583541</td>\n",
              "      <td>0.998700</td>\n",
              "      <td>0.796967</td>\n",
              "      <td>0.808966</td>\n",
              "      <td>0.303350</td>\n",
              "      <td>0.781241</td>\n",
              "      <td>1.078888e-04</td>\n",
              "      <td>0.0</td>\n",
              "      <td>0.465705</td>\n",
              "      <td>0.000449</td>\n",
              "      <td>0.0</td>\n",
              "      <td>0.154187</td>\n",
              "      <td>0.154187</td>\n",
              "      <td>0.154187</td>\n",
              "      <td>0.193722</td>\n",
              "      <td>0.321674</td>\n",
              "      <td>0.014368</td>\n",
              "      <td>0.077762</td>\n",
              "      <td>0.148603</td>\n",
              "      <td>0.022046</td>\n",
              "      <td>0.848005</td>\n",
              "      <td>0.689110</td>\n",
              "      <td>0.689110</td>\n",
              "      <td>0.217568</td>\n",
              "      <td>4.880000e+09</td>\n",
              "      <td>0.000382</td>\n",
              "      <td>0.263371</td>\n",
              "      <td>0.384077</td>\n",
              "      <td>0.004194</td>\n",
              "      <td>0.002896</td>\n",
              "      <td>0.630228</td>\n",
              "      <td>0.009572</td>\n",
              "      <td>0.151465</td>\n",
              "      <td>0.848535</td>\n",
              "      <td>0.005047</td>\n",
              "      <td>...</td>\n",
              "      <td>0.225815</td>\n",
              "      <td>0.018851</td>\n",
              "      <td>0.002961</td>\n",
              "      <td>1.010646e-03</td>\n",
              "      <td>0.098715</td>\n",
              "      <td>0.348716</td>\n",
              "      <td>0.276580</td>\n",
              "      <td>0.003540</td>\n",
              "      <td>0.615848</td>\n",
              "      <td>0.729825</td>\n",
              "      <td>0.331509</td>\n",
              "      <td>0.022165</td>\n",
              "      <td>0.906902</td>\n",
              "      <td>0.001831</td>\n",
              "      <td>0.024161</td>\n",
              "      <td>8.140000e+09</td>\n",
              "      <td>6.050000e+09</td>\n",
              "      <td>0.593889</td>\n",
              "      <td>2.030000e+09</td>\n",
              "      <td>0.671519</td>\n",
              "      <td>0.559144</td>\n",
              "      <td>0.615848</td>\n",
              "      <td>0.331509</td>\n",
              "      <td>0.120760</td>\n",
              "      <td>0.579039</td>\n",
              "      <td>0.448518</td>\n",
              "      <td>0.604105</td>\n",
              "      <td>0.302382</td>\n",
              "      <td>0.067250</td>\n",
              "      <td>0</td>\n",
              "      <td>0.739555</td>\n",
              "      <td>0.003252</td>\n",
              "      <td>0.622929</td>\n",
              "      <td>0.583538</td>\n",
              "      <td>0.834697</td>\n",
              "      <td>0.281721</td>\n",
              "      <td>0.026697</td>\n",
              "      <td>0.564663</td>\n",
              "      <td>1</td>\n",
              "      <td>0.023982</td>\n",
              "    </tr>\n",
              "    <tr>\n",
              "      <th>4</th>\n",
              "      <td>1</td>\n",
              "      <td>0.465022</td>\n",
              "      <td>0.538432</td>\n",
              "      <td>0.522298</td>\n",
              "      <td>0.598783</td>\n",
              "      <td>0.598783</td>\n",
              "      <td>0.998973</td>\n",
              "      <td>0.797366</td>\n",
              "      <td>0.809304</td>\n",
              "      <td>0.303475</td>\n",
              "      <td>0.781550</td>\n",
              "      <td>7.890000e+09</td>\n",
              "      <td>0.0</td>\n",
              "      <td>0.462746</td>\n",
              "      <td>0.000686</td>\n",
              "      <td>0.0</td>\n",
              "      <td>0.167502</td>\n",
              "      <td>0.167502</td>\n",
              "      <td>0.167502</td>\n",
              "      <td>0.212537</td>\n",
              "      <td>0.319162</td>\n",
              "      <td>0.029690</td>\n",
              "      <td>0.096898</td>\n",
              "      <td>0.168412</td>\n",
              "      <td>0.022096</td>\n",
              "      <td>0.848258</td>\n",
              "      <td>0.689697</td>\n",
              "      <td>0.689697</td>\n",
              "      <td>0.217626</td>\n",
              "      <td>5.510000e+09</td>\n",
              "      <td>0.000439</td>\n",
              "      <td>0.265218</td>\n",
              "      <td>0.379690</td>\n",
              "      <td>0.006022</td>\n",
              "      <td>0.003727</td>\n",
              "      <td>0.636055</td>\n",
              "      <td>0.005150</td>\n",
              "      <td>0.106509</td>\n",
              "      <td>0.893491</td>\n",
              "      <td>0.005303</td>\n",
              "      <td>...</td>\n",
              "      <td>0.358380</td>\n",
              "      <td>0.014161</td>\n",
              "      <td>0.004275</td>\n",
              "      <td>6.804636e-04</td>\n",
              "      <td>0.110195</td>\n",
              "      <td>0.344639</td>\n",
              "      <td>0.287913</td>\n",
              "      <td>0.004869</td>\n",
              "      <td>0.975007</td>\n",
              "      <td>0.732000</td>\n",
              "      <td>0.330726</td>\n",
              "      <td>0.000000</td>\n",
              "      <td>0.913850</td>\n",
              "      <td>0.002224</td>\n",
              "      <td>0.026385</td>\n",
              "      <td>6.680000e+09</td>\n",
              "      <td>5.050000e+09</td>\n",
              "      <td>0.593915</td>\n",
              "      <td>8.240000e+08</td>\n",
              "      <td>0.671563</td>\n",
              "      <td>0.309555</td>\n",
              "      <td>0.975007</td>\n",
              "      <td>0.330726</td>\n",
              "      <td>0.110933</td>\n",
              "      <td>0.622374</td>\n",
              "      <td>0.454411</td>\n",
              "      <td>0.578469</td>\n",
              "      <td>0.311567</td>\n",
              "      <td>0.047725</td>\n",
              "      <td>0</td>\n",
              "      <td>0.795016</td>\n",
              "      <td>0.003878</td>\n",
              "      <td>0.623521</td>\n",
              "      <td>0.598782</td>\n",
              "      <td>0.839973</td>\n",
              "      <td>0.278514</td>\n",
              "      <td>0.024752</td>\n",
              "      <td>0.575617</td>\n",
              "      <td>1</td>\n",
              "      <td>0.035490</td>\n",
              "    </tr>\n",
              "  </tbody>\n",
              "</table>\n",
              "<p>5 rows × 96 columns</p>\n",
              "</div>"
            ],
            "text/plain": [
              "   Bankrupt?  ...  equity to liability\n",
              "0          1  ...             0.016469\n",
              "1          1  ...             0.020794\n",
              "2          1  ...             0.016474\n",
              "3          1  ...             0.023982\n",
              "4          1  ...             0.035490\n",
              "\n",
              "[5 rows x 96 columns]"
            ]
          },
          "metadata": {
            "tags": []
          },
          "execution_count": 4
        }
      ]
    },
    {
      "cell_type": "code",
      "metadata": {
        "colab": {
          "base_uri": "https://localhost:8080/"
        },
        "id": "-j8A1C3_2DFy",
        "outputId": "bebd614a-7ff6-4c45-fa0c-a1c3889ae1cd"
      },
      "source": [
        "data.info()"
      ],
      "execution_count": null,
      "outputs": [
        {
          "output_type": "stream",
          "text": [
            "<class 'pandas.core.frame.DataFrame'>\n",
            "RangeIndex: 6819 entries, 0 to 6818\n",
            "Data columns (total 96 columns):\n",
            " #   Column                                                               Non-Null Count  Dtype  \n",
            "---  ------                                                               --------------  -----  \n",
            " 0   Bankrupt?                                                            6819 non-null   int64  \n",
            " 1    ROA(C) before interest and depreciation before interest             6819 non-null   float64\n",
            " 2    ROA(A) before interest and % after tax                              6819 non-null   float64\n",
            " 3    ROA(B) before interest and depreciation after tax                   6819 non-null   float64\n",
            " 4    operating gross margin                                              6819 non-null   float64\n",
            " 5    realized sales gross margin                                         6819 non-null   float64\n",
            " 6    operating profit rate                                               6819 non-null   float64\n",
            " 7    tax Pre-net interest rate                                           6819 non-null   float64\n",
            " 8    after-tax net interest rate                                         6819 non-null   float64\n",
            " 9    non-industry income and expenditure/revenue                         6819 non-null   float64\n",
            " 10   continuous interest rate (after tax)                                6819 non-null   float64\n",
            " 11   operating expense rate                                              6819 non-null   float64\n",
            " 12   research and development expense rate                               6819 non-null   float64\n",
            " 13   cash flow rate                                                      6819 non-null   float64\n",
            " 14   interest-bearing debt interest rate                                 6819 non-null   float64\n",
            " 15   tax rate (A)                                                        6819 non-null   float64\n",
            " 16   per Net Share Value (B)                                             6819 non-null   float64\n",
            " 17   Net Value Per Share (A)                                             6819 non-null   float64\n",
            " 18   Net Value Per Share (C)                                             6819 non-null   float64\n",
            " 19   Persistent EPS in the Last Four Seasons                             6819 non-null   float64\n",
            " 20   Cash Flow Per Share                                                 6819 non-null   float64\n",
            " 21   Revenue Per Share (Yuan)                                            6819 non-null   float64\n",
            " 22   Operating Profit Per Share (Yuan)                                   6819 non-null   float64\n",
            " 23   Per Share Net profit before tax (yuan)                              6819 non-null   float64\n",
            " 24   realized sales gross profit growth rate                             6819 non-null   float64\n",
            " 25   operating profit growth rate                                        6819 non-null   float64\n",
            " 26   after-tax net profit growth rate                                    6819 non-null   float64\n",
            " 27   regular net profit growth rate                                      6819 non-null   float64\n",
            " 28   continuous net profit growth rate                                   6819 non-null   float64\n",
            " 29   total asset growth rate                                             6819 non-null   float64\n",
            " 30   net value growth rate                                               6819 non-null   float64\n",
            " 31   total asset return growth rate Ratio                                6819 non-null   float64\n",
            " 32   cash reinvestment %                                                 6819 non-null   float64\n",
            " 33   current ratio                                                       6819 non-null   float64\n",
            " 34   quick ratio                                                         6819 non-null   float64\n",
            " 35   interest expense ratio                                              6819 non-null   float64\n",
            " 36   total debt/total net worth                                          6819 non-null   float64\n",
            " 37   debt ratio %                                                        6819 non-null   float64\n",
            " 38   net worth/assets                                                    6819 non-null   float64\n",
            " 39   long-term fund suitability ratio (A)                                6819 non-null   float64\n",
            " 40   borrowing dependency                                                6819 non-null   float64\n",
            " 41   contingent liabilities/net worth                                    6819 non-null   float64\n",
            " 42   Operating profit/paid-in capital                                    6819 non-null   float64\n",
            " 43   net profit before tax/paid-in capital                               6819 non-null   float64\n",
            " 44   inventory and accounts receivable/net value                         6819 non-null   float64\n",
            " 45   total asset turnover                                                6819 non-null   float64\n",
            " 46   accounts receivable turnover                                        6819 non-null   float64\n",
            " 47   average collection days                                             6819 non-null   float64\n",
            " 48   inventory turnover rate (times)                                     6819 non-null   float64\n",
            " 49   fixed assets Turnover frequency                                     6819 non-null   float64\n",
            " 50   net worth turnover rate (times)                                     6819 non-null   float64\n",
            " 51   revenue per person                                                  6819 non-null   float64\n",
            " 52   operating profit per person                                         6819 non-null   float64\n",
            " 53   allocation rate per person                                          6819 non-null   float64\n",
            " 54   working capital to total assets                                     6819 non-null   float64\n",
            " 55  Quick asset/Total asset                                              6819 non-null   float64\n",
            " 56  current assets/total assets                                          6819 non-null   float64\n",
            " 57  cash / total assets                                                  6819 non-null   float64\n",
            " 58  Quick asset /current liabilities                                     6819 non-null   float64\n",
            " 59  cash / current liability                                             6819 non-null   float64\n",
            " 60  current liability to assets                                          6819 non-null   float64\n",
            " 61  operating funds to liability                                         6819 non-null   float64\n",
            " 62  Inventory/working capital                                            6819 non-null   float64\n",
            " 63  Inventory/current liability                                          6819 non-null   float64\n",
            " 64  current liability / liability                                        6819 non-null   float64\n",
            " 65  working capital/equity                                               6819 non-null   float64\n",
            " 66  current liability/equity                                             6819 non-null   float64\n",
            " 67  long-term liability to current assets                                6819 non-null   float64\n",
            " 68  Retained Earnings/Total assets                                       6819 non-null   float64\n",
            " 69  total income / total expense                                         6819 non-null   float64\n",
            " 70  total expense /assets                                                6819 non-null   float64\n",
            " 71   current asset turnover rate                                         6819 non-null   float64\n",
            " 72   quick asset turnover rate                                           6819 non-null   float64\n",
            " 73   working capitcal turnover rate                                      6819 non-null   float64\n",
            " 74   cash turnover rate                                                  6819 non-null   float64\n",
            " 75   Cash flow to Sales                                                  6819 non-null   float64\n",
            " 76   fix assets to assets                                                6819 non-null   float64\n",
            " 77   current liability to liability                                      6819 non-null   float64\n",
            " 78  current liability to equity                                          6819 non-null   float64\n",
            " 79  equity to long-term liability                                        6819 non-null   float64\n",
            " 80  Cash flow to total assets                                            6819 non-null   float64\n",
            " 81  cash flow to liability                                               6819 non-null   float64\n",
            " 82  CFO to ASSETS                                                        6819 non-null   float64\n",
            " 83  cash flow to equity                                                  6819 non-null   float64\n",
            " 84  current liabilities to current assets                                6819 non-null   float64\n",
            " 85  one if total liabilities exceeds total assets zero otherwise         6819 non-null   int64  \n",
            " 86  net income to total assets                                           6819 non-null   float64\n",
            " 87  total assets to GNP price                                            6819 non-null   float64\n",
            " 88  No-credit interval                                                   6819 non-null   float64\n",
            " 89  Gross profit to Sales                                                6819 non-null   float64\n",
            " 90  Net income to stockholder's Equity                                   6819 non-null   float64\n",
            " 91  liability to equity                                                  6819 non-null   float64\n",
            " 92  Degree of financial leverage (DFL)                                   6819 non-null   float64\n",
            " 93  Interest coverage ratio( Interest expense to EBIT )                  6819 non-null   float64\n",
            " 94  one if net income was negative for the last two year zero otherwise  6819 non-null   int64  \n",
            " 95  equity to liability                                                  6819 non-null   float64\n",
            "dtypes: float64(93), int64(3)\n",
            "memory usage: 5.0 MB\n"
          ],
          "name": "stdout"
        }
      ]
    },
    {
      "cell_type": "code",
      "metadata": {
        "colab": {
          "base_uri": "https://localhost:8080/"
        },
        "id": "TtmyzEHK2sbU",
        "outputId": "20a7a7d8-47b0-49e5-c32e-162100397f92"
      },
      "source": [
        "data.isnull().sum().any()"
      ],
      "execution_count": null,
      "outputs": [
        {
          "output_type": "execute_result",
          "data": {
            "text/plain": [
              "False"
            ]
          },
          "metadata": {
            "tags": []
          },
          "execution_count": 6
        }
      ]
    },
    {
      "cell_type": "markdown",
      "metadata": {
        "id": "Kcc58PRd3ChU"
      },
      "source": [
        " Seperating the attributes and label columns"
      ]
    },
    {
      "cell_type": "code",
      "metadata": {
        "id": "E_xjViBm263z"
      },
      "source": [
        "y = data['Bankrupt?']\n",
        "data = data.drop(['Bankrupt?'],axis = 1)"
      ],
      "execution_count": null,
      "outputs": []
    },
    {
      "cell_type": "markdown",
      "metadata": {
        "id": "tJMBXhDc4ObY"
      },
      "source": [
        "###Feature Selection"
      ]
    },
    {
      "cell_type": "markdown",
      "metadata": {
        "id": "4E1QYMww5Xfc"
      },
      "source": [
        "1. Removing Columns with very low variance value"
      ]
    },
    {
      "cell_type": "code",
      "metadata": {
        "colab": {
          "base_uri": "https://localhost:8080/",
          "height": 402
        },
        "id": "lsmWY0MC3e0H",
        "outputId": "89dede67-a637-4b0e-d5f6-08d69e2e43b0"
      },
      "source": [
        "data_mean = np.mean(data, axis = 0)\n",
        "variance = np.var(data/data_mean,axis = 0)\n",
        "variance_df = pd.DataFrame(variance, columns= ['Variance'])\n",
        "variance_df.sort_values(by = 'Variance')"
      ],
      "execution_count": null,
      "outputs": [
        {
          "output_type": "execute_result",
          "data": {
            "text/html": [
              "<div>\n",
              "<style scoped>\n",
              "    .dataframe tbody tr th:only-of-type {\n",
              "        vertical-align: middle;\n",
              "    }\n",
              "\n",
              "    .dataframe tbody tr th {\n",
              "        vertical-align: top;\n",
              "    }\n",
              "\n",
              "    .dataframe thead th {\n",
              "        text-align: right;\n",
              "    }\n",
              "</style>\n",
              "<table border=\"1\" class=\"dataframe\">\n",
              "  <thead>\n",
              "    <tr style=\"text-align: right;\">\n",
              "      <th></th>\n",
              "      <th>Variance</th>\n",
              "    </tr>\n",
              "  </thead>\n",
              "  <tbody>\n",
              "    <tr>\n",
              "      <th>one if net income was negative for the last two year zero otherwise</th>\n",
              "      <td>0.000000</td>\n",
              "    </tr>\n",
              "    <tr>\n",
              "      <th>operating profit growth rate</th>\n",
              "      <td>0.000161</td>\n",
              "    </tr>\n",
              "    <tr>\n",
              "      <th>operating profit rate</th>\n",
              "      <td>0.000170</td>\n",
              "    </tr>\n",
              "    <tr>\n",
              "      <th>Cash flow to Sales</th>\n",
              "      <td>0.000193</td>\n",
              "    </tr>\n",
              "    <tr>\n",
              "      <th>working capitcal turnover rate</th>\n",
              "      <td>0.000227</td>\n",
              "    </tr>\n",
              "    <tr>\n",
              "      <th>...</th>\n",
              "      <td>...</td>\n",
              "    </tr>\n",
              "    <tr>\n",
              "      <th>Quick asset /current liabilities</th>\n",
              "      <td>2281.318433</td>\n",
              "    </tr>\n",
              "    <tr>\n",
              "      <th>revenue per person</th>\n",
              "      <td>3450.486394</td>\n",
              "    </tr>\n",
              "    <tr>\n",
              "      <th>net value growth rate</th>\n",
              "      <td>5312.004777</td>\n",
              "    </tr>\n",
              "    <tr>\n",
              "      <th>fix assets to assets</th>\n",
              "      <td>6817.997213</td>\n",
              "    </tr>\n",
              "    <tr>\n",
              "      <th>current ratio</th>\n",
              "      <td>6817.999489</td>\n",
              "    </tr>\n",
              "  </tbody>\n",
              "</table>\n",
              "<p>95 rows × 1 columns</p>\n",
              "</div>"
            ],
            "text/plain": [
              "                                                       Variance\n",
              "one if net income was negative for the last two...     0.000000\n",
              " operating profit growth rate                          0.000161\n",
              " operating profit rate                                 0.000170\n",
              " Cash flow to Sales                                    0.000193\n",
              " working capitcal turnover rate                        0.000227\n",
              "...                                                         ...\n",
              "Quick asset /current liabilities                    2281.318433\n",
              " revenue per person                                 3450.486394\n",
              " net value growth rate                              5312.004777\n",
              " fix assets to assets                               6817.997213\n",
              " current ratio                                      6817.999489\n",
              "\n",
              "[95 rows x 1 columns]"
            ]
          },
          "metadata": {
            "tags": []
          },
          "execution_count": 8
        }
      ]
    },
    {
      "cell_type": "code",
      "metadata": {
        "colab": {
          "base_uri": "https://localhost:8080/"
        },
        "id": "OATMpafv6Qo9",
        "outputId": "f46c3fc8-24a9-4e96-d5cd-9baaf3c6b28e"
      },
      "source": [
        "from sklearn.feature_selection import VarianceThreshold\n",
        "VT = VarianceThreshold(5.0).fit(data/data_mean)\n",
        "VT_transform = VT.transform(data/data_mean)\n",
        "high_var_column = data.columns[VT.get_support()]\n",
        "low_var_column = data.columns[~VT.get_support()]\n",
        "print('Total columns: ', data.shape[1])\n",
        "print('Removed columns: ',len(low_var_column))\n",
        "print('Remaining columns: ',len(high_var_column))"
      ],
      "execution_count": null,
      "outputs": [
        {
          "output_type": "stream",
          "text": [
            "Total columns:  95\n",
            "Removed columns:  74\n",
            "Remaining columns:  21\n"
          ],
          "name": "stdout"
        }
      ]
    },
    {
      "cell_type": "code",
      "metadata": {
        "colab": {
          "base_uri": "https://localhost:8080/"
        },
        "id": "XnUStUwJ_Ica",
        "outputId": "81abe710-c05e-41fe-f2e4-5c6ef2e708cf"
      },
      "source": [
        "high_var_column"
      ],
      "execution_count": null,
      "outputs": [
        {
          "output_type": "execute_result",
          "data": {
            "text/plain": [
              "Index([' interest-bearing debt interest rate', ' Revenue Per Share (Yuan)',\n",
              "       ' net value growth rate', ' current ratio', ' quick ratio',\n",
              "       ' total debt/total net worth', ' long-term fund suitability ratio (A)',\n",
              "       ' accounts receivable turnover', ' average collection days',\n",
              "       ' fixed assets Turnover frequency', ' revenue per person',\n",
              "       ' allocation rate per person', 'Quick asset /current liabilities',\n",
              "       'cash / current liability', 'Inventory/current liability',\n",
              "       'long-term liability to current assets', 'total income / total expense',\n",
              "       ' current asset turnover rate', ' fix assets to assets',\n",
              "       'one if total liabilities exceeds total assets zero otherwise',\n",
              "       'total assets to GNP price'],\n",
              "      dtype='object')"
            ]
          },
          "metadata": {
            "tags": []
          },
          "execution_count": 10
        }
      ]
    },
    {
      "cell_type": "markdown",
      "metadata": {
        "id": "mRlm9W9z9ogP"
      },
      "source": [
        "2. SelectkBest feature selection method"
      ]
    },
    {
      "cell_type": "code",
      "metadata": {
        "colab": {
          "base_uri": "https://localhost:8080/"
        },
        "id": "nlRrtLdC7-_C",
        "outputId": "2b8458fc-5a64-47b0-ea09-5c33f1626758"
      },
      "source": [
        "from sklearn.feature_selection import SelectKBest,chi2\n",
        "data.shape"
      ],
      "execution_count": null,
      "outputs": [
        {
          "output_type": "execute_result",
          "data": {
            "text/plain": [
              "(6819, 95)"
            ]
          },
          "metadata": {
            "tags": []
          },
          "execution_count": 11
        }
      ]
    },
    {
      "cell_type": "code",
      "metadata": {
        "id": "2cqmpQy4-Auw"
      },
      "source": [
        "data_new = SelectKBest(chi2,k=20).fit_transform(data, y)"
      ],
      "execution_count": null,
      "outputs": []
    },
    {
      "cell_type": "code",
      "metadata": {
        "colab": {
          "base_uri": "https://localhost:8080/"
        },
        "id": "q-GCxy7smgXj",
        "outputId": "3aaf6891-73f6-4841-9562-77383f78e907"
      },
      "source": [
        "data_new.shape"
      ],
      "execution_count": null,
      "outputs": [
        {
          "output_type": "execute_result",
          "data": {
            "text/plain": [
              "(6819, 20)"
            ]
          },
          "metadata": {
            "tags": []
          },
          "execution_count": 13
        }
      ]
    },
    {
      "cell_type": "markdown",
      "metadata": {
        "id": "jsEJp3PogdO4"
      },
      "source": [
        "3. Recursive Feature Elimination"
      ]
    },
    {
      "cell_type": "code",
      "metadata": {
        "colab": {
          "base_uri": "https://localhost:8080/"
        },
        "id": "8OdEzDXBgli_",
        "outputId": "6d2b4175-1124-41ce-ef65-e64927393b6e"
      },
      "source": [
        "from sklearn.ensemble import RandomForestClassifier\n",
        "from sklearn.feature_selection import RFE\n",
        "estimator = RandomForestClassifier(n_estimators = 200)\n",
        "rfe = RFE(estimator,n_features_to_select = 20).fit(data,y)\n",
        "rfe_transform = rfe.transform(data)\n",
        "rfe_transform.shape"
      ],
      "execution_count": null,
      "outputs": [
        {
          "output_type": "execute_result",
          "data": {
            "text/plain": [
              "(6819, 20)"
            ]
          },
          "metadata": {
            "tags": []
          },
          "execution_count": 14
        }
      ]
    },
    {
      "cell_type": "code",
      "metadata": {
        "colab": {
          "base_uri": "https://localhost:8080/"
        },
        "id": "GmwpYmdaP9iz",
        "outputId": "bd5ac7bd-c43d-4fb0-c1c8-8ab8466672a3"
      },
      "source": [
        "print(data.columns[rfe.support_])"
      ],
      "execution_count": null,
      "outputs": [
        {
          "output_type": "stream",
          "text": [
            "Index([' ROA(B) before interest and depreciation after tax',\n",
            "       ' non-industry income and expenditure/revenue',\n",
            "       ' continuous interest rate (after tax)',\n",
            "       ' interest-bearing debt interest rate', ' per Net Share Value (B)',\n",
            "       ' Net Value Per Share (C)', ' Persistent EPS in the Last Four Seasons',\n",
            "       ' Per Share Net profit before tax (yuan)', ' net value growth rate',\n",
            "       ' quick ratio', ' interest expense ratio',\n",
            "       ' total debt/total net worth', ' net worth/assets',\n",
            "       ' borrowing dependency', ' net profit before tax/paid-in capital',\n",
            "       'cash / total assets', 'working capital/equity',\n",
            "       'Net income to stockholder's Equity',\n",
            "       'Degree of financial leverage (DFL)',\n",
            "       'Interest coverage ratio( Interest expense to EBIT )'],\n",
            "      dtype='object')\n"
          ],
          "name": "stdout"
        }
      ]
    },
    {
      "cell_type": "markdown",
      "metadata": {
        "id": "ubO-2Wl1tvHC"
      },
      "source": [
        "4. Recursive Feature elimination with cross validation"
      ]
    },
    {
      "cell_type": "code",
      "metadata": {
        "colab": {
          "base_uri": "https://localhost:8080/"
        },
        "id": "JwMTKa6ktuRU",
        "outputId": "b3a9a115-ea8d-478d-ad92-819bd188a998"
      },
      "source": [
        "from sklearn.feature_selection import RFECV\n",
        "from xgboost import XGBClassifier\n",
        "\n",
        "clf_3 = XGBClassifier()\n",
        "rfecv = RFECV(estimator = clf_3, step = 1, cv = 5, scoring = 'accuracy', n_jobs = -1).fit(data, y)       # step = 1, means eliminate 1 feature at each step, cv = cross validation folds\n",
        "\n",
        "print('optimal number of features: ', rfecv.n_features_)\n",
        "print('best features: ', data.columns[rfecv.support_])"
      ],
      "execution_count": null,
      "outputs": [
        {
          "output_type": "stream",
          "text": [
            "optimal number of features:  2\n",
            "best features:  Index([' Persistent EPS in the Last Four Seasons', ' net value growth rate'], dtype='object')\n"
          ],
          "name": "stdout"
        }
      ]
    },
    {
      "cell_type": "markdown",
      "metadata": {
        "id": "DoUAGGYLy0hm"
      },
      "source": [
        "Now, we gonna build several different classifier models\n",
        "\n",
        "But firstly, the value counts in labels are"
      ]
    },
    {
      "cell_type": "code",
      "metadata": {
        "colab": {
          "base_uri": "https://localhost:8080/"
        },
        "id": "OcK2khrJujrE",
        "outputId": "9c25f59e-7577-41fa-c790-f0e1eecaaa23"
      },
      "source": [
        "y.value_counts()"
      ],
      "execution_count": null,
      "outputs": [
        {
          "output_type": "execute_result",
          "data": {
            "text/plain": [
              "0    6599\n",
              "1     220\n",
              "Name: Bankrupt?, dtype: int64"
            ]
          },
          "metadata": {
            "tags": []
          },
          "execution_count": 16
        }
      ]
    },
    {
      "cell_type": "markdown",
      "metadata": {
        "id": "Vlh-fruMzNAT"
      },
      "source": [
        "0 - not bankrupt, 1 - bankrupt"
      ]
    },
    {
      "cell_type": "markdown",
      "metadata": {
        "id": "zOyTE6MszURN"
      },
      "source": [
        "### Building models and Evaluation"
      ]
    },
    {
      "cell_type": "code",
      "metadata": {
        "id": "QJxbCM04zKt3"
      },
      "source": [
        "from sklearn.preprocessing import StandardScaler\n",
        "from sklearn.model_selection import train_test_split, cross_val_score\n",
        "from sklearn.metrics import confusion_matrix, accuracy_score, roc_auc_score, classification_report\n",
        "from sklearn.linear_model import LogisticRegression\n",
        "from sklearn.ensemble import GradientBoostingClassifier, AdaBoostClassifier\n",
        "from xgboost import XGBClassifier"
      ],
      "execution_count": null,
      "outputs": []
    },
    {
      "cell_type": "code",
      "metadata": {
        "id": "72tCRO7I0QaT"
      },
      "source": [
        "X_train, X_test, y_train, y_test = train_test_split(rfe_transform, y, test_size =0.2,random_state = 0)\n",
        "scaler = StandardScaler().fit(X_train)"
      ],
      "execution_count": null,
      "outputs": []
    },
    {
      "cell_type": "markdown",
      "metadata": {
        "id": "32Qp9Ghj2Ipz"
      },
      "source": [
        "1. Random Forest Classifier"
      ]
    },
    {
      "cell_type": "code",
      "metadata": {
        "colab": {
          "base_uri": "https://localhost:8080/",
          "height": 298
        },
        "id": "LQzXIjks1Umg",
        "outputId": "acc508f5-ea5d-4640-d121-33df836bc363"
      },
      "source": [
        "model_1 = RandomForestClassifier(n_estimators=300)\n",
        "model_1.fit(X_train, y_train)\n",
        "y_pred_1 = model_1.predict(X_test)\n",
        "print('accuracy is: ', accuracy_score(y_test, y_pred_1))\n",
        "cm = confusion_matrix(y_test, y_pred_1)\n",
        "sns.heatmap(cm, annot= True, fmt = 'd')"
      ],
      "execution_count": null,
      "outputs": [
        {
          "output_type": "stream",
          "text": [
            "accuracy is:  0.968475073313783\n"
          ],
          "name": "stdout"
        },
        {
          "output_type": "execute_result",
          "data": {
            "text/plain": [
              "<matplotlib.axes._subplots.AxesSubplot at 0x7f6cec21ba50>"
            ]
          },
          "metadata": {
            "tags": []
          },
          "execution_count": 19
        },
        {
          "output_type": "display_data",
          "data": {
            "image/png": "[encoded data removed]",
            "text/plain": [
              "<Figure size 432x288 with 2 Axes>"
            ]
          },
          "metadata": {
            "tags": [],
            "needs_background": "light"
          }
        }
      ]
    },
    {
      "cell_type": "code",
      "metadata": {
        "colab": {
          "base_uri": "https://localhost:8080/"
        },
        "id": "nybcxqxb2EVX",
        "outputId": "edeb34d4-c915-4b90-ac0d-5ab6f70087f4"
      },
      "source": [
        "arg_test = {'y_true' : y_test, 'y_pred':y_pred_1}\n",
        "print(classification_report(**arg_test))"
      ],
      "execution_count": null,
      "outputs": [
        {
          "output_type": "stream",
          "text": [
            "              precision    recall  f1-score   support\n",
            "\n",
            "           0       0.97      0.99      0.98      1318\n",
            "           1       0.57      0.26      0.36        46\n",
            "\n",
            "    accuracy                           0.97      1364\n",
            "   macro avg       0.77      0.63      0.67      1364\n",
            "weighted avg       0.96      0.97      0.96      1364\n",
            "\n"
          ],
          "name": "stdout"
        }
      ]
    },
    {
      "cell_type": "markdown",
      "metadata": {
        "id": "KmyLIMZ-3dmP"
      },
      "source": [
        "2. Logistic Regression classification"
      ]
    },
    {
      "cell_type": "code",
      "metadata": {
        "colab": {
          "base_uri": "https://localhost:8080/",
          "height": 486
        },
        "id": "qBMNIblK2tPB",
        "outputId": "59ee25a0-daf9-46b0-fdf4-da880de3c333"
      },
      "source": [
        "model_2 = LogisticRegression()\n",
        "model_2.fit(X_train, y_train)\n",
        "y_pred_2 = model_2.predict(X_test)\n",
        "print('accuracy is: ', accuracy_score(y_test, y_pred_2))\n",
        "cm = confusion_matrix(y_test, y_pred_2)\n",
        "sns.heatmap(cm, annot= True, fmt = 'd')\n",
        "arg_test = {'y_true' : y_test, 'y_pred':y_pred_2}\n",
        "print(classification_report(**arg_test))"
      ],
      "execution_count": null,
      "outputs": [
        {
          "output_type": "stream",
          "text": [
            "accuracy is:  0.966275659824047\n",
            "              precision    recall  f1-score   support\n",
            "\n",
            "           0       0.97      1.00      0.98      1318\n",
            "           1       0.00      0.00      0.00        46\n",
            "\n",
            "    accuracy                           0.97      1364\n",
            "   macro avg       0.48      0.50      0.49      1364\n",
            "weighted avg       0.93      0.97      0.95      1364\n",
            "\n"
          ],
          "name": "stdout"
        },
        {
          "output_type": "stream",
          "text": [
            "/usr/local/lib/python3.7/dist-packages/sklearn/metrics/_classification.py:1272: UndefinedMetricWarning: Precision and F-score are ill-defined and being set to 0.0 in labels with no predicted samples. Use `zero_division` parameter to control this behavior.\n",
            "  _warn_prf(average, modifier, msg_start, len(result))\n"
          ],
          "name": "stderr"
        },
        {
          "output_type": "display_data",
          "data": {
            "image/png": "[encoded data removed]",
            "text/plain": [
              "<Figure size 432x288 with 2 Axes>"
            ]
          },
          "metadata": {
            "tags": [],
            "needs_background": "light"
          }
        }
      ]
    },
    {
      "cell_type": "markdown",
      "metadata": {
        "id": "4AdCczbA41oD"
      },
      "source": [
        "3. Gradient Boost Classifier"
      ]
    },
    {
      "cell_type": "code",
      "metadata": {
        "colab": {
          "base_uri": "https://localhost:8080/",
          "height": 433
        },
        "id": "dh1XI5At4Deq",
        "outputId": "f4b236fe-e251-460d-dda8-6f5147db62d6"
      },
      "source": [
        "model_3 = GradientBoostingClassifier(n_estimators=400,learning_rate=0.01)\n",
        "model_3.fit(X_train, y_train)\n",
        "y_pred_3 = model_3.predict(X_test)\n",
        "print('accuracy is: ', accuracy_score(y_test, y_pred_3))\n",
        "cm = confusion_matrix(y_test, y_pred_3)\n",
        "sns.heatmap(cm, annot= True, fmt = 'd')\n",
        "arg_test = {'y_true' : y_test, 'y_pred':y_pred_3}\n",
        "print(classification_report(**arg_test))"
      ],
      "execution_count": null,
      "outputs": [
        {
          "output_type": "stream",
          "text": [
            "accuracy is:  0.9721407624633431\n",
            "              precision    recall  f1-score   support\n",
            "\n",
            "           0       0.98      0.99      0.99      1318\n",
            "           1       0.65      0.37      0.47        46\n",
            "\n",
            "    accuracy                           0.97      1364\n",
            "   macro avg       0.82      0.68      0.73      1364\n",
            "weighted avg       0.97      0.97      0.97      1364\n",
            "\n"
          ],
          "name": "stdout"
        },
        {
          "output_type": "display_data",
          "data": {
            "image/png": "[encoded data removed]",
            "text/plain": [
              "<Figure size 432x288 with 2 Axes>"
            ]
          },
          "metadata": {
            "tags": [],
            "needs_background": "light"
          }
        }
      ]
    },
    {
      "cell_type": "markdown",
      "metadata": {
        "id": "7Lod1dnk8atc"
      },
      "source": [
        "4. Ada Boost classification"
      ]
    },
    {
      "cell_type": "code",
      "metadata": {
        "colab": {
          "base_uri": "https://localhost:8080/",
          "height": 433
        },
        "id": "wqURWNPm5NAH",
        "outputId": "de741642-85ba-4f2f-ab4f-29e52680a25f"
      },
      "source": [
        "model_4 = AdaBoostClassifier(n_estimators=200)\n",
        "model_4.fit(X_train, y_train)\n",
        "y_pred_4 = model_4.predict(X_test)\n",
        "print('accuracy is: ', accuracy_score(y_test, y_pred_4))\n",
        "cm = confusion_matrix(y_test, y_pred_4)\n",
        "sns.heatmap(cm, annot= True, fmt = 'd')\n",
        "arg_test = {'y_true' : y_test, 'y_pred':y_pred_4}\n",
        "print(classification_report(**arg_test))"
      ],
      "execution_count": null,
      "outputs": [
        {
          "output_type": "stream",
          "text": [
            "accuracy is:  0.969208211143695\n",
            "              precision    recall  f1-score   support\n",
            "\n",
            "           0       0.98      0.99      0.98      1318\n",
            "           1       0.56      0.39      0.46        46\n",
            "\n",
            "    accuracy                           0.97      1364\n",
            "   macro avg       0.77      0.69      0.72      1364\n",
            "weighted avg       0.96      0.97      0.97      1364\n",
            "\n"
          ],
          "name": "stdout"
        },
        {
          "output_type": "display_data",
          "data": {
            "image/png": "[encoded data removed]",
            "text/plain": [
              "<Figure size 432x288 with 2 Axes>"
            ]
          },
          "metadata": {
            "tags": [],
            "needs_background": "light"
          }
        }
      ]
    },
    {
      "cell_type": "markdown",
      "metadata": {
        "id": "AyVnHLx48fqx"
      },
      "source": [
        "5. XGBoost classification"
      ]
    },
    {
      "cell_type": "code",
      "metadata": {
        "colab": {
          "base_uri": "https://localhost:8080/",
          "height": 433
        },
        "id": "p2zwlxf357X6",
        "outputId": "c1739d6c-63a3-4213-e716-a03d021d8628"
      },
      "source": [
        "model_5 = XGBClassifier(n_estimators=200,max_depth=5)\n",
        "model_5.fit(X_train, y_train)\n",
        "y_pred_5 = model_5.predict(X_test)\n",
        "print('accuracy is: ', accuracy_score(y_test, y_pred_5))\n",
        "cm = confusion_matrix(y_test, y_pred_5)\n",
        "sns.heatmap(cm, annot= True, fmt = 'd')\n",
        "arg_test = {'y_true' : y_test, 'y_pred':y_pred_5}\n",
        "print(classification_report(**arg_test))"
      ],
      "execution_count": null,
      "outputs": [
        {
          "output_type": "stream",
          "text": [
            "accuracy is:  0.9750733137829912\n",
            "              precision    recall  f1-score   support\n",
            "\n",
            "           0       0.98      0.99      0.99      1318\n",
            "           1       0.73      0.41      0.53        46\n",
            "\n",
            "    accuracy                           0.98      1364\n",
            "   macro avg       0.86      0.70      0.76      1364\n",
            "weighted avg       0.97      0.98      0.97      1364\n",
            "\n"
          ],
          "name": "stdout"
        },
        {
          "output_type": "display_data",
          "data": {
            "image/png": "[encoded data removed]",
            "text/plain": [
              "<Figure size 432x288 with 2 Axes>"
            ]
          },
          "metadata": {
            "tags": [],
            "needs_background": "light"
          }
        }
      ]
    },
    {
      "cell_type": "markdown",
      "metadata": {
        "id": "LrE1d_6q8O9I"
      },
      "source": [
        "Cross Validation score on Recall score"
      ]
    },
    {
      "cell_type": "code",
      "metadata": {
        "colab": {
          "base_uri": "https://localhost:8080/"
        },
        "id": "H6H6HMWt6s58",
        "outputId": "b2fb4bbd-1c65-4797-aa27-70673f436864"
      },
      "source": [
        "from sklearn.metrics import make_scorer, recall_score\n",
        "recall_score = make_scorer(recall_score)\n",
        "cv_score = cross_val_score(model_5,X_train,y_train,cv=5,scoring= recall_score)\n",
        "print('cv_score: ',cv_score)\n",
        "print('mean: ',cv_score.mean())"
      ],
      "execution_count": null,
      "outputs": [
        {
          "output_type": "stream",
          "text": [
            "cv_score:  [0.17647059 0.25714286 0.28571429 0.2        0.25714286]\n",
            "mean:  0.23529411764705882\n"
          ],
          "name": "stdout"
        }
      ]
    },
    {
      "cell_type": "code",
      "metadata": {
        "colab": {
          "base_uri": "https://localhost:8080/"
        },
        "id": "hbi4GO2G9R3d",
        "outputId": "4ceb03f1-7447-4ac1-a7a5-ce94746d14d4"
      },
      "source": [
        "cv_score = cross_val_score(model_4,X_train,y_train,cv=5,scoring= recall_score)\n",
        "print('cv_score: ',cv_score)\n",
        "print('mean: ',cv_score.mean())"
      ],
      "execution_count": null,
      "outputs": [
        {
          "output_type": "stream",
          "text": [
            "cv_score:  [0.29411765 0.31428571 0.25714286 0.31428571 0.31428571]\n",
            "mean:  0.2988235294117647\n"
          ],
          "name": "stdout"
        }
      ]
    },
    {
      "cell_type": "markdown",
      "metadata": {
        "id": "k-g0MpYF9lBE"
      },
      "source": [
        "### ROC Curve"
      ]
    },
    {
      "cell_type": "markdown",
      "metadata": {
        "id": "y-uiUjm-X7t6"
      },
      "source": [
        "The ROC curve shows the trade-off between sensitivity (or TPR) and specificity (1 – FPR). Classifiers that give curves closer to the top-left corner indicate a better performance. As a baseline, a random classifier is expected to give points lying along the diagonal (FPR = TPR). The closer the curve comes to the 45-degree diagonal of the ROC space, the less accurate the test.\n",
        "\n",
        "Note that the ROC does not depend on the class distribution. This makes it useful for evaluating classifiers predicting rare events such as diseases or disasters. In contrast, evaluating performance using accuracy (TP +\n",
        "\n",
        "TN)/(TP + TN + FN + FP) would favor classifiers that always predict a negative outcome for rare events.\n",
        "\n",
        "![ROC-curve-1-360x296.jpg](data:image/jpeg;base64,/9j/4AAQSkZJRgABAQEAYABgAAD/4SvCRXhpZgAATU0AKgAAAAgABgALAAIAAAAmAAAIYgESAAMAAAABAAEAAAExAAIAAAAmAAAIiAEyAAIAAAAUAAAIrodpAAQAAAABAAAIwuocAAcAAAgMAAAAVgAAEUYc6gAAAAgAAAAAAAAAAAAAAAAAAAAAAAAAAAAAAAAAAAAAAAAAAAAAAAAAAAAAAAAAAAAAAAAAAAAAAAAAAAAAAAAAAAAAAAAAAAAAAAAAAAAAAAAAAAAAAAAAAAAAAAAAAAAAAAAAAAAAAAAAAAAAAAAAAAAAAAAAAAAAAAAAAAAAAAAAAAAAAAAAAAAAAAAAAAAAAAAAAAAAAAAAAAAAAAAAAAAAAAAAAAAAAAAAAAAAAAAAAAAAAAAAAAAAAAAAAAAAAAAAAAAAAAAAAAAAAAAAAAAAAAAAAAAAAAAAAAAAAAAAAAAAAAAAAAAAAAAAAAAAAAAAAAAAAAAAAAAAAAAAAAAAAAAAAAAAAAAAAAAAAAAAAAAAAAAAAAAAAAAAAAAAAAAAAAAAAAAAAAAAAAAAAAAAAAAAAAAAAAAAAAAAAAAAAAAAAAAAAAAAAAAAAAAAAAAAAAAAAAAAAAAAAAAAAAAAAAAAAAAAAAAAAAAAAAAAAAAAAAAAAAAAAAAAAAAAAAAAAAAAAAAAAAAAAAAAAAAAAAAAAAAAAAAAAAAAAAAAAAAAAAAAAAAAAAAAAAAAAAAAAAAAAAAAAAAAAAAAAAAAAAAAAAAAAAAAAAAAAAAAAAAAAAAAAAAAAAAAAAAAAAAAAAAAAAAAAAAAAAAAAAAAAAAAAAAAAAAAAAAAAAAAAAAAAAAAAAAAAAAAAAAAAAAAAAAAAAAAAAAAAAAAAAAAAAAAAAAAAAAAAAAAAAAAAAAAAAAAAAAAAAAAAAAAAAAAAAAAAAAAAAAAAAAAAAAAAAAAAAAAAAAAAAAAAAAAAAAAAAAAAAAAAAAAAAAAAAAAAAAAAAAAAAAAAAAAAAAAAAAAAAAAAAAAAAAAAAAAAAAAAAAAAAAAAAAAAAAAAAAAAAAAAAAAAAAAAAAAAAAAAAAAAAAAAAAAAAAAAAAAAAAAAAAAAAAAAAAAAAAAAAAAAAAAAAAAAAAAAAAAAAAAAAAAAAAAAAAAAAAAAAAAAAAAAAAAAAAAAAAAAAAAAAAAAAAAAAAAAAAAAAAAAAAAAAAAAAAAAAAAAAAAAAAAAAAAAAAAAAAAAAAAAAAAAAAAAAAAAAAAAAAAAAAAAAAAAAAAAAAAAAAAAAAAAAAAAAAAAAAAAAAAAAAAAAAAAAAAAAAAAAAAAAAAAAAAAAAAAAAAAAAAAAAAAAAAAAAAAAAAAAAAAAAAAAAAAAAAAAAAAAAAAAAAAAAAAAAAAAAAAAAAAAAAAAAAAAAAAAAAAAAAAAAAAAAAAAAAAAAAAAAAAAAAAAAAAAAAAAAAAAAAAAAAAAAAAAAAAAAAAAAAAAAAAAAAAAAAAAAAAAAAAAAAAAAAAAAAAAAAAAAAAAAAAAAAAAAAAAAAAAAAAAAAAAAAAAAAAAAAAAAAAAAAAAAAAAAAAAAAAAAAAAAAAAAAAAAAAAAAAAAAAAAAAAAAAAAAAAAAAAAAAAAAAAAAAAAAAAAAAAAAAAAAAAAAAAAAAAAAAAAAAAAAAAAAAAAAAAAAAAAAAAAAAAAAAAAAAAAAAAAAAAAAAAAAAAAAAAAAAAAAAAAAAAAAAAAAAAAAAAAAAAAAAAAAAAAAAAAAAAAAAAAAAAAAAAAAAAAAAAAAAAAAAAAAAAAAAAAAAAAAAAAAAAAAAAAAAAAAAAAAAAAAAAAAAAAAAAAAAAAAAAAAAAAAAAAAAAAAAAAAAAAAAAAAAAAAAAAAAAAAAAAAAAAAAAAAAAAAAAAAAAAAAAAAAAAAAAAAAAAAAAAAAAAAAAAAAAAAAAAAAAAAAAAAAAAAAAAAAAAAAAAAAAAAAAAAAAAAAAAAAAAAAAAAAAAAAAAAAAAAAAAAAAAAAAAAAAAAAAAAAAAAAAAAAAAAAAAAAAAAAAAAAAAAAAAAAAAAAAAAAAAAAAAAAAAAAAAAAAAAAAAAAAAAAAAAAAAAAAAAAAAAAAAAAAAAAAAAAAAAAAAAAAAAAAAAAAAAAAAAAAAAAAAAAAAAAAAAAAAAAAAAAAAAAAAAAAAAAAAAAAAAAAAAAAAAAAAAAAAAAAAAAAAAAAAAAAAAAAAAAAAAAAAAAAAAAAAAAAAAAAAAAAAAAAAAAAAAAAAAAAAAAAAAAAAAAAAAAAAAAAAAAAAAAAAAAAAAAAAAAAAAAAAAAAAAAAAAAAAAAAAAAAAAAAAAAAAAAAAAAAAAAAAAAAAAAAAAAAAAAAAAAAAAAAAAAAAAAAAAAAAAAAAAAAAAAAAAAAAAAAAAAAAAAAAAAAAAAAAAAAAAAAAAAAAAAAAAAAAAAAAAAAAAAAAAAAAAAAAAAAAAAAAAAAAAAAAAAAAAAAAAAAAAAAAAAAAAAAAAAAAAAAAAAAAAAAAAAAAAAAAAAAAAAAAAAAAAAAAAAAAAAAAAAAAAAAAAAAAAAAAAAAAAAAAAAAAAAAAAAAAAAAAAAAAAAAAAAAAAAAAAAAAAAAAAAAAAAAAAAAAAAAAAAAAAAAAAAAAAAAAAAAAAAAAAAAAAAAAAAAAAAAAAAAAAAAAAAAAAAAAAAAAAAAAAAAAAAAAAAAAAAAAAAAAAAAAAAAAAAAAAAAAAAAAAAAAAAAAAAAAAAAAAAAAAAAAAAAAAAAAAAAAAAAAAAAAAAAAAAAAAAAAAAAAAAAAAAAAAAAAAAAAAAAAAAAAAAAAAAAAAAAAAAAAAAAAAAAAAAAAAAAAAAAAAAAAAAAAAAAAAAAAAAAAAAAAAAAAAAAAAAAAAAAAAAAAAAFdpbmRvd3MgUGhvdG8gRWRpdG9yIDEwLjAuMTAwMTEuMTYzODQAV2luZG93cyBQaG90byBFZGl0b3IgMTAuMC4xMDAxMS4xNjM4NAAyMDE4OjA3OjA1IDE1OjEwOjA4AAAGkAMAAgAAABQAABEckAQAAgAAABQAABEwkpEAAgAAAAMzNgAAkpIAAgAAAAMzNgAAoAEAAwAAAAEAAQAA6hwABwAACAwAAAkQAAAAABzqAAAACAAAAAAAAAAAAAAAAAAAAAAAAAAAAAAAAAAAAAAAAAAAAAAAAAAAAAAAAAAAAAAAAAAAAAAAAAAAAAAAAAAAAAAAAAAAAAAAAAAAAAAAAAAAAAAAAAAAAAAAAAAAAAAAAAAAAAAAAAAAAAAAAAAAAAAAAAAAAAAAAAAAAAAAAAAAAAAAAAAAAAAAAAAAAAAAAAAAAAAAAAAAAAAAAAAAAAAAAAAAAAAAAAAAAAAAAAAAAAAAAAAAAAAAAAAAAAAAAAAAAAAAAAAAAAAAAAAAAAAAAAAAAAAAAAAAAAAAAAAAAAAAAAAAAAAAAAAAAAAAAAAAAAAAAAAAAAAAAAAAAAAAAAAAAAAAAAAAAAAAAAAAAAAAAAAAAAAAAAAAAAAAAAAAAAAAAAAAAAAAAAAAAAAAAAAAAAAAAAAAAAAAAAAAAAAAAAAAAAAAAAAAAAAAAAAAAAAAAAAAAAAAAAAAAAAAAAAAAAAAAAAAAAAAAAAAAAAAAAAAAAAAAAAAAAAAAAAAAAAAAAAAAAAAAAAAAAAAAAAAAAAAAAAAAAAAAAAAAAAAAAAAAAAAAAAAAAAAAAAAAAAAAAAAAAAAAAAAAAAAAAAAAAAAAAAAAAAAAAAAAAAAAAAAAAAAAAAAAAAAAAAAAAAAAAAAAAAAAAAAAAAAAAAAAAAAAAAAAAAAAAAAAAAAAAAAAAAAAAAAAAAAAAAAAAAAAAAAAAAAAAAAAAAAAAAAAAAAAAAAAAAAAAAAAAAAAAAAAAAAAAAAAAAAAAAAAAAAAAAAAAAAAAAAAAAAAAAAAAAAAAAAAAAAAAAAAAAAAAAAAAAAAAAAAAAAAAAAAAAAAAAAAAAAAAAAAAAAAAAAAAAAAAAAAAAAAAAAAAAAAAAAAAAAAAAAAAAAAAAAAAAAAAAAAAAAAAAAAAAAAAAAAAAAAAAAAAAAAAAAAAAAAAAAAAAAAAAAAAAAAAAAAAAAAAAAAAAAAAAAAAAAAAAAAAAAAAAAAAAAAAAAAAAAAAAAAAAAAAAAAAAAAAAAAAAAAAAAAAAAAAAAAAAAAAAAAAAAAAAAAAAAAAAAAAAAAAAAAAAAAAAAAAAAAAAAAAAAAAAAAAAAAAAAAAAAAAAAAAAAAAAAAAAAAAAAAAAAAAAAAAAAAAAAAAAAAAAAAAAAAAAAAAAAAAAAAAAAAAAAAAAAAAAAAAAAAAAAAAAAAAAAAAAAAAAAAAAAAAAAAAAAAAAAAAAAAAAAAAAAAAAAAAAAAAAAAAAAAAAAAAAAAAAAAAAAAAAAAAAAAAAAAAAAAAAAAAAAAAAAAAAAAAAAAAAAAAAAAAAAAAAAAAAAAAAAAAAAAAAAAAAAAAAAAAAAAAAAAAAAAAAAAAAAAAAAAAAAAAAAAAAAAAAAAAAAAAAAAAAAAAAAAAAAAAAAAAAAAAAAAAAAAAAAAAAAAAAAAAAAAAAAAAAAAAAAAAAAAAAAAAAAAAAAAAAAAAAAAAAAAAAAAAAAAAAAAAAAAAAAAAAAAAAAAAAAAAAAAAAAAAAAAAAAAAAAAAAAAAAAAAAAAAAAAAAAAAAAAAAAAAAAAAAAAAAAAAAAAAAAAAAAAAAAAAAAAAAAAAAAAAAAAAAAAAAAAAAAAAAAAAAAAAAAAAAAAAAAAAAAAAAAAAAAAAAAAAAAAAAAAAAAAAAAAAAAAAAAAAAAAAAAAAAAAAAAAAAAAAAAAAAAAAAAAAAAAAAAAAAAAAAAAAAAAAAAAAAAAAAAAAAAAAAAAAAAAAAAAAAAAAAAAAAAAAAAAAAAAAAAAAAAAAAAAAAAAAAAAAAAAAAAAAAAAAAAAAAAAAAAAAAAAAAAAAAAAAAAAAAAAAAAAAAAAAAAAAAAAAAAAAAAAAAAAAAAAAAAAAAAAAAAAAAAAAAAAAAAAAAAAAAAAAAAAAAAAAAAAAAAAAAAAAAAAAAAAAAAAAAAAAAAAAAAAAAAAAAAAAAAAAAAAAAAAAAAAAAAAAAAAAAAAAAAAAAAAAAAAAAAAAAAAAAAAAAAAAAAAAAAAAAAAAAAAAAAAAAAAAAAAAAAAAAAAAAAAAAAAAAAAAAAAAAAAAAAAAAAAAAAAAAAAAAAAAAAAAAAAAAAAAAAAAAAAAAAAAAAAAAAAAAAAAAAAAAAAAAAAAAAAAAAAAAAAAAAAAAAAAAAAAAAAAAAAAAAAAAAAAAAAAAAAAAAAAAAAAAAAAAAAAAAAAAAAAAAAAAAAAAAAAAAAAAAAAAAAAAAAAAAAAAAAAAAAAAAAAAAAAAAAAAAAAAAAAAAAAAAAAAAAAAAAAAAAAAAAAAAAAAAAAAAAAAAAAAAAAAAAAAAAAAAAAAAAAAAAAAAAAAAAAAAAAAAAAAAAAAAAAAAAAAAAAAAAAAAAAAAAAAAAAAAAAAAAAAAAAAAAAAAAAAAAAAAAAAAAAAAAAAAAAAAAAAAAAAAAAAAAAAAAAAAAAAAAAAAAAAAAAAAAAAAAAAAAAAAAAAAAAAAAAAAAAAAAAAAAAAAAAAAAAAAAAAAAAAAAAAAAAAAAAAAAAAAAAAAAAAAAAAAAAAAAAAAAAAAAAAAAAAAAAAAAAAAAAAAAAAAAAAAAAAAAAAAAAAAAAAAAAAAAAAAAAAAAAAAAAAAAAAAAAAAAAAAAAAAAAAAAAAAAAAAAAAAAAAAAAAAAAAAAAAAAAAAAAAAAAAAAAAAAAAAAAAAAAAAAAAAAAAAAAAAAAAAAAAAAAAAAAAAAAAAAAAAAAAAAAAAAAAAMjAxODowNzowNSAxNDo1OToyOQAyMDE4OjA3OjA1IDE0OjU5OjI5AAAAAAYBAwADAAAAAQAGAAABGgAFAAAAAQAAEZQBGwAFAAAAAQAAEZwBKAADAAAAAQACAAACAQAEAAAAAQAAEaQCAgAEAAAAAQAAGhYAAAAAAAAAYAAAAAEAAABgAAAAAf/Y/9sAQwAIBgYHBgUIBwcHCQkICgwUDQwLCwwZEhMPFB0aHx4dGhwcICQuJyAiLCMcHCg3KSwwMTQ0NB8nOT04MjwuMzQy/9sAQwEJCQkMCwwYDQ0YMiEcITIyMjIyMjIyMjIyMjIyMjIyMjIyMjIyMjIyMjIyMjIyMjIyMjIyMjIyMjIyMjIyMjIy/8AAEQgA0gEAAwEhAAIRAQMRAf/EAB8AAAEFAQEBAQEBAAAAAAAAAAABAgMEBQYHCAkKC//EALUQAAIBAwMCBAMFBQQEAAABfQECAwAEEQUSITFBBhNRYQcicRQygZGhCCNCscEVUtHwJDNicoIJChYXGBkaJSYnKCkqNDU2Nzg5OkNERUZHSElKU1RVVldYWVpjZGVmZ2hpanN0dXZ3eHl6g4SFhoeIiYqSk5SVlpeYmZqio6Slpqeoqaqys7S1tre4ubrCw8TFxsfIycrS09TV1tfY2drh4uPk5ebn6Onq8fLz9PX29/j5+v/EAB8BAAMBAQEBAQEBAQEAAAAAAAABAgMEBQYHCAkKC//EALURAAIBAgQEAwQHBQQEAAECdwABAgMRBAUhMQYSQVEHYXETIjKBCBRCkaGxwQkjM1LwFWJy0QoWJDThJfEXGBkaJicoKSo1Njc4OTpDREVGR0hJSlNUVVZXWFlaY2RlZmdoaWpzdHV2d3h5eoKDhIWGh4iJipKTlJWWl5iZmqKjpKWmp6ipqrKztLW2t7i5usLDxMXGx8jJytLT1NXW19jZ2uLj5OXm5+jp6vLz9PX29/j5+v/aAAwDAQACEQMRAD8A8nooAKKAEzRmgBaKAFooAKKACigAooAKKACigAooAKKAEo5oAM0UAFFABRQAUUAFIelAHRabp3hi6hja91Ge1crBvHmDhi7iTHydMKn03ZOcVPpHgy28T6tc2Gia9b+fHukEMsbnEYIGd4UK3LDp1oAreJfBt74Pngh1a8gLXELyQtCjMrsrAFMkDBwQc4rPNnpok2rrCsm8ru+zOPlC5DfieMfjQAxbayKAnUgG2xkjyG4JPzD/AICOfftQ1tYhSV1MMcSEDyHHK/cH/Av070APW004y7W1cKu9Ru+zOeCMk49jxjvUXkWnlbvt/wA/lB9vkt9/djZn6fNn8KAHvbWAkZV1MMoZwG8hxkBcqcf7R49sULbWBxu1ML/qv+Xd/wCL7/8A3z+vagBHtrJQ+3Ug5CMVHkMNxDYA/Ec57dKkNppwkIGrgqJdu77M/KYzv/PjHWgCNbayKAnUQG2ISvkNwSfmH/ARznvSta2AD7dUDEGTaPs7jdgfJ/31+negBRa2BcA6oAN6DP2d+hHzH/gJ4x37VGYLQIx+35YRlgPJblt2Nv8A3z82fw60ASm007zNo1cbfNKbvsz/AHMZD49zxjrTFtrAgbtTC58r/l3c43ff/wC+f17UAJJb2SpmPUg5/eceQwzjG3/vrn6Y5qQ2mmCbadYXZ5oTf9mf7mMl8fXjHWgCARWPkhjqQDlASnkNwSxBGfZfmz74q9ZaDJqjN/Zz3FzGruplSzfYABlSW6Dd7njvQBeg8Heba3Fw+v6XGLaJZZgJDJsBHIJTIzu+UDOW7VzSnKg0ALRQAUUAFFABRQAhUHqK6z4aXc+ma/rF9aY86DSZZFBgaUHEkZxtUgnPTrx17UAXBe6l8Ztb+yXFxb6bPZW7S2UIQtG+SN+5s5yfl6A8A8evIalp76Rqk+nS3NvcTW7FJGt2JUMOCMkDkUAV6KACigAooAKKACloASigAppYZwOSegFAGsPDeprGst6kWmxNnDX8giJx6IfnP4A0nkeH7QEz3l5qcuOI7RPIjzn/AJ6OCx/74H1oAU64ISw07SNOs1zlWaLz3Hp80m79AKgurvWNbimmu7m8vIbfDOXYskW44HHRcmgCkuViaJWYRsQzICcEjOCR7ZP5mloASigAooAKKACloASuj8DyLFd+IGaRIx/Y0w3POYRy8f8AEOR9O/TvQBzVhcT2e6S2kMckkTwsw/uuCrD8QTW9AyeJ4o7W5dY9djAS3uXbC3ijgRyE/wDLTsrd+h7GgDDkDQyvFMjRyoxV0cYKkcEEdjTdy+ooAN6+oo3r6igA3r6il3L6igBN6+oo3r6igB2c9KKAEJA6mr1jo+oalC89vBttYziS6mYRwp04LtgZ5HHWgCwLfQrA7ru7m1SYf8sLPMUWc/xSMMn8F/GgeIr2BSumw22mLjbm0jxJj/ro2X/WgDKcvNK0szvJK5yzuxJY+pJooAfCkctxFHNN5MTOFeXaW2KTycDrj0rQ1TU0uIk07To3t9KgbdHGx+eV+hkkx1Y/kBwKAM2igApKACigAooAWigBK6j4fiQ6jrwi87edGnx5AUv95OgbigDkof8AVLUhUEUAbml65p1hp5t7zQo76TP+saQKSpbLD7pPI4znIxRqOtaRc2EsFl4djs5ZFZTKs27qyMOCOPuEdf4jQBZ/4STRRKp/4RmNo1cERvKuAu5zjhBnh8ZP90VFDr2ixtE7+G1d47fysGcbTJhcSfdzng8Zxz9aAC18QaVBBPHL4fSbzrw3BLSgfJlsJ930bHHHHSmy67o/2rzbXw5HEhwDG8obA3EnB25BIwO+MUASTeItHdf3fhe3jZYnRSJMjJA2sw284Iz75qV/Evh8gJH4RijRnLPicEnkkYynAGenfAB6UAYep3tteXfm2tjHZQBQqwo27H1PUn3NS2mjXd1ai8laOysCSBdXTFUYjsg6ueP4QffFAFg3mj6YNmnWn9o3I63l8uIx1+5D09OXJ+gqhfahe6pIr311JNsGEUnCoPRVHCj2AoArgYoxQAVd0vTJNTmk/eLb2kCh7m6kHyQr/UnoFHJNAFWTyvOkELO8QY7GddrFc8EjJwfxptABRQAUUAJRQAUtABRQBo6T4f1PXluG06FZBbtGsm5wuN5IHX6GtzwlpGoWcviOW5s3W1XSp4vtL28kkDNvTgFcZ4B6Hjr2oA42D/VL9KkoAMUUAFFABRQAVZsNPu9UmeO0jBEa7pZXYLHEv952PCj60AXfP0rSBi0RNUv+9xMh+zx8fwIeXOe7cf7Pes+9vLvUrk3N9cPPLjALn7o9AOgHsOKAIcUtABRQAlWpb+5l02DTtypaxMZPLRcb3P8AE39444GegoArUUAFFABRQAUlAC0UAFFAE9rf31gHFldzW/mFWfy2IyV+6fwyfzrofAkk02reIppZJZJZNGuGZhL5bE7k53HgUAclB/qhUtABRQAUlABSFgBkmgDVg0qG3to77W5Xgt5E8yC1j/19yOxH9xD/AHj6cA1Df6tPfxLapGlpp6Nujs4OEB6Zbuzf7RyfpQBRAx0paACigAq3p2nNqVyyGeO2t4k8yeeTpGgIBOOpOSAAOpIoAfqd7a3UscNhaiCyt1KRbgPNk9XkbuT6dB0FUaACigAooAKKACigAooAKaWGcZoAWun8BBmv9fCFwx0WfGyESn7yfwng0AcpB/qhUtABRQAU0kAZNAHS6HoyWlv/AG5rEiQW0bKsUEkPmtIzjKExnG6NhkDBzkcdCarypY6FJLNLaK+qO2YbFz5kdiD/AM9Cfvv6L0H8XPFAGPc3Fxe3Ul1dzPPcSHLyOck0ygAooAKKAJ7WyubyK5mgjzDap5k0hICoM4HJ7k9B1Paq+AaAFooAKKACigAooAKKACigBDW6by9bweLKDTTBZgmW5u3JAnIYbQDwDjPTn14xQBg9q6TwRIkV14geQoEGjTZ8yVox9+P+Jef8elAHMQ/6oVLQAUUANJAGTXR+G9FjWeHWNYYQ6asbSxbZF8yZgcDYpzuO7jbj0zwRkANQvzo8pjjCjVVLbFTPl6cp6qiknbKTycHCHIHPTnAMEkkknkk96AHUUAFFABSHkdcUAaeqamlzFHp9hG1vpUDZjiY/NK3QySEdWP5AcD3zaACigAooAKKACigAooAKKAENdGrqnw6LsRMz3LR/vIX/AHZ+XAVw4XGOdpB5NAHNA9gCT6AV1Pw+806pryxi4Eo0afiBlVx86ZwW4H+e9AHKQf6paloAKKALWlT6fb6tbPqtt9osCxWaMEg7SMZGCDkdevat7UtUawiS4UPBfzxxm0tN+4WUQXasjnADTFcBTjKryeSMAHKKuPcnqadQAtFACZpwjlMBuBFIYA+wy7TtDYzjPTOO1AFzS9Mk1OaQmVbezt133N1ICViX+rHoFHJNQXRtTdy/YVmFruxH55Bcj1OABk9cdvegCGigAooAKKACigAooAKKACigBD0NdGkYb4azvCbnCXQM4EQWPcSAp3dWwB07E9u4BQ0LxDc+HxcfZ7S1nM7RMWnUkrsbcMYI74/IelbvhfVrnVr3xKJra0YS6ZNLs+xeaxO9OCR+8b8WODyelAHFQf6oVLQAUhoA1tMgisbM67fQpJGrGOygk6TzD+IjuidT2JwPWsuWaa5uJLm4kaWeVi7uxyWJ6mgBtLQAUlAGp4f0SXXdTjhyI7VWzNMzbFA443YOCcgdD1FWtX1uBNIj8O6T/wAeMUpeefg/aH4AYcZHQnqc59AKAMc3dy1glgZm+yrIZREOAXIAyfU4Hfp+NRUAFFABRQAUUAFFABRQAUUAFFACGuggMb/Da7VWIkivtzAK3IYJjJ2kfwn+IdO/FAHOjpXT+BCq32vlyoX+xpvvTmEffj/jHT+vSgDloP8AVCpaACrWmaf/AGnfCBpRBAimW4nKkiKNeWbA6+gHckDvQAuqX66leiSKLybSFBFaw/8APOMdAfUnkk9yTVOgBaKAErR0XQrnX5ZlgmihihUGSSRgAM8dP69BkZxQBfvpNJvdQj0vRbptO0xY9l3dSTNsuVXkOUwCX9u5wBgDNUNS1KO5jisbCFrfS7YkwxNjfI3QySEdXP5AcCgDOpaACigAooAKKACigAooAKKACigBDW8l1eN4DniR9NSzW42yR+YwuHbKndt3bT2GQOxoAwB0rqPAAdtR14IsjMdFnwI1RmPzJ2bg/jQBykH+qFSUAIxwMmti9/4lOjx6UqgXd2FuL1sHcqEZji/L5z7lf7tAGQBS0AFJQBe0fRLvxBdm3tnihQEB55m2opOcL7scHAHJwfSug1q7ttYe4tPDdsljpdnG0t5NJs2BzhflYAkFgqrhThvTAJIBx6gbelOoAWigAooAKKACigAooAKKACigAooAQ1uJrEQ8BTaS7QvK11vQGRhJGMqTgbdpU4/vDntQBg5AHJrpPAskIu/EDStAE/sWfPn52ffj645/KgDmYP8AVCpKANPQreF7ubULuLzLLTk8+VCPlkbOEjPH8TYz7Bqz57ie8uprq5kMk8zmSRz3YnJoAbRQAVsaB4Xv/ETSvbbRa25HnuHUuoJ7LnJOM47EjGaAHarrFqNEfw/ppSa1ScOL1UKNNHgnY4IGSGPXAztHAxVK+1I3VnbWFvCLWwgAIhVs+ZJj5pHP8TH9BwKAKNLQAUUAFFABRQAUUAFFABRQAUUAFFACGuhR2T4bTR/Pl77eP3IK7flB+Yrxzt6N7UAUtC1XT9LaZr7Sftxd4mRvMA2BW3EYKnIPHp0x3NdN4O1W3vNR8SC10m3tnbSrmQXEcrRzEbl4J3bF654UdKAOAg/1S1IxwuaANfVP+JfpFjo6cSSAXt5xyXYfu1PGflQ5x6uayRQAtFABV3StNnv5Lgi4NpYpH/ply2diR5HBA+8SQML3I/GgCG9kspLtjp1u8FqoCxiR9ztgfebtk9cDgdBVegBaKACigAooAKKACigAooAKKACigAooAQ10kJZ/hhdF1Lql7hCX4jxs6DHU7uhOeMgcGgDmR0rpvAo/03XxtznRphj7OZ/44/4B1/p17UActD/qlrV0K0gu9WRrtS1lao1zcgfxRoMlf+BHC/8AAqAKl1dzajfXF9ctunuJDI5HTJPb2qOgAooAcscjxPKsbtFGQHcKSqk9MntnBo82X7ObfzX8kvvMe47S2MZx64oAbRQAUUAFFABRQAUUAFFABRQAUUAFFABRQAlb9qb9fAF60d2v2L7Vtktmst2SdnzCXbgHp3HQetAHPjpXS+BWRb3XzIYgn9jTA+bMYl+/H1Ycj+vSgDlof9UK2hjT/CZb/l41abaOmVt4jz7jdJj/AL9mgDKFLQAVLbRQz3UcVxci2hZvnmKFto+g5JoAuanqi3UcdjYxvb6XAcxRMfmkbvJIR1c/kBwKzqACigAooAKKACigAooAKKACigAooAKKACigBDWw8ltD4SW1S/8A9Imk814I5GAIyMB12YJG3P3x16UAY1dR8P1kfUdeWF5Vf+xZ8GLZu+8n9/j8+3vQBydukkwjhiRnlkYIiKMliTgAVteIyia01jEwaLTo1s1IGASn3z+Llz+NAGUKWgC7pemvqUsjNKtvZ2677m5cZWJf6segUck1SoAKKACigAooAKKACigAooAKKACigAooAKKACigApMUAa2hWui3LXJ1u6e3jQxiMxyYY5bDcbTkAc9sehzxt+FodHhv/ABObO7acLpk6rHNZtNHs3pzlSGbnH8Ix17UAc94TIh1FtRYKV023e7G7pvUYj/8AH2Ss1M4yTknkmgB1LQBbutRnurG2sdqQ2sHIiiBAd+7tzyx6Z7DgYqpQAUUAFFABRQAUUAFFABRQAUUAFFABRQAUUAFFABRQA0jNdP4B2Lf+IN0nlD+xZ/n87ysHcmPm7UAZNr/oXgmR/wDltqd2IR8v/LKEBm593dP++Kzx0oAvaZpj6jJIzSrb2duvmXNy4ysa/Tux6Be5puo3Nrc3Kixtfs9rCgjjDcyOBn53PdiT24HA7UAVKKACigAooAKKACigAooAKKACigAooAKKACigBKWgAooAQ10ngYuLvxCY/N3f2LP/AKqISN9+P+E8H/CgDK1f9ymlWAJxa2EZYH+9JmU/+jAPwqtBaXNxbXFzDCzQWwBmk6KmTgc+pPbr19KAIe2Ox7UtABRQAUUAFFABRQAUUAFFABRQAUUAFFABRQAUlABRQAtFACV1/wAMbKPUvEmqWU23yp9LkR9xYDaZI88qQenvQBy93ex6vrt1fSl4YLq5ZztG4xxluABkZwvGMjpVrVdUS7SOxsY3ttKtz+5gJ+Z27ySEdXP6DgcUAZ1LQAUUAFFABRQAUUAFFABRQAUUAFFABRQAUUAJRQAUUAFLQBNY2j6hqNrZRsqvcSrErN0BJxk12fgnQ7mx1fxGs13bwQ/2ZcWv2jz0VlYsgzsZgw/HAzxmgDmT4W1JZJBbraeRuPl+Zqdtu254ziTGcUf8Izq392x/8GVv/wDHKAD/AIRrVv7tj/4Mbf8A+OU+PwtrU0qRRQ2ckjsFVF1G3JYnoAPM5oARvDGsI7I8dkrKcMp1G3yD/wB/KT/hGdX/ALtj/wCDK3/+OUAH/CM6v/dsf/Blb/8Axyj/AIRnV/7th/4Mrb/45QA+XwnrsBQTW9pGXQOofULcblPQj950PrTP+EZ1f+7Y/wDgyt//AI5QAf8ACM6v/dsf/Blb/wDxyj/hGdX/ALtj/wCDK3/+OUAP/wCET137N9p+z2n2ff5fm/2hb7d2M7c+ZjOOcUz/AIRnV/7tj/4Mrf8A+OUAH/CM6t/dsf8AwZW//wAco/4RnVv7tj/4Mrf/AOOUAOj8K63KzCKGzcqpYhdQtzgDkn7/AEFM/wCEa1b+7Y/+DK3/APjlAC/8I1q392x/8GNv/wDF0f8ACNat/dsf/Bjb/wDxdADovC2szSpFFFZvI5CqiahbksT2A31jqwYZFADqSgAooAKKACigA5BBBIIOQQeRWlp8ljHo+ufaZ5Fv7iOOOEfMfMXducHHHVU+9745oAyViUDpTvLX0oAPLX0q/ojWlrqZu7mVYTbxNLbsd+RMBmPG0HkNg8jHHNABr0eknW520d2ksjgqzbsk9z82Dn19844rP2L6UAHlr6UsUVs1zCtyzpbl1ErRjLBc8kD1xQBveJ28P3ENs2l3klzcI5TcyyALAOI0IYfwjAGOTzntXP8Alr6UALsX0pGjXHSgDoy3h5fCbWf9pTSXHlrOluUcKtySwcg4wTtEa8nGMnr05xY1x0oAXYvpR5a+lAG74Y/4R+BdQk1meWGcqiW2wvhlbcJA20H5SMA98E45rJvorIandiwybLzm8gnP3Mnb156evNAEPlr6UeWvpQBr+HpNJtLkXN85iuoZ45baTL7QVDnkKDxu2Z746d6TXI9Cjnt10CSWSERnzTLuzu3HGcgc4x046e9AGXRQAUUAFFABRQAUUAGKWgApMUAWdNWzOq2g1AkWXmr5+M/czz056elasFn4VufJebVpbQzq7SRiKQi2Iddqjg7sqW7np1oAYNL8OtfPGmvSPax2LTNN5LKTNnAQKRk9Qf6+lkaX4LjngZvEc88XnBZU+zSKfLxyQdvX/HvigCsth4VMKt/bdys3kMzItuxUSBRhckc7ieuP4T0yKXSrLwtMobU9XuoGWOMlFiY73OdwBCnAHy8/WgBttb+HIdQCyXsl3Zm3gZ3YNGyuZU8wAAc4Tf60mlaboF810LzWpLRkJaFXjIDqAxPIBx0X35IweKAJW0zwkksbR+IZplEihw9s6/JvIJ4Xrtwccdevai6tfCbL5trqc6Yh5gZHJL7X/i28ksE9AM96AFv9N0CO3vP7N1FZWZDNbmd9pAEjAIPVii55A6rVPUI9GOmWM+nTut2RtubZwxwcfeDYxj296AMyjFAC0mKACigAooAKKACigAooAKKACloAKKAEpMD0oAMD0o2j0oAMD0owKAFwKTAPagAwPSjA9KADA9KXFAC0UAFJQAUUAFFABRQAUUAFFABRQAUUALRQAUlABRQAUUAFFABRQAUtABRQAlFABRQAUUAFFAH/2f/hMehodHRwOi8vbnMuYWRvYmUuY29tL3hhcC8xLjAvADw/eHBhY2tldCBiZWdpbj0n77u/JyBpZD0nVzVNME1wQ2VoaUh6cmVTek5UY3prYzlkJz8+DQo8eDp4bXBtZXRhIHhtbG5zOng9ImFkb2JlOm5zOm1ldGEvIj48cmRmOlJERiB4bWxuczpyZGY9Imh0dHA6Ly93d3cudzMub3JnLzE5OTkvMDIvMjItcmRmLXN5bnRheC1ucyMiPjxyZGY6RGVzY3JpcHRpb24gcmRmOmFib3V0PSJ1dWlkOmZhZjViZGQ1LWJhM2QtMTFkYS1hZDMxLWQzM2Q3NTE4MmYxYiIgeG1sbnM6eG1wPSJodHRwOi8vbnMuYWRvYmUuY29tL3hhcC8xLjAvIj48eG1wOkNyZWF0b3JUb29sPldpbmRvd3MgUGhvdG8gRWRpdG9yIDEwLjAuMTAwMTEuMTYzODQ8L3htcDpDcmVhdG9yVG9vbD48eG1wOkNyZWF0ZURhdGU+MjAxOC0wNy0wNVQxNDo1OToyOS4zNTU8L3htcDpDcmVhdGVEYXRlPjwvcmRmOkRlc2NyaXB0aW9uPjwvcmRmOlJERj48L3g6eG1wbWV0YT4NCiAgICAgICAgICAgICAgICAgICAgICAgICAgICAgICAgICAgICAgICAgICAgICAgICAgICAgICAgICAgICAgICAgICAgICAgICAgICAgICAgICAgICAgICAgICAgICAgICAgICAKICAgICAgICAgICAgICAgICAgICAgICAgICAgICAgICAgICAgICAgICAgICAgICAgICAgICAgICAgICAgICAgICAgICAgICAgICAgICAgICAgICAgICAgICAgICAgICAgICAgIAogICAgICAgICAgICAgICAgICAgICAgICAgICAgICAgICAgICAgICAgICAgICAgICAgICAgICAgICAgICAgICAgICAgICAgICAgICAgICAgICAgICAgICAgICAgICAgICAgICAgCiAgICAgICAgICAgICAgICAgICAgICAgICAgICAgICAgICAgICAgICAgICAgICAgICAgICAgICAgICAgICAgICAgICAgICAgICAgICAgICAgICAgICAgICAgICAgICAgICAgICAKICAgICAgICAgICAgICAgICAgICAgICAgICAgICAgICAgICAgICAgICAgICAgICAgICAgICAgICAgICAgICAgICAgICAgICAgICAgICAgICAgICAgICAgICAgICAgICAgICAgIAogICAgICAgICAgICAgICAgICAgICAgICAgICAgICAgICAgICAgICAgICAgICAgICAgICAgICAgICAgICAgICAgICAgICAgICAgICAgICAgICAgICAgICAgICAgICAgICAgICAgCiAgICAgICAgICAgICAgICAgICAgICAgICAgICAgICAgICAgICAgICAgICAgICAgICAgICAgICAgICAgICAgICAgICAgICAgICAgICAgICAgICAgICAgICAgICAgICAgICAgICAKICAgICAgICAgICAgICAgICAgICAgICAgICAgICAgICAgICAgICAgICAgICAgICAgICAgICAgICAgICAgICAgICAgICAgICAgICAgICAgICAgICAgICAgICAgICAgICAgICAgIAogICAgICAgICAgICAgICAgICAgICAgICAgICAgICAgICAgICAgICAgICAgICAgICAgICAgICAgICAgICAgICAgICAgICAgICAgICAgICAgICAgICAgICAgICAgICAgICAgICAgCiAgICAgICAgICAgICAgICAgICAgICAgICAgICAgICAgICAgICAgICAgICAgICAgICAgICAgICAgICAgICAgICAgICAgICAgICAgICAgICAgICAgICAgICAgICAgICAgICAgICAKICAgICAgICAgICAgICAgICAgICAgICAgICAgICAgICAgICAgICAgICAgICAgICAgICAgICAgICAgICAgICAgICAgICAgICAgICAgICAgICAgICAgICAgICAgICAgICAgICAgIAogICAgICAgICAgICAgICAgICAgICAgICAgICAgICAgICAgICAgICAgICAgICAgICAgICAgICAgICAgICAgICAgICAgICAgICAgICAgICAgICAgICAgICAgICAgICAgICAgICAgCiAgICAgICAgICAgICAgICAgICAgICAgICAgICAgICAgICAgICAgICAgICAgICAgICAgICAgICAgICAgICAgICAgICAgICAgICAgICAgICAgICAgICAgICAgICAgICAgICAgICAKICAgICAgICAgICAgICAgICAgICAgICAgICAgICAgICAgICAgICAgICAgICAgICAgICAgICAgICAgICAgICAgICAgICAgICAgICAgICAgICAgICAgICAgICAgICAgICAgICAgIAogICAgICAgICAgICAgICAgICAgICAgICAgICAgICAgICAgICAgICAgICAgICAgICAgICAgICAgICAgICAgICAgICAgICAgICAgICAgICAgICAgICAgICAgICAgICAgICAgICAgCiAgICAgICAgICAgICAgICAgICAgICAgICAgICAgICAgICAgICAgICAgICAgICAgICAgICAgICAgICAgICAgICAgICAgICAgICAgICAgICAgICAgICAgICAgICAgICAgICAgICAKICAgICAgICAgICAgICAgICAgICAgICAgICAgICAgICAgICAgICAgICAgICAgICAgICAgICAgICAgICAgICAgICAgICAgICAgICAgICAgICAgICAgICAgICAgICAgICAgICAgIAogICAgICAgICAgICAgICAgICAgICAgICAgICAgICAgICAgICAgICAgICAgICAgICAgICAgICAgICAgICAgICAgICAgICAgICAgICAgICAgICAgICAgICAgICAgICAgICAgICAgCiAgICAgICAgICAgICAgICAgICAgICAgICAgICAgICAgICAgICAgICAgICAgICAgICAgICAgICAgICAgICAgICAgICAgICAgICAgICAgICAgICAgICAgICAgICAgICAgICAgICAKICAgICAgICAgICAgICAgICAgICAgICAgICAgICAgICAgICAgICAgICAgICAgICAgICAgICAgICAgICAgICAgICAgICAgICAgICAgICAgICAgICAgICAgICAgICAgICAgICAgIAogICAgICAgICAgICAgICAgICAgICAgICAgICAgICAgICAgICAgICAgICAgICAgICAgICAgICAgICAgICAgICAgICAgICAgICAgICAgICAgICAgICAgICAgICAgICAgICAgICAgCiAgICAgICAgICAgICAgICAgICAgICAgICAgICAgICAgICAgICAgICAgICAgICAgICAgICAgICAgICAgICAgICAgICAgICAgICAgICAgICAgICAgICAgICAgICAgICAgICAgICAKICAgICAgICAgICAgICAgICAgICAgICAgICAgICAgICAgICAgICAgICAgICAgICAgICAgICAgICAgICAgICAgICAgICAgICAgICAgICAgICAgICAgICAgICAgICAgICAgICAgIAogICAgICAgICAgICAgICAgICAgICAgICAgICAgICAgICAgICAgICAgICAgICAgICAgICAgICAgICAgICAgICAgICAgICAgICAgICAgICAgICAgICAgICAgICAgICAgICAgICAgCiAgICAgICAgICAgICAgICAgICAgICAgICAgICAgICAgICAgICAgICAgICAgICAgICAgICAgICAgICAgICAgICAgICAgICAgICAgICAgICAgICAgICAgICAgICAgICAgICAgICAKICAgICAgICAgICAgICAgICAgICAgICAgICAgICAgICAgICAgICAgICAgICAgICAgICAgICAgICAgICAgICAgICAgICAgICAgICAgICAgICAgICAgICAgICAgICAgICAgICAgIAogICAgICAgICAgICAgICAgICAgICAgICAgICAgICAgICAgICAgICAgICAgICAgICAgICAgICAgICAgICAgICAgICAgICAgICAgICAgICAgICAgICAgICAgICAgICAgICAgICAgCiAgICAgICAgICAgICAgICAgICAgICAgICAgICAgICAgICAgICAgICAgICAgICAgICAgICAgICAgICAgICAgICAgICAgICAgICAgICAgICAgICAgICAgICAgICAgICAgICAgICAKICAgICAgICAgICAgICAgICAgICAgICAgICAgICAgICAgICAgICAgICAgICAgICAgICAgICAgICAgICAgICAgICAgICAgICAgICAgICAgICAgICAgICAgICAgICAgICAgICAgIAogICAgICAgICAgICAgICAgICAgICAgICAgICAgICAgICAgICAgICAgICAgICAgICAgICAgICAgICAgICAgICAgICAgICAgICAgICAgICAgICAgICAgICAgICAgICAgICAgICAgCiAgICAgICAgICAgICAgICAgICAgICAgICAgICAgICAgICAgICAgICAgICAgICAgICAgICAgICAgICAgICAgICAgICAgICAgICAgICAgICAgICAgICAgICAgICAgICAgICAgICAKICAgICAgICAgICAgICAgICAgICAgICAgICAgICAgICAgICAgICAgICAgICAgICAgICAgICAgICAgICAgICAgICAgICAgICAgICAgICAgICAgICAgICAgICAgICAgICAgICAgIAogICAgICAgICAgICAgICAgICAgICAgICAgICAgICAgICAgICAgICAgICAgICAgICAgICAgICAgICAgICAgICAgICAgICAgICAgICAgICAgICAgICAgICAgICAgICAgICAgICAgCiAgICAgICAgICAgICAgICAgICAgICAgICAgICAgICAgICAgICAgICAgICAgICAgICAgICAgICAgICAgICAgICAgICAgICAgICAgICAgICAgICAgICAgICAgICAgICAgICAgICAKICAgICAgICAgICAgICAgICAgICAgICAgICAgICAgICAgICAgICAgICAgICAgICAgICAgICAgICAgICAgICAgICAgICAgICAgICAgICAgICAgICAgICAgICAgICAgICAgICAgIAogICAgICAgICAgICAgICAgICAgICAgICAgICAgICAgICAgICAgICAgICAgICAgICAgICAgICAgICAgICAgICAgICAgICAgICAgICAgICAgICAgICAgICAgICAgICAgICAgICAgCiAgICAgICAgICAgICAgICAgICAgICAgICAgICAgICAgICAgICAgICAgICAgICAgICAgICAgICAgICAgICAgICAgICAgICAgICAgICAgICAgICAgICAgICAgICAgICAgICAgICAKICAgICAgICAgICAgICAgICAgICAgICAgICAgICAgICAgICAgICAgICAgICAgICAgICAgICAgICAgICAgICAgICAgICAgICAgICAgICAgICAgICAgICAgICAgICAgICAgICAgIAogICAgICAgICAgICAgICAgICAgICAgICAgICAgICAgICAgICAgICAgICAgICAgICAgICAgICAgICAgICAgICAgICAgICAgICAgICAgICAgICAgICAgICAgICAgICAgICAgICAgCiAgICAgICAgICAgICAgICAgICAgICAgICAgICAgICAgICAgICAgICAgICAgICAgICAgICAgICAgICAgICAgICAgICAgICAgICAgICAgICAgICAgICAgICAgICAgICAgICAgICAKICAgICAgICAgICAgICAgICAgICAgICAgICAgICAgICAgICAgICAgICAgICAgICAgICAgICAgICAgICAgICAgICAgICAgICAgICAgICAgICAgICAgICAgICAgICAgICAgICAgIAogICAgICAgICAgICAgICAgICAgICAgICAgICAgICAgICAgICAgICAgICAgICAgICAgICAgICAgICAgICAgICAgICAgICAgICAgICAgICAgICAgICAgICAgICAgICAgICAgICAgCiAgICAgICAgICAgICAgICAgICAgICAgICAgICAgICAgICAgICAgICAgICAgICAgICAgICAgICAgICAgICAgICAgICAgICAgICAgICAgICAgICAgICAgICAgICAgICAgICAgICAKICAgICAgICAgICAgICAgICAgICAgICAgICAgICAgICAgICAgICAgICAgICAgICAgICAgICAgICAgICAgICAgICAgICAgICAgICAgICAgICAgICAgICAgICAgICAgICAgICAgIAogICAgICAgICAgICAgICAgICAgICAgICAgICAgICAgICAgICAgICAgICAgICAgICAgICAgICAgICAgICAgICAgICAgICAgICAgICAgICAgICAgICAgICAgICAgICAgICAgICAgCiAgICAgICAgICAgICAgICAgICAgICAgICAgICAgICAgICAgICAgICAgICAgICAgICAgICAgICAgICAgICAgICAgICAgICAgICAgICAgICAgICAgICAgICAgICAgICAgICAgICAKICAgICAgICAgICAgICAgICAgICAgICAgICAgICAgICAgICAgICAgICAgICAgICAgICAgICAgICAgICAgICAgICAgICAgICAgICAgICAgICAgICAgICAgICAgICAgICAgICAgIAogICAgICAgICAgICAgICAgICAgICAgICAgICAgICAgICAgICAgICAgICAgICAgICAgICAgICAgICAgICAgICAgICAgICAgICAgICAgICAgICAgICAgICAgICAgICAgICAgICAgCiAgICAgICAgICAgICAgICAgICAgICAgICAgICAgICAgICAgICAgICAgICAgICAgICAgICAgICAgICAgICAgICAgICAgICAgICAgICAgICAgICAgICAgICAgICAgICAgICAgICAKICAgICAgICAgICAgICAgICAgICAgICAgICAgICAgICAgICAgICAgICAgICAgICAgICAgICAgICAgICAgICAgICAgICAgICAgICAgICAgICAgICAgICAgICAgICAgICAgICAgIAogICAgICAgICAgICAgICAgICAgICAgICAgICAgICAgICAgICAgICAgICAgICAgICAgICAgICAgICAgICAgICAgICAgICAgICAgICAgICAgICAgICAgICAgICAgICAgICAgICAgCiAgICAgICAgICAgICAgICAgICAgICAgICAgICAgICAgICAgICAgICAgICAgICAgICAgICAgICAgICAgICAgICAgICAgICAgICAgICAgICAgICAgICAgICAgICAgICAgICAgICAKICAgICAgICAgICAgICAgICAgICAgICAgICAgICAgICAgICAgICAgICAgICAgICAgICAgICAgICAgICAgICAgICAgICAgICAgICAgICAgICAgICAgICAgICAgICAgICAgICAgIAogICAgICAgICAgICAgICAgICAgICAgICAgICAgICAgICAgICAgICAgICAgICAgICAgICAgICAgICAgICAgICAgICAgICAgICAgICAgICAgICAgICAgICAgICAgICAgICAgICAgCiAgICAgICAgICAgICAgICAgICAgICAgICAgICAgICAgICAgICAgICAgICAgICAgICAgICAgICAgICAgICAgICAgICAgICAgICAgICAgICAgICAgICAgICAgICAgICAgICAgICAKICAgICAgICAgICAgICAgICAgICAgICAgICAgICAgICAgICAgICAgICAgICAgICAgICAgICAgICAgICAgICAgICAgICAgICAgICAgICAgICAgICAgICAgICAgICAgICAgICAgIAogICAgICAgICAgICAgICAgICAgICAgICAgICAgICAgICAgICAgICAgICAgICAgICAgICAgICAgICAgICAgICAgICAgICAgICAgICAgICAgICAgICAgICAgICAgICAgICAgICAgCiAgICAgICAgICAgICAgICAgICAgICAgICAgICAgICAgICAgICAgICAgICAgICAgICAgICAgICAgICAgICAgICAgICAgICAgICAgICAgICAgICAgICAgICAgICAgICAgICAgICAKICAgICAgICAgICAgICAgICAgICAgICAgICAgICAgICAgICAgICAgICAgICAgICAgICAgICAgICAgICAgICAgICAgICAgICAgICAgICAgICAgICAgICAgICAgICAgICAgICAgIAogICAgICAgICAgICAgICAgICAgICAgICAgICAgICAgICAgICAgICAgICAgICAgICAgICAgICAgICAgICAgICAgICAgICAgICAgICAgICAgICAgICAgICAgICAgICAgICAgICAgCiAgICAgICAgICAgICAgICAgICAgICAgICAgICAgICAgICAgICAgICAgICAgICAgICAgICAgICAgICAgICAgICAgICAgICAgICAgICAgICAgICAgICAgICAgICAgICAgICAgICAKICAgICAgICAgICAgICAgICAgICAgICAgICAgICAgICAgICAgICAgICAgICAgICAgICAgICAgICAgICAgICAgICAgICAgICAgICAgICAgICAgICAgICAgICAgICAgICAgICAgIAogICAgICAgICAgICAgICAgICAgICAgICAgICAgICAgICAgICAgICAgICAgICAgICAgICAgICAgICAgICAgICAgICAgICAgICAgICAgICAgICAgICAgICAgICAgICAgICAgICAgCiAgICAgICAgICAgICAgICAgICAgICAgICAgICAgICAgICAgICAgICAgICAgICAgICAgICAgICAgICAgICAgICAgICAgICAgICAgICAgICAgICAgICAgICAgICAgICAgICAgICAKICAgICAgICAgICAgICAgICAgICAgICAgICAgICAgICAgICAgICAgICAgICAgICAgICAgICAgICAgICAgICAgICAgICAgICAgICAgICAgICAgICAgICAgICAgICAgICAgICAgIAogICAgICAgICAgICAgICAgICAgICAgICAgICAgICAgICAgICAgICAgICAgICAgICAgICAgICAgICAgICAgICAgICAgICAgICAgICAgICAgICAgICAgICAgICAgICAgICAgICAgCiAgICAgICAgICAgICAgICAgICAgICAgICAgICAgICAgICAgICAgICAgICAgICAgICAgICAgICAgICAgICAgICAgICAgICAgICAgICAgICAgICAgICAgICAgICAgICAgICAgICAKICAgICAgICAgICAgICAgICAgICAgICAgICAgICAgICAgICAgICAgICAgICAgICAgICAgICAgICAgICAgICAgICAgICAgICAgICAgICAgICAgICAgICAgICAgICAgICAgICAgIAogICAgICAgICAgICAgICAgICAgICAgICAgICAgICAgICAgICAgICAgICAgICAgICAgICAgICAgICAgICAgICAgICAgICAgICAgICAgICAgICAgICAgICAgICAgICAgICAgICAgCiAgICAgICAgICAgICAgICAgICAgICAgICAgICAgICAgICAgICAgICAgICAgICAgICAgICAgICAgICAgICAgICAgICAgICAgICAgICAgICAgICAgICAgICAgICAgICAgICAgICAKICAgICAgICAgICAgICAgICAgICAgICAgICAgICAgICAgICAgICAgICAgICAgICAgICAgICAgICAgICAgICAgICAgICAgICAgICAgICAgICAgICAgICAgICAgICAgICAgICAgIAogICAgICAgICAgICAgICAgICAgICAgICAgICAgICAgICAgICAgICAgICAgICAgICAgICAgICAgICAgICAgICAgICAgICAgICAgICAgICAgICAgICAgICAgICAgICAgICAgICAgCiAgICAgICAgICAgICAgICAgICAgICAgICAgICAgICAgICAgICAgICAgICAgICAgICAgICAgICAgICAgICAgICAgICAgICAgICAgICAgICAgICAgICAgICAgICAgICAgICAgICAKICAgICAgICAgICAgICAgICAgICAgICAgICAgICAgICAgICAgICAgICAgICAgICAgICAgICAgICAgICAgICAgICAgICAgICAgICAgICAgICAgICAgICAgICAgICAgICAgICAgIAogICAgICAgICAgICAgICAgICAgICAgICAgICAgICAgICAgICAgICAgICAgICAgICAgICAgICAgICAgICAgICAgICAgICAgICAgICAgICAgICAgICAgICAgICAgICAgICAgICAgCiAgICAgICAgICAgICAgICAgICAgICAgICAgICAgICAgICAgICAgICAgICAgICAgICAgICAgICAgICAgICAgICAgICAgICAgICAgICAgICAgICAgICAgICAgICAgICAgICAgICAKICAgICAgICAgICAgICAgICAgICAgICAgICAgICAgICAgICAgICAgICAgICAgICAgICAgICAgICAgICAgICAgICAgICAgICAgICAgICAgICAgICAgICAgICAgICAgICAgICAgIAogICAgICAgICAgICAgICAgICAgICAgICAgICAgICAgICAgICAgICAgICAgICAgICAgICAgICAgICAgICAgICAgICAgICAgICAgICAgICAgICAgICAgICAgICAgICAgICAgICAgCiAgICAgICAgICAgICAgICAgICAgICAgICAgICAgICAgICAgICAgICAgICAgICAgICAgICAgICAgICAgICAgICAgICAgICAgICAgICAgICAgICAgICAgICAgICAgICAgICAgICAKICAgICAgICAgICAgICAgICAgICAgICAgICAgICAgICAgICAgICAgICAgICAgICAgICAgICAgICAgICAgICAgICAgICAgICAgICAgICAgICAgICAgICAgICAgICAgICAgICAgIAogICAgICAgICAgICAgICAgICAgICAgICAgICAgICAgICAgICAgICAgICAgICAgICAgICAgICAgICAgICAgICAgICAgICAgICAgICAgICAgICAgICAgICAgICAgICAgICAgICAgCiAgICAgICAgICAgICAgICAgICAgICAgICAgICAgICAgICAgICAgICAgICAgICAgICAgICAgICAgICAgICAgICAgICAgICAgICAgICAgICAgICAgICAgICAgICAgICAgICAgICAKICAgICAgICAgICAgICAgICAgICAgICAgICAgICAgICAgICAgICAgICAgICAgICAgICAgICAgICAgICAgICAgICAgICAgICAgICAgICAgICAgICAgICAgICAgICAgICAgICAgIAogICAgICAgICAgICAgICAgICAgICAgICAgICAgICAgICAgICAgICAgICAgICAgICAgICAgICAgICAgICAgICAgICAgICAgICAgICAgICAgICAgICAgICAgICAgICAgICAgICAgCiAgICAgICAgICAgICAgICAgICAgICAgICAgICAgICAgICAgICAgICAgICAgICAgICAgICAgICAgICAgICAgICAgICAgICAgICAgICAgICAgICAgICAgICAgICAgICAgICAgICAKICAgICAgICAgICAgICAgICAgICAgICAgICAgICAgICAgICAgICAgICAgICAgICAgICAgICAgICAgICAgICAgICAgICAgICAgICAgICAgICAgICAgICAgICAgICAgICAgICAgIAogICAgICAgICAgICAgICAgICAgICAgICAgICAgICAgICAgICAgICAgICAgICAgICAgICAgICAgICAgICAgICAgICAgICAgICAgICAgICAgICAgICAgICAgICAgICAgICAgICAgCiAgICAgICAgICAgICAgICAgICAgICAgICAgICAgICAgICAgICAgICAgICAgICAgICAgICAgICAgICAgICAgICAgICAgICAgICAgICAgICAgICAgICAgICAgICAgICAgICAgICAKICAgICAgICAgICAgICAgICAgICAgICAgICAgICAgICAgICAgICAgICAgICAgICAgICAgICAgICAgICAgICAgICAgICAgICAgICAgICAgICAgICAgICAgICAgICAgICAgICAgIAogICAgICAgICAgICAgICAgICAgICAgICAgICAgICAgICAgICAgICAgICAgICAgICAgICAgICAgICAgICAgICAgICAgICAgICAgICAgICAgICAgICAgICAgICAgICAgICAgICAgCiAgICAgICAgICAgICAgICAgICAgICAgICAgICAgICAgICAgICAgICAgICAgICAgICAgICAgICAgICAgICAgICAgICAgICAgICAgICAgICAgICAgICAgICAgICAgICAgICAgICAKICAgICAgICAgICAgICAgICAgICAgICAgICAgICAgICAgICAgICAgICAgICAgICAgICAgICAgICAgICAgICAgICAgICAgICAgICAgICAgICAgICAgICAgICAgICAgICAgICAgIAogICAgICAgICAgICAgICAgICAgICAgICAgICAgICAgICAgICAgICAgICAgICAgICAgICAgICAgICAgICAgICAgICAgICAgICAgICAgICAgICAgICAgICAgICAgICAgICAgICAgCiAgICAgICAgICAgICAgICAgICAgICAgICAgICAgICAgICAgICAgICAgICAgICAgICAgICAgICAgICAgICAgICAgICAgICAgICAgICAgICAgICAgICAgICAgICAgICAgICAgICAKICAgICAgICAgICAgICAgICAgICAgICAgICAgICAgICAgICAgICAgICAgICAgICAgICAgICAgICAgICAgICAgICAgICAgICAgICAgICAgICAgICAgICAgICAgICAgICAgICAgIAogICAgICAgICAgICAgICAgICAgICAgICAgICAgICAgICAgICAgICAgICAgICAgICAgICAgICAgICAgICAgICAgICAgICAgICAgICAgICAgICAgICAgICAgICAgICAgICAgICAgCiAgICAgICAgICAgICAgICAgICAgICAgICAgICAgICAgICAgICAgICAgICAgICAgICAgICAgICAgICAgICAgICAgICAgICAgICAgICAgICAgICAgICAgICAgICAgICAgICAgICAKICAgICAgICAgICAgICAgICAgICAgICAgICAgICAgICAgICAgICAgICAgICAgICAgICAgICAgICAgICAgICAgICAgICAgICAgICAgICAgICAgICAgICAgICAgICAgICAgICAgIAogICAgICAgICAgICAgICAgICAgICAgICAgICAgICAgICAgICAgICAgICAgICAgICAgICAgICAgICAgICAgICAgICAgICAgICAgICAgICAgICAgICAgICAgICAgICAgICAgICAgCiAgICAgICAgICAgICAgICAgICAgICAgICAgICAgICAgICAgICAgICAgICAgICAgICAgICAgICAgICAgICAgICAgICAgICAgICAgICAgICAgICAgICAgICAgICAgICAgICAgICAKICAgICAgICAgICAgICAgICAgICAgICAgICAgICAgICAgICAgICAgICAgICAgICAgICAgICAgICAgICAgICAgICAgICAgICAgICAgICAgICAgICAgICAgICAgICAgICAgICAgIAogICAgICAgICAgICAgICAgICAgICAgICAgICAgICAgICAgICAgICAgICAgICAgICAgICAgICAgICAgICAgICAgICAgICAgICAgICAgICAgICAgICAgICAgICAgICAgICAgICAgCiAgICAgICAgICAgICAgICAgICAgICAgICAgICAgICAgICAgICAgICAgICAgICAgICAgICAgICAgICAgICAgICAgICAgICAgICAgICAgICAgICAgICAgICAgICAgICAgICAgICAKICAgICAgICAgICAgICAgICAgICAgICAgICAgICAgICAgICAgICAgICAgICAgICAgICAgICAgICAgICAgICAgICAgICAgICAgICAgICAgICAgICAgICAgICAgICAgICAgICAgIAogICAgICAgICAgICAgICAgICAgICAgICAgICAgICAgICAgICAgICAgICAgICAgICAgICAgICAgICAgICAgICAgICAgICAgICAgICAgICAgICAgICAgICAgICAgICAgICAgICAgCiAgICAgICAgICAgICAgICAgICAgICAgICAgICAgICAgICAgICAgICAgICAgICAgICAgICAgICAgICAgICAgICAgICAgICAgICAgICAgICAgICAgICAgICAgICAgICAgICAgICAKICAgICAgICAgICAgICAgICAgICAgICAgICAgICAgICAgICAgICAgICAgICAgICAgICAgICAgICAgICAgICAgICAgICAgICAgICAgICAgICAgICAgICAgICAgICAgICAgICAgIAogICAgICAgICAgICAgICAgICAgICAgICAgICAgICAgICAgICAgICAgICAgICAgICAgICAgICAgICAgICAgICAgICAgICAgICAgICAgICAgICAgICAgICAgICAgICAgICAgICAgCiAgICAgICAgICAgICAgICAgICAgICAgICAgICAgICAgICAgICAgICAgICAgICAgICAgICAgICAgICAgICAgICAgICAgICAgICAgICAgICAgICAgICAgICAgICAgICAgICAgICAKICAgICAgICAgICAgICAgICAgICAgICAgICAgICAgICAgICAgICAgICAgICAgICAgICAgICAgICAgICAgICAgICAgICAgICAgICAgICAgICAgICAgICAgICAgICAgICAgICAgIAogICAgICAgICAgICAgICAgICAgICAgICAgICAgICAgICAgICAgICAgICAgICAgICAgICAgICAgICAgICAgICAgICAgICAgICAgICAgICAgICAgICAgICAgICAgICAgICAgICAgCiAgICAgICAgICAgICAgICAgICAgICAgICAgICAgICAgICAgICAgICAgICAgICAgICAgICAgICAgICAgICAgICAgICAgICAgICAgICAgICAgICAgICAgICAgICAgICAgICAgICAKICAgICAgICAgICAgICAgICAgICAgICAgICAgICAgICAgICAgICAgICAgICAgICAgICAgICAgICAgICAgICAgICAgICAgICAgICAgICAgICAgICAgICAgICAgICAgICAgICAgIAogICAgICAgICAgICAgICAgICAgICAgICAgICAgICAgICAgICAgICAgICAgICAgICAgICAgICAgICAgICAgICAgICAgICAgICAgICAgICAgICAgICAgICAgICAgICAgICAgICAgCiAgICAgICAgICAgICAgICAgICAgICAgICAgICAgICAgICAgICAgICAgICAgICAgICAgICAgICAgICAgICAgICAgICAgICAgICAgICAgICAgICAgICAgICAgICAgICAgICAgICAKICAgICAgICAgICAgICAgICAgICAgICAgICAgICAgICAgICAgICAgICAgICAgICAgICAgICAgICAgICAgICAgICAgICAgICAgICAgICAgICAgICAgICAgICAgICAgICAgICAgIAogICAgICAgICAgICAgICAgICAgICAgICAgICAgICAgICAgICAgICAgICAgICAgICAgICAgICAgICAgICAgICAgICAgICAgICAgICAgICAgICAgICAgICAgICAgICAgICAgICAgCiAgICAgICAgICAgICAgICAgICAgICAgICAgICAgICAgICAgICAgICAgICAgICAgICAgICAgICAgICAgICAgICAgICAgICAgICAgICAgICAgICAgICAgICAgICAgICAgICAgICAKICAgICAgICAgICAgICAgICAgICAgICAgICAgICAgICAgICAgICAgICAgICAgICAgICAgICAgICAgICAgICAgICAgICAgICAgICAgICAgICAgICAgICAgICAgICAgICAgICAgIAogICAgICAgICAgICAgICAgICAgICAgICAgICAgICAgICAgICAgICAgICAgICAgICAgICAgICAgICAgICAgICAgICAgICAgICAgICAgICAgICAgICAgICAgICAgICAgICAgICAgCiAgICAgICAgICAgICAgICAgICAgICAgICAgICAgICAgICAgICAgICAgICAgICAgICAgICAgICAgICAgICAgICAgICAgICAgICAgICAgICAgICAgICAgICAgICAgICAgICAgICAKICAgICAgICAgICAgICAgICAgICAgICAgICAgICAgICAgICAgICAgICAgICAgICAgICAgICAgICAgICAgICAgICAgIDw/eHBhY2tldCBlbmQ9J3cnPz7/2wBDAAYEBAUEBAYFBQUGBgYHCQ4JCQgICRINDQoOFRIWFhUSFBQXGiEcFxgfGRQUHScdHyIjJSUlFhwpLCgkKyEkJST/2wBDAQYGBgkICREJCREkGBQYJCQkJCQkJCQkJCQkJCQkJCQkJCQkJCQkJCQkJCQkJCQkJCQkJCQkJCQkJCQkJCQkJCT/wAARCAEoAWgDASIAAhEBAxEB/8QAHAABAAMBAQEBAQAAAAAAAAAAAAEFBgQCAwcI/8QARxAAAQMDAgQCBAwDBwMDBQAAAQACAwQFERIhBhMxQSJRBxQyYRUWNkJSU3F0gZWz0yORoSQzQ2NygrElYpI0NYMmRHOT0f/EABQBAQAAAAAAAAAAAAAAAAAAAAD/xAAUEQEAAAAAAAAAAAAAAAAAAAAA/9oADAMBAAIRAxEAPwD8KREQEREBMooa0vcGtBc4nAAGSSgZKZK+xoasAk0s4DZOSSYzs/6PT2vd1Xzmhlp5HRTRvikYcOY9pDmn3g9EHnJTJUKcoJUqEyglEyiAiIgIiICIiAiIgIiZQERMoCIiAiZTKAiZUZQSihEBMooQMqVCIJREQEREBERAREQEREBERAX0pKmSjqoqmF745InhzXMOCMeRXzUYQbxnpHpIpamUUVU4zXB1UGF4DQx07Zc/6xpx5b9V4tfFFounFEENVw3SXOGsmpaUS17385jWtZET4HAZONXfcrDFWXCvyos/36D9RqD+pGegXghrGl1pjfKx0ha7U4NIcTpDm6t9IIA+xfzPfG/Fy71NlnttsmlttdIHy6H5mAcfA7xex022Ow3X7Dx76d77wjebhZKCW0XUtc7RVsa4GmOpw5bmg4c5uMZ2+xYi1+iG98fcPt4rs90p66oqXvNXBUnlyNm1eLDtwc5yM42KDEvvEL2aRZ7az+0c/LWPyW5/uva9j3dfek12ilZVtFpt0ZqHtc1zGPzABjws8WwON856lfK8WassNfJQV7YmVEftNjmZIB7stJGVxILGpu0U7qottNuh57GsAjY8CHHzmZcdz3zle33mF800gs9saJIeSGNY/TGfpt8ftf09yrEQWkd5hZJA82a1vEUJiLXMfiU7eN3j9rbtgb9F5iu8Ub6NxtFteKZha4OY/FRkYy/xbke7CrcplBYR3WOOOnYbVbnmGUyFzmPzKDnwO8W7RntjoN1IusQJPwVbv/U+sY0P6fVe17Hu6+9V2UygsZLtHJFUsFqtzDPKJA5rH5hAx4G+L2du+Tud16mvMUzqsizWyP1hga0MY8CAgdWeLYnvnKrMplBZy3iGR9Q8We2RiaIRBrI34iO/jb4tnb98jbojLzEyWKQ2a1uEcPJLHMfh5+sd4/a269N+irMplBZU13ipzSl1ots3IY5jhIx55xPzn4cMkdsYXmG6xQx0rDarfIYJC9znsfmfOfC/DugztjHQKvypQWLbvE1uDaLa7+0c/JY/p9X7Xse7r71D7rE6OZgtVuaZZxMHNY7MYyPA3xezt3ydzuq9EFjNd4pfXMWm2x+shoboY/8As5A6x+LbPfOUkvETzUkWi2s58QjaGsf/AASAfGzxbOOe+Rt0VaiCzbeYWzMk+BrWQ2Dk6Cx+lx+sPj9v39PclPeYYPVtVmtc3Ijcx3MY884nHifh25GNsY6qsRBYw3eKJtIDaLbJ6sXFxex+Z89n+LfHbGEF3iEbWfBNtOKjn6ix+SM/3Z8Xsf196rl02+1112nEFvo6irlPzIYy8/jjog+5usRiewWq3AuqOeHBj8tGR/DHi9j3dd+qie6xzNrA2026L1ktLTGx49Xx9X4ts985VoODDQ7328W20Y6wuk58/wD+uPOPxIUet8I23/09vuN5mb8+slFPCT/oZl2PtcEHBLeIqh1Q1lktjHVEQiYI435iIz4mDX7RzvnPQbK9p7Feqktq38K26ipnU/JElaHU8P8A+TMjxl/2ZHuXA7jq7QtMdrZR2aMjGm307Y3Y98hy8/8AkqKqqqitlM1VUTVEh6vleXOP4lBr4afhy3OpfhW4WeY08bo3RW2llqDMSManvLms1DsQce5d0lZwLS8JNmFg5tWWSU9I6Wq/jzvOxmlYzwtDew7n+a/PsY2RARSowgIiICIiAiIgIiICIgCAAhUoUHkqz4V+VFn+/QfqNVarLhb5UWf79B+o1BqfTdLJLx/WGQ2o6RpHwecjGt2OZ/mfSXJwr6TbpwhwrXWa3ECSqrI59T2hzRGGkPaR/wB2Gg+7K7fThDPFx/Viot9BQlzdTBSHIlaXuxI/YeM91gEGjvNmo66gdf7AwtowQKuizqfQPP8AzGT0d26HdZ0Lts14rLFXsraJ4a8Atex41MlYerHt+c09wuu4U9Ddri59hp5YY3QOqZaaQjEBa0ue1rs+JoAyM79kFQisqrhq8UQYZ7bVNL4PWdPKdqZHqLdThjLRlp6r5S2W409NLU1FJNBHEGOdzWlhIeSGkA9QcHdBxIrOLhq7SwtmNFLEx7mNYZWlmvUHFpGeowx248l8zYboyLmSUFTE0sbI3mROaZGuc1oLcjfdzenmg4EVnBwxep5xCLZVRuL+WTLGWNa7GrSSdgcDoV4ttguV2p5KmkpJH08bmsdNjDA5zmtAz55e3brugr0Xa2yXR4BbbaxwdGZQRC4gsHVw26bjfovqOGryWNPwZWanloZHyXa35a5wLRjJGGuOR5IK1FZfFu8CV0LrZWMmDWuET4XB7wXaRpbjJ3UwcMXupqG08dpruYZWwYdC5oa92MNJI2O46+aCsRdzLDdpXRtjtdc8ylzY9MDjrLfaxtvjBz5LicxzHOY9pa5pwQRgg+SCMoiICKztHDV1vjXS0dKfV2f3lTK4Rwx/6pHYaP5qxNJwvYx/a6ua/VY6wUZMVM0++UjU7/aB9qCgpaWorZ209LBLUTO9mOJhc4/YBur4cFvoMP4hudHZmnfkvdzqk/8AxMyR/uLV8qnjS5ugdS24QWejdsYbezlFw/7n+2/8SqE7kk7k7knug0fwrw1atrdZpbnMOlTdH4ZnzELDj/ycVy3DjC93KA0r650FGelJStEEIH+hmAfxyqZEEAAdBhSiIC01stlJw/QxXy+QtmllGu321/8Aj+Usg7Rg9B1d9izIJBBHULpuFwq7rVyVldO+eokxqe877bAe4AdkEXCvqLpWzVtXJzJ53l73YwCfcB0HuXOApwiAiIgghFKghAREQEREBEQIAUoiAhRQUBWXCvyos/36D9RqrCQO6s+FT/8AU9n+/QfqNQaf01UjKTj6tDLO+18zMha6Xmc8l7v43U41eXZYULcemeA0/HtcDTXKn1EvxWy8wvy93iZvtGew7LDhBK6rdcZbZUOnhDC90UkPiGRh7C0/jgrlTCDWT+ki6TvqHCmpIhPDynCMyNwdUjtYOvOcyv26b9FyXnjWsvlM+mqKOijidCyENia5ujS8vDh4tt3OGOmD0WewiDS/Huu57qj1Oi5zzG978P8AE9jXNDsasAlryCBt7lMfpAu0TWhjKbLXMc0lpONJhI7/AOQz+ZWZRBqqP0h1tvpzTUttt8MJnE5aBIc/9pJfkj3nf3rjtHGVbZqBtFBTUrmMnE0bnhxcz+JG/Ts7BGYm9QT13VCiDTS8e1tRbRbpqGhkp+RyHahJreAWlpLtWdi0YGcddl8Wcb3JklXIGU+qqILtneHED4Rjfbwvcftws+iDUN9Il2bVetcqldIC47h3d+vz8wvUHpGulPSxU7aWizGYP4ha7U4RGMtDvFv/AHTf5nGFlUQaF/G9wdRNpGQUsTGxPh1MDtRaWPYOrvmte7GOvfKzy7bTZrhfKn1a30z53ganEYDY2/Sc47NHvJVyW8PcMncxcQ3JvbcUUJ/o6U/yb9qCus/DFxvMTqmJkdPQxnEtbUv5cEf2uPU+4ZPuXearhqwbUdOb/Wt/+4qmmOlYfNsedT/9xA9yqrxfrjfpWSXCpdK2MYiiADY4R5MYNmj7FwILC78Q3S+uabhVvlYzaOEAMijHk1jcNH4BV6YUoIwmFKIGEwiIGyv4bHS2uzG6XsSCWrjIt9E12l8mRjnP+jGO30j7lW2etpbdXsqquhZXNjBcyF7sML8eEu82g7kbZXzuVyq7vXS11dM6aomOXOP9AB2A6ADog5kREBERAREQEREEEIpUFAREQFKIgIiIChSoQbbhjiyyWnh2KhrqeSWdtWJnYhDhjmRuzucHDWu7Z3xnBKWq+WSs46op5LZLcObUUUcc7pjTkSNDGukLQDqy4atz/wArEFWfCvyns/36D9RqDS+mZ8L+Pa7kyXWQAkO+EAQQ7W7Ijz/h/RWHW99N0/rHH1WfhWS5aRo1Ph5fIw938IbDUG/S7rBoAUoEQEREBERBCIiAiLpttsrLxWR0VBTvqKiToxg7dyT2A7k7BBzLRU/DNPa6aO4cTTSUkTxqhoI8etVA88H+7YfpO38gV9zV2zg3LLe6C6XtvtVpAfT0p8ogfbcPpnYdh3WaqqqetqJKmqmknnlOp8kji5zj5klBa3fiipuNMLdSwxW21tOW0VPkNcfpSO6yO97vwwqZFOEEYUoiAiIgIiICsayx1NvtVLcKp0cPrZJgp3E818eP7zHZpOwJ69l12H4Jt9PJd7iY6yeJ+iltxziR+M65P8seXzjt0yqy5XKrvFdLXV0zpqiU5c4/0AHYDoAOiDmREQEREBERAREQEREBERBCKUQEREBERAUK74WtFNdaieStLxTUjOfLpI3aNyDvncA7jceS4Lw2lbcphRMjZT7aAyQvb7I3BO/XsenRBxKz4V+U9n+/QfqNVYVZ8K/Kez/foP1GoNT6a6x1Zx9WF14gunLBjDoowz1cB7v4Rx1LfPusIt96cDUHj+q9YfbHkN8HqPQN1uwJP8z6SwKCQiBEBERAUIUQFecN8NyXbNfUyCmtUEhbPUahqaQM4Ddydy0HAOM5Thfhp9+NVJLDO6jgjIkkgLTJGezgw7yAdS0b4/BaWO4V90gqqV9fTUNDTNay43WifmnnjDcNDY8DM5BI8JBO+e5Qcl9tPxlv07YBRwmjaDcbpGeXStbgeIsGzX9QQ0nURsFU3PiCmpaKSz8Oskp6F+1RVPGJ64j6f0WeTB+OSvhfOIW3CGO222A0Nnp3Zips5dI7pzJT855/kOgVMgKcKApQEREBERAREQF7lhlgLWyxvjLmh4D2kEtIyDv2K0VttlJYKGK+XyATSSjVQW5/+P8A5snlGOw+d9ipLnc6u8V0tdXTOmqJTlzj28gB2AGwHZByoiICIiAiIgIiICIiAiIgIiICIiAiIgKCpUILKy2b4ZkkibWMhlaMti5Msj5BgkkBjTsAN1872yihruXQBnKaxocWPe4F+Nz42tcPswrbgEUzb2Zpy8SRxPMLmOYCx+k4f42uGBjPTY4XHxdcpLnfJpJKp1WGYYyZ8rZXOHXJe0DVuT226dAgpVacK/Kiz/foP1GqryrThX5UWf79B+o1BqfTbSPpOPqwPpLdS8wcwCicSHgvd435/wAQ91hFufTVRCi4+rQLMLVzcylolEnrGXu/jbdNXl2WGQSEQIgIigoCteHbTFcqqWSsbMaGkYJKkQEc3S5waNAIOXanDA6e8KpW/ouJ7jxLRWy1UDI6a400LmVV1dljqeBmMP5jSCG6PaBzkgY3KDuppqSKkqLdaaj1KlpWA1tzaMtpYiTljNQD+a8geA+y7Ok4Jxir/f23TlUVDAaO00uRTUucnPeR5+dIe5/AbL68RX2CriitNpEkVnpXFzNft1UnzppPNx7D5o281RoCAIpQEREBEyoyglFGDgnBwOpx0RBKLSW+00djt0d5vsImfO0uoLc4kGftzZMbtjH83Hptus3+AH2IPpPUTVTxJPNJK8NDA57i4hoGAN+wC+aIgIiICIiAiIgIiICIiAiIgIiICIiAiIgKFKhBp/R9TSTXwzwRsfNTRumZrqGRYwD01ggu6YHuOVXcXOkfxJXPmmdNK54c97pGvJJaM+JoDT5bDGy6eB3f9fia71rk6Hvk9XqOQQGsJ1F2powN+65eK546niCrmi9l5aT/AB+d4tIzh+p2RnONygueGr/w/a7LBDWxVDquO4Mqn6I8h4aWgZJOC0N5nhI9ojdddvv9lreOaKd9rfcXSVVGxlU+Z0DtbQxrnlgyCS4F2/msIrThX5UWf79B+o1BpfTPHDHx7XCGkudMCSXCucSZHa3ZfHkn+GfmrELcemkwu4+reT8K4yQ74QznVrdnl5/w/orDoJCIEQFBUqEH0pqaasqIqanifLNK4MYxgyXOJwAFor9Uw8P0DuGbfK2SQuDrnVRnaaUf4TT3jYf5uyewXqgPxRsrbo7a8XJhbQjvTQHIdN7nO3a33ZPksugImFKAiIgKCUyiAu20Wma81Xq0DmMOknmSZDGnsHOAw3J2ycDdfO2WutvNW2jt9O6oqHAkMaQNvPJ2Wqt3FdFwpa2stUVQLkeZDVwVTPBuBh2WnDsEPGCBs8g5QdktZScGcK1NsAimra52iaCXUyQDByXs+bpO2MkOwCD1ziLdVsoK6CqkpYatsLg7kzZ0Px2dg7j3KxrrPNDaI7rdat0dVV6TSUzwXSSx95Dv4Wdm+fYY3VMg6rlc6u810tdXTOmqJTlzj/QAdgBsB2XMgRAREQEREBERAREQEREBERAREQEREBERAREQFClQg0PAMnK4ppHmKslaA/U2keWyY0nyc048xkLm4xa5nEla1wqQQWgmofre7wN8RIc7r1G52I3X14Qqq2G6NitttirK6Q/wnGWSJ8eAc4c17cAgnOVxcQ1FRU3WSSqpG0k2iMGJrnOwAwaTlxJOW47oK1WnCvyns/36D9Rqq1acK/Kiz/foP1GoNP6aayKs4+rTFd5bny8xudJHo5BD3ZiGwyG+fdYZb3031zK7j+rLLnBcOU3lF0MXL5JD3fwz5ub3PdYJBIRQmUAq64XtNNXVE9dcsi1W9nOqiDgyb4bE0/Sedvsyeyp4onzyMiiY58j3BrGNGS5xOAAtFxRKyz0kHC1M8OFI7m172naWqIwRnuGDwj36j3QVF5u9TfblNcKot5kp2a0YbG0bNY0dgBgD7FxIpQEREBQUKIC67TbnXStZTh5iiHjmm0lzYYx7T3Y7BRbLXWXmsZRUEJmnfkhuoNGB5kkAfit5fK6yWCw0poW0r7kIxSvjOmQStAaZBLGc6RrB2O+oagSDsHxrq6g4GonMtkbo7lVASRzseHtwHEZAcCHRPY44Oc7DIyMrM2u5UHrdXeby019Y1wfBSFmI5pDnxPIwAxuPZHXYdMrgudPXMlZVV0DonVrTUMy0ND2knxBo6DIOFyIOm43Kru9bLXV0zpqiU5c4/wBAB2A6ADYLmRSgIiICIiAiIgIiICIiAiIgIiICIiAiIgIiICIiAoUqEGm9HbWv4ljbiVsxifypWVXI5TtJ8ROh2RjthcfGsUsHFFfHNqMgc3JdI6QnwN6lzWnPuwMdMBeOFY5przHBBbIrm+aOSM08knLBBaQTqyNOOufcuS9RvjucwfRmicdL+SZTJpBaCPETk5Bz+KDhVpwr8qLP9+g/UauOnoKqrZrp6eWVvMbDljScvdnS37Tg7e5WNipKi38Y2qlrIX087K+nDo5BpcP4jeyDTem99Q/j6rNRU22oIbhhoRgMbrdhr/8AMHdYJbz0308tPx/Via20VvL262tpXBwmaXuxI7AGHu7hYIIJRF9KWmmramKmp4zJNM9scbG9XOJwB/NBoOF2ts1FVcUTtBdSn1ega4bPqnD2v/jb4vt0rOOc57i5xLnOOSScknzV/wAYVMMNRT2KikD6O0sMOtvSacnMsn4u2HuaFnwglERAREQQvcNPNUF4hikk0NL36Gl2lo6k47JByudHz+ZydQ18vGrTnfGds4X6LX3uwcIUtLNw7K+sqJY4/FJEI46iNpy1zuW/Ika4FrgQA4dQeqDmrZabgrh+lnsta6WWsk50FZHo1PLWgO1DfMZD3DQ7DmuHcFVFNFDRRDibiINrKmqOuioHYHPI25kgHsxDGAPnYx0WafNJIC1zzo1l+gbNDj1IHQdB/JeCc4z22QdNyuVXd66WurpnTVEpy5x/oAOwA2AHRcyKUBERAREQEREBERAREQEREBERAREQEREBERAREQEREBQpUINBwLMKTiOnq3SsibCHEuMwjd7J6EvZj7c4HcHouLiiTncQV0uqVwfJqBlqGzuIIBGZG7O28lY8A1MkN85Mc7Kc1ET4y98zY26dJyCXNcN9lxcXlp4jrHR1JqmOLXNmL9Zc0sBGTgdtsduiDtsXGTLLbYaJ1opqh0FS2qjnL3NeH6m5z1G7W6Rttk9VbcM8f3CLiqijoaajhpqmppICyogZO8NYGRjD3NyDhudsbrBq04V+VFn+/QfqNQaj02UrqTj+tD7NHauYDIGslEnrAL3fxjjoXeXZYQLc+miGGHj6uENBcKIOJc4Vjy4yuL3ZezJOGHsNvsWFQelpOFT8D0Nw4md4ZKQerUJPepkBGr/YzU77dKze52AJPYDutJxcfguK38Nxn/26LmVWPnVUmHPz/pGln+0oM39pJ+1SoUoCIiAiIghaO222ksNFFe73C2aSUaqC3P8A8fylk8oh5dXfZlUEEpp545gyN5jcHhsjdTXYOcEdwvtcrlV3eulrq6Z01RKcucf6ADsANgOyD4TzOqJ5JnhgfI4vIY0NbknOwGwHuXhThEBERAREQEREBERAREQEREBERAREQEREBERAREQEREBERAUKVCDQ8BM18SwjSx2IpjvjUP4bt2Z21+We6jj2jnpeJal8sMcbJtL4zGQQ5ukDO3fOc+/K+HB9FQ3DiGmp7lA+eldqL2MdpJw047jb8V8OJbfDa73VUdPFLFHEWgNlxq9kEnqdiSSN+hCCrVpwr8qLP9+g/UaqtWnCvyos/wB+g/Uag03poz8fa7L7u/r/AO4jBHjdtH/lfRWFW79NVTHU8fVpjulTcQzLC6ePQYSHuzE3YZa3sd8+awiDQ8FU0Lru+51bQ6ktMLq+UHo8sxy2f7nlg+zKpKqqlramaqncXzTPdJI493E5J/mVfzj4I4Hp4ek97qDUP8xBES1g+xzy8/7Qs4gBSiICIiB0VybFFQWT4Rukr4ZqpuaClYBrlGd5X59mPqB3cem2657HV26gqnVVwpHVhiZqggO0b5M7czvpHXA64wue5XGru9bLXV0zpqiU5c4/0AHYAbAdkHMiIgIiICIiAiIgIiICIiAiIgIiICIiAiIgIiICIiAiIgIiICIiAoKlEF9wbQz1NfNURw1UjIInBzqanFQ+NzmkMdyz7Q1dVw8Q+sm81Prc1TNPkan1EHJefCMZZ83bAx5YXHHVTwRSwxSuZHLp1gfOx0/5XyJLjkkk+ZQeVacK/Kiz/foP1Gr4UtluVbTmppaCqngEgi5kcZc3WSAG5HfJH8wu2wUlRQcYWmmq4JIJ2V1PqjkbpcMvaRt9iDSem+qmquP6szXaluZY3Q10DA0QND3Yidjq5vcrEUNFNca2noqdpdNUSNiYB9JxwP8Albf041E8/pAqzUV1uqyxuhhohgRtD3YY/f2x3VNwODRVNffyBptFI+ZhPQzP/hxD/wAnav8Aag+PGtZDVcQzwUrg6koGsoacg7FkQ05/Egu/FUSb9ySfMoglERAXZWWmsoKSkqqqMRMq2l8LXOGtzB87T1DT2J64KsbNBbbbR/DVz5NW8PLaS3h2ea8fPlx0jHl1cfcqu43Kru9bLW1szpqiU5c4/wBAB2A6ADog5kREBERAREQEREBERAREQEREBERAREQEREBERAREQEREBERAREQEREBERAKhSoKDQcP8VRcP0YZFQyPqvWWTPl5+GvjaQeWW6TgZGcgjJxnOMKzsHGVRJxfbjTUVDHDNU0kIbUU8dRIxrAyMYe5uQcNztjdYsqz4W+VFn+/QfqNQaz05wTQekCqE1Bb6IuZraKN2RK0vdh79h4z3VHUf9L4DpIBgTXirdUv8+TCNDPwL3Sf+KuvTdbm0fpBqo4LR8HGcczSJhJz3Oe7+Lt01fR7Kj47cIL421RkGK008VA3B2LmDLz+L3PQZ5SoUoJ7J0WjtltpbFRRXu9wiZ8o10Fuf/j/5knlGD2+d9mVSV9fUXStmrauTmTzO1PdjG/uA6D3IOfCIiAiIgIiICIiAiIgIiICIiAiIgIiICIiAiIgIiICIiAiIgIiICIiCFKhAglERAQohQeSrPhX5UWf79B+o1Vis+FvlRZ/v0H6jUH6JxfbaRvpmMjrVV0NLTF9xqW1L9fObGXyGRu5wxxaABt16L8sqamWtqZqqZxdLPI6V5Pdzjkr9X9JL46O6cX3SGa6yOlEdrYbgCC10krnyCPP+GGx4GPpL8jQSFK0FPZKS02Y3S+h5lq43CgoWu0vkztzn/RjHbu4+5Z9B019fVXSqfV1s755341Ped8AYA9wA7LnREBERAREQEREBERAREQEREBERAREQEREBERAREQEREBERAREQERQUDuiIgIiIAKlQpBQFBUqCggqz4W+U9n+/QfqNXBDBLUzMggjfLLI4MYxgyXE9AArWw0dRb+MLTTVcEkEzK6n1MeMEZe0j+hQb70+VTYrjS2+K41lcJp6itkNSMGM6+W2NowPC3Q/HuK/NbLW0ttuEdXV0LK9kQJbBI7DHPx4dXm0HcjbK3/p6gqZuNKy5Vc8UbHPbTUtM4nmuiY3eTHZusuAz17bL8yQddyudZea6aur53T1Exy55/oAOwA2AHRcygIglMqEQTlTleUQespleUQesqMqEygnKnK85RB6ymV5RB6yoyoRB6ymV5RB6ymV5RB6yoyoRB6ymV5RB6ymV5RB6yi8qUEooypQERCUEEoiICIiAiIgIiIAKkqEyg67RcXWm6Ule2MSGnlbJoJwHYPTPZaaw8W1snF9LPQUERic+maYXUzKmRsULWtyHObkHS0kkYWOXfY7qLPXGodBz2Phkgkj16SWvYWnBwcHB8ig1HF3pGvFdxPdJtNC9nrMjY/WrZAZWsDiGtdqYTkDA3VR8erv9TZ/yqm/bVRda511udXXvYI3VMz5iwHIbqJOP6rmQaD49Xf6qz/lVN+2nx6u/1Vo/Kqb9tZ9EGg+PV3+qtH5VTftqz4c4pvNwusGu3W6qpIZGSVTYrRTuIi1DV0ZnpnpusYrOxXeGzyVEr6R880kRjikZNoMBPV4y1wJxkDyztug0XEvFN4t91qHxWy30lDPK+SjE1np2l0Orw9WZ6Edd91VfHu8fVWj8qpv218eJOJTxF6vmkbTmLU5+JC7W9zWNJGwwMMbtv33VGg0Xx7vH1Vo/Kqb9tPj3ePqrR+VU37azqINF8e7v9VaPyqm/bXdY+NLlPdKd1VRWuaihe2arDLTTnEDXDWdmZ6f8rHq3sHEIskdZDJbaSuhrI+XI2fUCBg4wQfMg4OfZCC+4j4pvdvuk7m2230lHPI+SjEtnp2l0Jd4erM9MdVWfHu7/AFVo/Kqb9tc3EXEh4gFKPVG0wgDi7Ehfre4NBPQYHgG2/wBqpkGi+Pd4+qtH5VTftp8e7x9VaPyqm/bWdUoNB8e7v9VaPyqm/bVjw/xrXy3eldW0drmoIZGzVjWWmnJEDXDWdmZ6LGq64e4ibYYbhE6ghrG1sIicJCNgMnByDkZwSNj4RuEF1xDxTe7dc5v+m26kpZ3vkpWy2inaTCXHSd2Z6YVZ8e7v9VaPyqm/bXPxJxG7iF9O40rabkhxcA8u1vdjUegwNhgf1VMg0Px7u/1Nn/Kqb9tT8e7v9VZ/yqm/bWdUhBofj1d/qrP+VU37a67XxTxFdatsFHbrdVPHidHFaKdx05Gekfv/AKrJ4V3wlxM/hS5urmUrakuj5eku048TXZzg92+XfbB3QXnEnFN3pLjNUU1st9NbKmV7qIy2enbqizlvVmehHXzVT8erv9VaPyqm/bXxvvEzr5R0lO6kbA6DBe8PLuYRGyMYGNhpjHnvlUqDQfHm7/U2j8rpv20+PN3+ptH5XTftrPog0Hx5u/1No/K6b9tX3Dl6vdVdbd8I2aknt9WJHYjs8GZWNBBLSGA7EjcLArQ2fi91rgpad9GKiKBszHDmlpeJHRu2ODjBjHn1KCoqrRcKCmiqKuiqIIpSWsfIwtDiOoXMFe37ix9+oWUz6NkL+cJpJGvJDyGlrQBjbAPmc+5UKASiIgIiICIiAiIgIiICIiAiIgYTCZUoGEwiIIwilEELWW21WKvorJSSSQQ1VXzX1MpeQ5jWvfjxF+lpIaAAWb56rJ4UIN2/guxSPdBFdYg2BtU3n+sMAleyXDNWScAswdhuuObg+0jiKzWuluktXFXM1SyRuj2OknwnoM46O6LIYC9RSPheJInujeOjmnBH4oN1DwLw7IX6r88BtRy8tlhJxkDRjO7sEnUPD4e6R8KcOxQPikrYpqhta2Jr2VTdIi57WOc7pq8LuwHdYPA8kwEG3puD+GamqjZ8PuDJaU1QDXR6meJrdBztqB5hI7gDzyquxWKzXCGibVVs0dRUzzMdiWNjI442ggnIJ1OyQO2yzmAmAg354L4ZkqvVheXNbCKgPmbNGTMWzBrcAnAwwh3v7d1WcPUNnlhswuNPFJFUVlVFNIZOWQBHHoJI7DJIHclZPAKYQaDh/h62XWCqdPdmxyQ0hma0kRNEm/hJcN+nzR+IWhrvR7YKKpnhkvksT4qd0nJfJEZCQ4DOxwBg50nDl+fEA9QF6lkfPI6SV75HuOXOecknzJKDa0PDfD1NdImVdR6zR/wHlzqiMc4Oa8uLdJ8Lchowd/sXyi4YskgpJ/XWuEz4mSNE7AyAOijcdQLtRJc5w22Gk5WNwEwEG8h4WsLjS3GnlmMTZKGI073tkbNJK1hIyBsBibUDuMDzVRT2y30vEktJc6bFHVcw0zxKGtjYXkNkznoGtd//AArO8yTl8rmP5erXoycaumcea8kl2MknAwM+SC24nttNa7q6Ojngmp5GiWPku1BjTnDScnfAz+PboqlAEwgJhSiBhMIiCMImUQEREBERAREQEREBERAREQEREBERAREQMqURAREQEwiIIREQEREBERAREQEREBERATCIglERAREQRlERAREQEREBERAREQEREH//2Q==)"
      ]
    },
    {
      "cell_type": "code",
      "metadata": {
        "colab": {
          "base_uri": "https://localhost:8080/",
          "height": 1000
        },
        "id": "lhBOpXo-9cVk",
        "outputId": "b598e33d-5dd9-41b4-9cfc-85e9547d5cf6"
      },
      "source": [
        "models = dict()\n",
        "models['Random Forest'] = RandomForestClassifier(n_estimators=300)\n",
        "models['LogReg'] = LogisticRegression()\n",
        "models['GradientBoost'] = GradientBoostingClassifier(n_estimators=400,learning_rate=0.01)\n",
        "models['AdaBoost'] = AdaBoostClassifier(n_estimators=200)\n",
        "models['XGBoost'] =  XGBClassifier(n_estimators=200,max_depth=5)\n",
        "\n",
        "for model in models:\n",
        "  models[model].fit(X_train, y_train)\n",
        "\n",
        "from sklearn.metrics import roc_curve\n",
        "fig, ax = plt.subplots()\n",
        "fig.set_size_inches(15,8)\n",
        "\n",
        "for m in models:\n",
        "  y_pred = models[m].predict_proba(X_test)\n",
        "  fpr, tpr, _ = roc_curve(y_test, y_pred[:,1].ravel())\n",
        "  plt.plot(fpr,tpr,label = m)\n",
        "  plt.xlabel('False-positive rate')\n",
        "  plt.ylabel('True-positive rate')\n",
        "  plt.legend()\n",
        "  plt.show()"
      ],
      "execution_count": null,
      "outputs": [
        {
          "output_type": "display_data",
          "data": {
            "image/png": "[encoded data removed]",
            "text/plain": [
              "<Figure size 1080x576 with 1 Axes>"
            ]
          },
          "metadata": {
            "tags": [],
            "needs_background": "light"
          }
        },
        {
          "output_type": "display_data",
          "data": {
            "image/png": "[encoded data removed]",
            "text/plain": [
              "<Figure size 432x288 with 1 Axes>"
            ]
          },
          "metadata": {
            "tags": [],
            "needs_background": "light"
          }
        },
        {
          "output_type": "display_data",
          "data": {
            "image/png": "[encoded data removed]",
            "text/plain": [
              "<Figure size 432x288 with 1 Axes>"
            ]
          },
          "metadata": {
            "tags": [],
            "needs_background": "light"
          }
        },
        {
          "output_type": "display_data",
          "data": {
            "image/png": "[encoded data removed]",
            "text/plain": [
              "<Figure size 432x288 with 1 Axes>"
            ]
          },
          "metadata": {
            "tags": [],
            "needs_background": "light"
          }
        },
        {
          "output_type": "display_data",
          "data": {
            "image/png": "[encoded data removed]",
            "text/plain": [
              "<Figure size 432x288 with 1 Axes>"
            ]
          },
          "metadata": {
            "tags": [],
            "needs_background": "light"
          }
        }
      ]
    }
  ]
}